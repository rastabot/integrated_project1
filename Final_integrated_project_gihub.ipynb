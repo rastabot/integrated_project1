{
 "cells": [
  {
   "cell_type": "markdown",
   "metadata": {},
   "source": [
    "# Introduction:\n",
    "**The online store Ice sells video games all over the world.\n",
    "User reviews, expert reviews, genres, platforms (e.g. Xbox or PlayStation), and historical data on game sales were provided in order to identify patterns that determine whether a game succeeds or not. Analysing the data set should provide insights that may be applied when plannng a marketing campaign for 2017.**"
   ]
  },
  {
   "cell_type": "markdown",
   "metadata": {},
   "source": [
    "# Step 1. Open the data file and study the general information"
   ]
  },
  {
   "cell_type": "code",
   "execution_count": 771,
   "metadata": {},
   "outputs": [],
   "source": [
    "# Loading all the libraries\n",
    "import pandas as pd\n",
    "import numpy as np\n",
    "import seaborn as sns\n",
    "import matplotlib.pyplot as plt\n",
    "import scipy\n",
    "from scipy import stats as st\n",
    "import sidetable\n",
    "%matplotlib inline"
   ]
  },
  {
   "cell_type": "code",
   "execution_count": 772,
   "metadata": {},
   "outputs": [],
   "source": [
    "# Loading data  \n",
    "try:\n",
    "    games=pd.read_csv('games.csv')\n",
    "except :\n",
    "    games=pd.read_csv('/datasets/games.csv')"
   ]
  },
  {
   "cell_type": "code",
   "execution_count": 773,
   "metadata": {},
   "outputs": [
    {
     "data": {
      "text/html": [
       "<div>\n",
       "<style scoped>\n",
       "    .dataframe tbody tr th:only-of-type {\n",
       "        vertical-align: middle;\n",
       "    }\n",
       "\n",
       "    .dataframe tbody tr th {\n",
       "        vertical-align: top;\n",
       "    }\n",
       "\n",
       "    .dataframe thead th {\n",
       "        text-align: right;\n",
       "    }\n",
       "</style>\n",
       "<table border=\"1\" class=\"dataframe\">\n",
       "  <thead>\n",
       "    <tr style=\"text-align: right;\">\n",
       "      <th></th>\n",
       "      <th>Name</th>\n",
       "      <th>Platform</th>\n",
       "      <th>Year_of_Release</th>\n",
       "      <th>Genre</th>\n",
       "      <th>NA_sales</th>\n",
       "      <th>EU_sales</th>\n",
       "      <th>JP_sales</th>\n",
       "      <th>Other_sales</th>\n",
       "      <th>Critic_Score</th>\n",
       "      <th>User_Score</th>\n",
       "      <th>Rating</th>\n",
       "    </tr>\n",
       "  </thead>\n",
       "  <tbody>\n",
       "    <tr>\n",
       "      <th>0</th>\n",
       "      <td>Wii Sports</td>\n",
       "      <td>Wii</td>\n",
       "      <td>2006.0</td>\n",
       "      <td>Sports</td>\n",
       "      <td>41.36</td>\n",
       "      <td>28.96</td>\n",
       "      <td>3.77</td>\n",
       "      <td>8.45</td>\n",
       "      <td>76.0</td>\n",
       "      <td>8</td>\n",
       "      <td>E</td>\n",
       "    </tr>\n",
       "    <tr>\n",
       "      <th>1</th>\n",
       "      <td>Super Mario Bros.</td>\n",
       "      <td>NES</td>\n",
       "      <td>1985.0</td>\n",
       "      <td>Platform</td>\n",
       "      <td>29.08</td>\n",
       "      <td>3.58</td>\n",
       "      <td>6.81</td>\n",
       "      <td>0.77</td>\n",
       "      <td>NaN</td>\n",
       "      <td>NaN</td>\n",
       "      <td>NaN</td>\n",
       "    </tr>\n",
       "    <tr>\n",
       "      <th>2</th>\n",
       "      <td>Mario Kart Wii</td>\n",
       "      <td>Wii</td>\n",
       "      <td>2008.0</td>\n",
       "      <td>Racing</td>\n",
       "      <td>15.68</td>\n",
       "      <td>12.76</td>\n",
       "      <td>3.79</td>\n",
       "      <td>3.29</td>\n",
       "      <td>82.0</td>\n",
       "      <td>8.3</td>\n",
       "      <td>E</td>\n",
       "    </tr>\n",
       "    <tr>\n",
       "      <th>3</th>\n",
       "      <td>Wii Sports Resort</td>\n",
       "      <td>Wii</td>\n",
       "      <td>2009.0</td>\n",
       "      <td>Sports</td>\n",
       "      <td>15.61</td>\n",
       "      <td>10.93</td>\n",
       "      <td>3.28</td>\n",
       "      <td>2.95</td>\n",
       "      <td>80.0</td>\n",
       "      <td>8</td>\n",
       "      <td>E</td>\n",
       "    </tr>\n",
       "    <tr>\n",
       "      <th>4</th>\n",
       "      <td>Pokemon Red/Pokemon Blue</td>\n",
       "      <td>GB</td>\n",
       "      <td>1996.0</td>\n",
       "      <td>Role-Playing</td>\n",
       "      <td>11.27</td>\n",
       "      <td>8.89</td>\n",
       "      <td>10.22</td>\n",
       "      <td>1.00</td>\n",
       "      <td>NaN</td>\n",
       "      <td>NaN</td>\n",
       "      <td>NaN</td>\n",
       "    </tr>\n",
       "  </tbody>\n",
       "</table>\n",
       "</div>"
      ],
      "text/plain": [
       "                       Name Platform  Year_of_Release         Genre  NA_sales  \\\n",
       "0                Wii Sports      Wii           2006.0        Sports     41.36   \n",
       "1         Super Mario Bros.      NES           1985.0      Platform     29.08   \n",
       "2            Mario Kart Wii      Wii           2008.0        Racing     15.68   \n",
       "3         Wii Sports Resort      Wii           2009.0        Sports     15.61   \n",
       "4  Pokemon Red/Pokemon Blue       GB           1996.0  Role-Playing     11.27   \n",
       "\n",
       "   EU_sales  JP_sales  Other_sales  Critic_Score User_Score Rating  \n",
       "0     28.96      3.77         8.45          76.0          8      E  \n",
       "1      3.58      6.81         0.77           NaN        NaN    NaN  \n",
       "2     12.76      3.79         3.29          82.0        8.3      E  \n",
       "3     10.93      3.28         2.95          80.0          8      E  \n",
       "4      8.89     10.22         1.00           NaN        NaN    NaN  "
      ]
     },
     "execution_count": 773,
     "metadata": {},
     "output_type": "execute_result"
    }
   ],
   "source": [
    "games.head()"
   ]
  },
  {
   "cell_type": "code",
   "execution_count": 774,
   "metadata": {
    "scrolled": true
   },
   "outputs": [
    {
     "data": {
      "text/html": [
       "<div>\n",
       "<style scoped>\n",
       "    .dataframe tbody tr th:only-of-type {\n",
       "        vertical-align: middle;\n",
       "    }\n",
       "\n",
       "    .dataframe tbody tr th {\n",
       "        vertical-align: top;\n",
       "    }\n",
       "\n",
       "    .dataframe thead th {\n",
       "        text-align: right;\n",
       "    }\n",
       "</style>\n",
       "<table border=\"1\" class=\"dataframe\">\n",
       "  <thead>\n",
       "    <tr style=\"text-align: right;\">\n",
       "      <th></th>\n",
       "      <th>Name</th>\n",
       "      <th>Platform</th>\n",
       "      <th>Year_of_Release</th>\n",
       "      <th>Genre</th>\n",
       "      <th>NA_sales</th>\n",
       "      <th>EU_sales</th>\n",
       "      <th>JP_sales</th>\n",
       "      <th>Other_sales</th>\n",
       "      <th>Critic_Score</th>\n",
       "      <th>User_Score</th>\n",
       "      <th>Rating</th>\n",
       "    </tr>\n",
       "  </thead>\n",
       "  <tbody>\n",
       "    <tr>\n",
       "      <th>10330</th>\n",
       "      <td>Aqua Aqua</td>\n",
       "      <td>PS2</td>\n",
       "      <td>2000.0</td>\n",
       "      <td>Puzzle</td>\n",
       "      <td>0.05</td>\n",
       "      <td>0.04</td>\n",
       "      <td>0.00</td>\n",
       "      <td>0.01</td>\n",
       "      <td>79.0</td>\n",
       "      <td>tbd</td>\n",
       "      <td>E</td>\n",
       "    </tr>\n",
       "    <tr>\n",
       "      <th>11873</th>\n",
       "      <td>Harukanaru Toki no Naka de 4</td>\n",
       "      <td>PS2</td>\n",
       "      <td>2008.0</td>\n",
       "      <td>Adventure</td>\n",
       "      <td>0.00</td>\n",
       "      <td>0.00</td>\n",
       "      <td>0.07</td>\n",
       "      <td>0.00</td>\n",
       "      <td>NaN</td>\n",
       "      <td>NaN</td>\n",
       "      <td>NaN</td>\n",
       "    </tr>\n",
       "    <tr>\n",
       "      <th>10660</th>\n",
       "      <td>LEGO Rock Raiders</td>\n",
       "      <td>PS</td>\n",
       "      <td>1999.0</td>\n",
       "      <td>Strategy</td>\n",
       "      <td>0.06</td>\n",
       "      <td>0.04</td>\n",
       "      <td>0.00</td>\n",
       "      <td>0.01</td>\n",
       "      <td>NaN</td>\n",
       "      <td>NaN</td>\n",
       "      <td>NaN</td>\n",
       "    </tr>\n",
       "    <tr>\n",
       "      <th>4407</th>\n",
       "      <td>LEGO Star Wars II: The Original Trilogy</td>\n",
       "      <td>XB</td>\n",
       "      <td>2006.0</td>\n",
       "      <td>Action</td>\n",
       "      <td>0.33</td>\n",
       "      <td>0.10</td>\n",
       "      <td>0.00</td>\n",
       "      <td>0.02</td>\n",
       "      <td>85.0</td>\n",
       "      <td>8.6</td>\n",
       "      <td>E10+</td>\n",
       "    </tr>\n",
       "    <tr>\n",
       "      <th>2775</th>\n",
       "      <td>Crysis 2</td>\n",
       "      <td>PC</td>\n",
       "      <td>2011.0</td>\n",
       "      <td>Action</td>\n",
       "      <td>0.16</td>\n",
       "      <td>0.45</td>\n",
       "      <td>0.00</td>\n",
       "      <td>0.13</td>\n",
       "      <td>86.0</td>\n",
       "      <td>6.8</td>\n",
       "      <td>M</td>\n",
       "    </tr>\n",
       "  </tbody>\n",
       "</table>\n",
       "</div>"
      ],
      "text/plain": [
       "                                          Name Platform  Year_of_Release  \\\n",
       "10330                                Aqua Aqua      PS2           2000.0   \n",
       "11873             Harukanaru Toki no Naka de 4      PS2           2008.0   \n",
       "10660                        LEGO Rock Raiders       PS           1999.0   \n",
       "4407   LEGO Star Wars II: The Original Trilogy       XB           2006.0   \n",
       "2775                                  Crysis 2       PC           2011.0   \n",
       "\n",
       "           Genre  NA_sales  EU_sales  JP_sales  Other_sales  Critic_Score  \\\n",
       "10330     Puzzle      0.05      0.04      0.00         0.01          79.0   \n",
       "11873  Adventure      0.00      0.00      0.07         0.00           NaN   \n",
       "10660   Strategy      0.06      0.04      0.00         0.01           NaN   \n",
       "4407      Action      0.33      0.10      0.00         0.02          85.0   \n",
       "2775      Action      0.16      0.45      0.00         0.13          86.0   \n",
       "\n",
       "      User_Score Rating  \n",
       "10330        tbd      E  \n",
       "11873        NaN    NaN  \n",
       "10660        NaN    NaN  \n",
       "4407         8.6   E10+  \n",
       "2775         6.8      M  "
      ]
     },
     "execution_count": 774,
     "metadata": {},
     "output_type": "execute_result"
    }
   ],
   "source": [
    "games.sample(5)"
   ]
  },
  {
   "cell_type": "code",
   "execution_count": 775,
   "metadata": {},
   "outputs": [
    {
     "data": {
      "text/html": [
       "<div>\n",
       "<style scoped>\n",
       "    .dataframe tbody tr th:only-of-type {\n",
       "        vertical-align: middle;\n",
       "    }\n",
       "\n",
       "    .dataframe tbody tr th {\n",
       "        vertical-align: top;\n",
       "    }\n",
       "\n",
       "    .dataframe thead th {\n",
       "        text-align: right;\n",
       "    }\n",
       "</style>\n",
       "<table border=\"1\" class=\"dataframe\">\n",
       "  <thead>\n",
       "    <tr style=\"text-align: right;\">\n",
       "      <th></th>\n",
       "      <th>Name</th>\n",
       "      <th>Platform</th>\n",
       "      <th>Year_of_Release</th>\n",
       "      <th>Genre</th>\n",
       "      <th>NA_sales</th>\n",
       "      <th>EU_sales</th>\n",
       "      <th>JP_sales</th>\n",
       "      <th>Other_sales</th>\n",
       "      <th>Critic_Score</th>\n",
       "      <th>User_Score</th>\n",
       "      <th>Rating</th>\n",
       "    </tr>\n",
       "  </thead>\n",
       "  <tbody>\n",
       "    <tr>\n",
       "      <th>16710</th>\n",
       "      <td>Samurai Warriors: Sanada Maru</td>\n",
       "      <td>PS3</td>\n",
       "      <td>2016.0</td>\n",
       "      <td>Action</td>\n",
       "      <td>0.00</td>\n",
       "      <td>0.00</td>\n",
       "      <td>0.01</td>\n",
       "      <td>0.0</td>\n",
       "      <td>NaN</td>\n",
       "      <td>NaN</td>\n",
       "      <td>NaN</td>\n",
       "    </tr>\n",
       "    <tr>\n",
       "      <th>16711</th>\n",
       "      <td>LMA Manager 2007</td>\n",
       "      <td>X360</td>\n",
       "      <td>2006.0</td>\n",
       "      <td>Sports</td>\n",
       "      <td>0.00</td>\n",
       "      <td>0.01</td>\n",
       "      <td>0.00</td>\n",
       "      <td>0.0</td>\n",
       "      <td>NaN</td>\n",
       "      <td>NaN</td>\n",
       "      <td>NaN</td>\n",
       "    </tr>\n",
       "    <tr>\n",
       "      <th>16712</th>\n",
       "      <td>Haitaka no Psychedelica</td>\n",
       "      <td>PSV</td>\n",
       "      <td>2016.0</td>\n",
       "      <td>Adventure</td>\n",
       "      <td>0.00</td>\n",
       "      <td>0.00</td>\n",
       "      <td>0.01</td>\n",
       "      <td>0.0</td>\n",
       "      <td>NaN</td>\n",
       "      <td>NaN</td>\n",
       "      <td>NaN</td>\n",
       "    </tr>\n",
       "    <tr>\n",
       "      <th>16713</th>\n",
       "      <td>Spirits &amp; Spells</td>\n",
       "      <td>GBA</td>\n",
       "      <td>2003.0</td>\n",
       "      <td>Platform</td>\n",
       "      <td>0.01</td>\n",
       "      <td>0.00</td>\n",
       "      <td>0.00</td>\n",
       "      <td>0.0</td>\n",
       "      <td>NaN</td>\n",
       "      <td>NaN</td>\n",
       "      <td>NaN</td>\n",
       "    </tr>\n",
       "    <tr>\n",
       "      <th>16714</th>\n",
       "      <td>Winning Post 8 2016</td>\n",
       "      <td>PSV</td>\n",
       "      <td>2016.0</td>\n",
       "      <td>Simulation</td>\n",
       "      <td>0.00</td>\n",
       "      <td>0.00</td>\n",
       "      <td>0.01</td>\n",
       "      <td>0.0</td>\n",
       "      <td>NaN</td>\n",
       "      <td>NaN</td>\n",
       "      <td>NaN</td>\n",
       "    </tr>\n",
       "  </tbody>\n",
       "</table>\n",
       "</div>"
      ],
      "text/plain": [
       "                                Name Platform  Year_of_Release       Genre  \\\n",
       "16710  Samurai Warriors: Sanada Maru      PS3           2016.0      Action   \n",
       "16711               LMA Manager 2007     X360           2006.0      Sports   \n",
       "16712        Haitaka no Psychedelica      PSV           2016.0   Adventure   \n",
       "16713               Spirits & Spells      GBA           2003.0    Platform   \n",
       "16714            Winning Post 8 2016      PSV           2016.0  Simulation   \n",
       "\n",
       "       NA_sales  EU_sales  JP_sales  Other_sales  Critic_Score User_Score  \\\n",
       "16710      0.00      0.00      0.01          0.0           NaN        NaN   \n",
       "16711      0.00      0.01      0.00          0.0           NaN        NaN   \n",
       "16712      0.00      0.00      0.01          0.0           NaN        NaN   \n",
       "16713      0.01      0.00      0.00          0.0           NaN        NaN   \n",
       "16714      0.00      0.00      0.01          0.0           NaN        NaN   \n",
       "\n",
       "      Rating  \n",
       "16710    NaN  \n",
       "16711    NaN  \n",
       "16712    NaN  \n",
       "16713    NaN  \n",
       "16714    NaN  "
      ]
     },
     "execution_count": 775,
     "metadata": {},
     "output_type": "execute_result"
    }
   ],
   "source": [
    "games.tail()"
   ]
  },
  {
   "cell_type": "code",
   "execution_count": 776,
   "metadata": {},
   "outputs": [
    {
     "data": {
      "text/html": [
       "<style  type=\"text/css\" >\n",
       "</style><table id=\"T_45931192_9571_11ec_a475_e470b8a528c2\" ><thead>    <tr>        <th class=\"blank level0\" ></th>        <th class=\"col_heading level0 col0\" >missing</th>        <th class=\"col_heading level0 col1\" >total</th>        <th class=\"col_heading level0 col2\" >percent</th>    </tr></thead><tbody>\n",
       "                <tr>\n",
       "                        <th id=\"T_45931192_9571_11ec_a475_e470b8a528c2level0_row0\" class=\"row_heading level0 row0\" >Critic_Score</th>\n",
       "                        <td id=\"T_45931192_9571_11ec_a475_e470b8a528c2row0_col0\" class=\"data row0 col0\" >8,578</td>\n",
       "                        <td id=\"T_45931192_9571_11ec_a475_e470b8a528c2row0_col1\" class=\"data row0 col1\" >16,715</td>\n",
       "                        <td id=\"T_45931192_9571_11ec_a475_e470b8a528c2row0_col2\" class=\"data row0 col2\" >51.32%</td>\n",
       "            </tr>\n",
       "            <tr>\n",
       "                        <th id=\"T_45931192_9571_11ec_a475_e470b8a528c2level0_row1\" class=\"row_heading level0 row1\" >Rating</th>\n",
       "                        <td id=\"T_45931192_9571_11ec_a475_e470b8a528c2row1_col0\" class=\"data row1 col0\" >6,766</td>\n",
       "                        <td id=\"T_45931192_9571_11ec_a475_e470b8a528c2row1_col1\" class=\"data row1 col1\" >16,715</td>\n",
       "                        <td id=\"T_45931192_9571_11ec_a475_e470b8a528c2row1_col2\" class=\"data row1 col2\" >40.48%</td>\n",
       "            </tr>\n",
       "            <tr>\n",
       "                        <th id=\"T_45931192_9571_11ec_a475_e470b8a528c2level0_row2\" class=\"row_heading level0 row2\" >User_Score</th>\n",
       "                        <td id=\"T_45931192_9571_11ec_a475_e470b8a528c2row2_col0\" class=\"data row2 col0\" >6,701</td>\n",
       "                        <td id=\"T_45931192_9571_11ec_a475_e470b8a528c2row2_col1\" class=\"data row2 col1\" >16,715</td>\n",
       "                        <td id=\"T_45931192_9571_11ec_a475_e470b8a528c2row2_col2\" class=\"data row2 col2\" >40.09%</td>\n",
       "            </tr>\n",
       "            <tr>\n",
       "                        <th id=\"T_45931192_9571_11ec_a475_e470b8a528c2level0_row3\" class=\"row_heading level0 row3\" >Year_of_Release</th>\n",
       "                        <td id=\"T_45931192_9571_11ec_a475_e470b8a528c2row3_col0\" class=\"data row3 col0\" >269</td>\n",
       "                        <td id=\"T_45931192_9571_11ec_a475_e470b8a528c2row3_col1\" class=\"data row3 col1\" >16,715</td>\n",
       "                        <td id=\"T_45931192_9571_11ec_a475_e470b8a528c2row3_col2\" class=\"data row3 col2\" >1.61%</td>\n",
       "            </tr>\n",
       "            <tr>\n",
       "                        <th id=\"T_45931192_9571_11ec_a475_e470b8a528c2level0_row4\" class=\"row_heading level0 row4\" >Name</th>\n",
       "                        <td id=\"T_45931192_9571_11ec_a475_e470b8a528c2row4_col0\" class=\"data row4 col0\" >2</td>\n",
       "                        <td id=\"T_45931192_9571_11ec_a475_e470b8a528c2row4_col1\" class=\"data row4 col1\" >16,715</td>\n",
       "                        <td id=\"T_45931192_9571_11ec_a475_e470b8a528c2row4_col2\" class=\"data row4 col2\" >0.01%</td>\n",
       "            </tr>\n",
       "            <tr>\n",
       "                        <th id=\"T_45931192_9571_11ec_a475_e470b8a528c2level0_row5\" class=\"row_heading level0 row5\" >Genre</th>\n",
       "                        <td id=\"T_45931192_9571_11ec_a475_e470b8a528c2row5_col0\" class=\"data row5 col0\" >2</td>\n",
       "                        <td id=\"T_45931192_9571_11ec_a475_e470b8a528c2row5_col1\" class=\"data row5 col1\" >16,715</td>\n",
       "                        <td id=\"T_45931192_9571_11ec_a475_e470b8a528c2row5_col2\" class=\"data row5 col2\" >0.01%</td>\n",
       "            </tr>\n",
       "            <tr>\n",
       "                        <th id=\"T_45931192_9571_11ec_a475_e470b8a528c2level0_row6\" class=\"row_heading level0 row6\" >Platform</th>\n",
       "                        <td id=\"T_45931192_9571_11ec_a475_e470b8a528c2row6_col0\" class=\"data row6 col0\" >0</td>\n",
       "                        <td id=\"T_45931192_9571_11ec_a475_e470b8a528c2row6_col1\" class=\"data row6 col1\" >16,715</td>\n",
       "                        <td id=\"T_45931192_9571_11ec_a475_e470b8a528c2row6_col2\" class=\"data row6 col2\" >0.00%</td>\n",
       "            </tr>\n",
       "            <tr>\n",
       "                        <th id=\"T_45931192_9571_11ec_a475_e470b8a528c2level0_row7\" class=\"row_heading level0 row7\" >NA_sales</th>\n",
       "                        <td id=\"T_45931192_9571_11ec_a475_e470b8a528c2row7_col0\" class=\"data row7 col0\" >0</td>\n",
       "                        <td id=\"T_45931192_9571_11ec_a475_e470b8a528c2row7_col1\" class=\"data row7 col1\" >16,715</td>\n",
       "                        <td id=\"T_45931192_9571_11ec_a475_e470b8a528c2row7_col2\" class=\"data row7 col2\" >0.00%</td>\n",
       "            </tr>\n",
       "            <tr>\n",
       "                        <th id=\"T_45931192_9571_11ec_a475_e470b8a528c2level0_row8\" class=\"row_heading level0 row8\" >EU_sales</th>\n",
       "                        <td id=\"T_45931192_9571_11ec_a475_e470b8a528c2row8_col0\" class=\"data row8 col0\" >0</td>\n",
       "                        <td id=\"T_45931192_9571_11ec_a475_e470b8a528c2row8_col1\" class=\"data row8 col1\" >16,715</td>\n",
       "                        <td id=\"T_45931192_9571_11ec_a475_e470b8a528c2row8_col2\" class=\"data row8 col2\" >0.00%</td>\n",
       "            </tr>\n",
       "            <tr>\n",
       "                        <th id=\"T_45931192_9571_11ec_a475_e470b8a528c2level0_row9\" class=\"row_heading level0 row9\" >JP_sales</th>\n",
       "                        <td id=\"T_45931192_9571_11ec_a475_e470b8a528c2row9_col0\" class=\"data row9 col0\" >0</td>\n",
       "                        <td id=\"T_45931192_9571_11ec_a475_e470b8a528c2row9_col1\" class=\"data row9 col1\" >16,715</td>\n",
       "                        <td id=\"T_45931192_9571_11ec_a475_e470b8a528c2row9_col2\" class=\"data row9 col2\" >0.00%</td>\n",
       "            </tr>\n",
       "            <tr>\n",
       "                        <th id=\"T_45931192_9571_11ec_a475_e470b8a528c2level0_row10\" class=\"row_heading level0 row10\" >Other_sales</th>\n",
       "                        <td id=\"T_45931192_9571_11ec_a475_e470b8a528c2row10_col0\" class=\"data row10 col0\" >0</td>\n",
       "                        <td id=\"T_45931192_9571_11ec_a475_e470b8a528c2row10_col1\" class=\"data row10 col1\" >16,715</td>\n",
       "                        <td id=\"T_45931192_9571_11ec_a475_e470b8a528c2row10_col2\" class=\"data row10 col2\" >0.00%</td>\n",
       "            </tr>\n",
       "    </tbody></table>"
      ],
      "text/plain": [
       "<pandas.io.formats.style.Styler at 0x24dc3e55ba8>"
      ]
     },
     "execution_count": 776,
     "metadata": {},
     "output_type": "execute_result"
    }
   ],
   "source": [
    "#missing data\n",
    "missing_original = games.stb.missing(style=True)\n",
    "missing_original"
   ]
  },
  {
   "cell_type": "markdown",
   "metadata": {},
   "source": [
    "## Missing a lot of data on Critic_Score, Rating and User_Score"
   ]
  },
  {
   "cell_type": "code",
   "execution_count": 777,
   "metadata": {},
   "outputs": [
    {
     "data": {
      "text/html": [
       "<div>\n",
       "<style scoped>\n",
       "    .dataframe tbody tr th:only-of-type {\n",
       "        vertical-align: middle;\n",
       "    }\n",
       "\n",
       "    .dataframe tbody tr th {\n",
       "        vertical-align: top;\n",
       "    }\n",
       "\n",
       "    .dataframe thead th {\n",
       "        text-align: right;\n",
       "    }\n",
       "</style>\n",
       "<table border=\"1\" class=\"dataframe\">\n",
       "  <thead>\n",
       "    <tr style=\"text-align: right;\">\n",
       "      <th></th>\n",
       "      <th>Year_of_Release</th>\n",
       "      <th>NA_sales</th>\n",
       "      <th>EU_sales</th>\n",
       "      <th>JP_sales</th>\n",
       "      <th>Other_sales</th>\n",
       "      <th>Critic_Score</th>\n",
       "    </tr>\n",
       "  </thead>\n",
       "  <tbody>\n",
       "    <tr>\n",
       "      <th>count</th>\n",
       "      <td>16446.000000</td>\n",
       "      <td>16715.000000</td>\n",
       "      <td>16715.000000</td>\n",
       "      <td>16715.000000</td>\n",
       "      <td>16715.000000</td>\n",
       "      <td>8137.000000</td>\n",
       "    </tr>\n",
       "    <tr>\n",
       "      <th>mean</th>\n",
       "      <td>2006.484616</td>\n",
       "      <td>0.263377</td>\n",
       "      <td>0.145060</td>\n",
       "      <td>0.077617</td>\n",
       "      <td>0.047342</td>\n",
       "      <td>68.967679</td>\n",
       "    </tr>\n",
       "    <tr>\n",
       "      <th>std</th>\n",
       "      <td>5.877050</td>\n",
       "      <td>0.813604</td>\n",
       "      <td>0.503339</td>\n",
       "      <td>0.308853</td>\n",
       "      <td>0.186731</td>\n",
       "      <td>13.938165</td>\n",
       "    </tr>\n",
       "    <tr>\n",
       "      <th>min</th>\n",
       "      <td>1980.000000</td>\n",
       "      <td>0.000000</td>\n",
       "      <td>0.000000</td>\n",
       "      <td>0.000000</td>\n",
       "      <td>0.000000</td>\n",
       "      <td>13.000000</td>\n",
       "    </tr>\n",
       "    <tr>\n",
       "      <th>25%</th>\n",
       "      <td>2003.000000</td>\n",
       "      <td>0.000000</td>\n",
       "      <td>0.000000</td>\n",
       "      <td>0.000000</td>\n",
       "      <td>0.000000</td>\n",
       "      <td>60.000000</td>\n",
       "    </tr>\n",
       "    <tr>\n",
       "      <th>50%</th>\n",
       "      <td>2007.000000</td>\n",
       "      <td>0.080000</td>\n",
       "      <td>0.020000</td>\n",
       "      <td>0.000000</td>\n",
       "      <td>0.010000</td>\n",
       "      <td>71.000000</td>\n",
       "    </tr>\n",
       "    <tr>\n",
       "      <th>75%</th>\n",
       "      <td>2010.000000</td>\n",
       "      <td>0.240000</td>\n",
       "      <td>0.110000</td>\n",
       "      <td>0.040000</td>\n",
       "      <td>0.030000</td>\n",
       "      <td>79.000000</td>\n",
       "    </tr>\n",
       "    <tr>\n",
       "      <th>max</th>\n",
       "      <td>2016.000000</td>\n",
       "      <td>41.360000</td>\n",
       "      <td>28.960000</td>\n",
       "      <td>10.220000</td>\n",
       "      <td>10.570000</td>\n",
       "      <td>98.000000</td>\n",
       "    </tr>\n",
       "  </tbody>\n",
       "</table>\n",
       "</div>"
      ],
      "text/plain": [
       "       Year_of_Release      NA_sales      EU_sales      JP_sales  \\\n",
       "count     16446.000000  16715.000000  16715.000000  16715.000000   \n",
       "mean       2006.484616      0.263377      0.145060      0.077617   \n",
       "std           5.877050      0.813604      0.503339      0.308853   \n",
       "min        1980.000000      0.000000      0.000000      0.000000   \n",
       "25%        2003.000000      0.000000      0.000000      0.000000   \n",
       "50%        2007.000000      0.080000      0.020000      0.000000   \n",
       "75%        2010.000000      0.240000      0.110000      0.040000   \n",
       "max        2016.000000     41.360000     28.960000     10.220000   \n",
       "\n",
       "        Other_sales  Critic_Score  \n",
       "count  16715.000000   8137.000000  \n",
       "mean       0.047342     68.967679  \n",
       "std        0.186731     13.938165  \n",
       "min        0.000000     13.000000  \n",
       "25%        0.000000     60.000000  \n",
       "50%        0.010000     71.000000  \n",
       "75%        0.030000     79.000000  \n",
       "max       10.570000     98.000000  "
      ]
     },
     "execution_count": 777,
     "metadata": {},
     "output_type": "execute_result"
    }
   ],
   "source": [
    "games.describe()"
   ]
  },
  {
   "cell_type": "markdown",
   "metadata": {},
   "source": [
    "# Step 2. Prepare the data"
   ]
  },
  {
   "cell_type": "markdown",
   "metadata": {},
   "source": [
    "**Replace the column names (make them lowercase)**"
   ]
  },
  {
   "cell_type": "code",
   "execution_count": 778,
   "metadata": {},
   "outputs": [
    {
     "data": {
      "text/plain": [
       "Index(['Name', 'Platform', 'Year_of_Release', 'Genre', 'NA_sales', 'EU_sales',\n",
       "       'JP_sales', 'Other_sales', 'Critic_Score', 'User_Score', 'Rating'],\n",
       "      dtype='object')"
      ]
     },
     "execution_count": 778,
     "metadata": {},
     "output_type": "execute_result"
    }
   ],
   "source": [
    "games.columns"
   ]
  },
  {
   "cell_type": "code",
   "execution_count": 779,
   "metadata": {},
   "outputs": [],
   "source": [
    "games.columns = games.columns.str.lower()"
   ]
  },
  {
   "cell_type": "code",
   "execution_count": 780,
   "metadata": {},
   "outputs": [
    {
     "data": {
      "text/plain": [
       "Index(['name', 'platform', 'year_of_release', 'genre', 'na_sales', 'eu_sales',\n",
       "       'jp_sales', 'other_sales', 'critic_score', 'user_score', 'rating'],\n",
       "      dtype='object')"
      ]
     },
     "execution_count": 780,
     "metadata": {},
     "output_type": "execute_result"
    }
   ],
   "source": [
    "games.columns"
   ]
  },
  {
   "cell_type": "markdown",
   "metadata": {},
   "source": [
    "**Convert the data to the required types**"
   ]
  },
  {
   "cell_type": "code",
   "execution_count": 781,
   "metadata": {},
   "outputs": [
    {
     "name": "stdout",
     "output_type": "stream",
     "text": [
      "<class 'pandas.core.frame.DataFrame'>\n",
      "RangeIndex: 16715 entries, 0 to 16714\n",
      "Data columns (total 11 columns):\n",
      " #   Column           Non-Null Count  Dtype  \n",
      "---  ------           --------------  -----  \n",
      " 0   name             16713 non-null  object \n",
      " 1   platform         16715 non-null  object \n",
      " 2   year_of_release  16446 non-null  float64\n",
      " 3   genre            16713 non-null  object \n",
      " 4   na_sales         16715 non-null  float64\n",
      " 5   eu_sales         16715 non-null  float64\n",
      " 6   jp_sales         16715 non-null  float64\n",
      " 7   other_sales      16715 non-null  float64\n",
      " 8   critic_score     8137 non-null   float64\n",
      " 9   user_score       10014 non-null  object \n",
      " 10  rating           9949 non-null   object \n",
      "dtypes: float64(6), object(5)\n",
      "memory usage: 1.4+ MB\n"
     ]
    }
   ],
   "source": [
    "games.info()"
   ]
  },
  {
   "cell_type": "markdown",
   "metadata": {},
   "source": [
    "- year_of_release ==> datetime"
   ]
  },
  {
   "cell_type": "markdown",
   "metadata": {},
   "source": [
    "**Here we have a problem, there are missing values but cannot be filled with 0 because they are supposed to be dates.**\n",
    "- I built 2 functions to help extract the most out of the 'name column\n"
   ]
  },
  {
   "cell_type": "code",
   "execution_count": 782,
   "metadata": {},
   "outputs": [],
   "source": [
    "#games['year_of_release'] = pd.to_datetime(games['year_of_release'],format='%Y')"
   ]
  },
  {
   "cell_type": "code",
   "execution_count": 783,
   "metadata": {},
   "outputs": [
    {
     "data": {
      "text/plain": [
       "269"
      ]
     },
     "execution_count": 783,
     "metadata": {},
     "output_type": "execute_result"
    }
   ],
   "source": [
    "games['year_of_release'].isna().sum()"
   ]
  },
  {
   "cell_type": "code",
   "execution_count": 784,
   "metadata": {},
   "outputs": [
    {
     "data": {
      "text/html": [
       "<div>\n",
       "<style scoped>\n",
       "    .dataframe tbody tr th:only-of-type {\n",
       "        vertical-align: middle;\n",
       "    }\n",
       "\n",
       "    .dataframe tbody tr th {\n",
       "        vertical-align: top;\n",
       "    }\n",
       "\n",
       "    .dataframe thead th {\n",
       "        text-align: right;\n",
       "    }\n",
       "</style>\n",
       "<table border=\"1\" class=\"dataframe\">\n",
       "  <thead>\n",
       "    <tr style=\"text-align: right;\">\n",
       "      <th></th>\n",
       "      <th>name</th>\n",
       "      <th>platform</th>\n",
       "      <th>year_of_release</th>\n",
       "      <th>genre</th>\n",
       "      <th>na_sales</th>\n",
       "      <th>eu_sales</th>\n",
       "      <th>jp_sales</th>\n",
       "      <th>other_sales</th>\n",
       "      <th>critic_score</th>\n",
       "      <th>user_score</th>\n",
       "      <th>rating</th>\n",
       "    </tr>\n",
       "  </thead>\n",
       "  <tbody>\n",
       "    <tr>\n",
       "      <th>183</th>\n",
       "      <td>Madden NFL 2004</td>\n",
       "      <td>PS2</td>\n",
       "      <td>NaN</td>\n",
       "      <td>Sports</td>\n",
       "      <td>4.26</td>\n",
       "      <td>0.26</td>\n",
       "      <td>0.01</td>\n",
       "      <td>0.71</td>\n",
       "      <td>94.0</td>\n",
       "      <td>8.5</td>\n",
       "      <td>E</td>\n",
       "    </tr>\n",
       "    <tr>\n",
       "      <th>377</th>\n",
       "      <td>FIFA Soccer 2004</td>\n",
       "      <td>PS2</td>\n",
       "      <td>NaN</td>\n",
       "      <td>Sports</td>\n",
       "      <td>0.59</td>\n",
       "      <td>2.36</td>\n",
       "      <td>0.04</td>\n",
       "      <td>0.51</td>\n",
       "      <td>84.0</td>\n",
       "      <td>6.4</td>\n",
       "      <td>E</td>\n",
       "    </tr>\n",
       "  </tbody>\n",
       "</table>\n",
       "</div>"
      ],
      "text/plain": [
       "                 name platform  year_of_release   genre  na_sales  eu_sales  \\\n",
       "183   Madden NFL 2004      PS2              NaN  Sports      4.26      0.26   \n",
       "377  FIFA Soccer 2004      PS2              NaN  Sports      0.59      2.36   \n",
       "\n",
       "     jp_sales  other_sales  critic_score user_score rating  \n",
       "183      0.01         0.71          94.0        8.5      E  \n",
       "377      0.04         0.51          84.0        6.4      E  "
      ]
     },
     "execution_count": 784,
     "metadata": {},
     "output_type": "execute_result"
    }
   ],
   "source": [
    "games[games['year_of_release'].isna()].head(2)\n",
    "      "
   ]
  },
  {
   "cell_type": "code",
   "execution_count": 785,
   "metadata": {},
   "outputs": [
    {
     "data": {
      "text/plain": [
       "numpy.float64"
      ]
     },
     "execution_count": 785,
     "metadata": {},
     "output_type": "execute_result"
    }
   ],
   "source": [
    "type2= type(games.iloc[183]['year_of_release'])\n",
    "type2"
   ]
  },
  {
   "cell_type": "code",
   "execution_count": null,
   "metadata": {},
   "outputs": [],
   "source": []
  },
  {
   "cell_type": "code",
   "execution_count": 786,
   "metadata": {},
   "outputs": [
    {
     "data": {
      "text/html": [
       "<div>\n",
       "<style scoped>\n",
       "    .dataframe tbody tr th:only-of-type {\n",
       "        vertical-align: middle;\n",
       "    }\n",
       "\n",
       "    .dataframe tbody tr th {\n",
       "        vertical-align: top;\n",
       "    }\n",
       "\n",
       "    .dataframe thead th {\n",
       "        text-align: right;\n",
       "    }\n",
       "</style>\n",
       "<table border=\"1\" class=\"dataframe\">\n",
       "  <thead>\n",
       "    <tr style=\"text-align: right;\">\n",
       "      <th></th>\n",
       "      <th>name</th>\n",
       "      <th>year_of_release</th>\n",
       "      <th>genre</th>\n",
       "      <th>na_sales</th>\n",
       "      <th>eu_sales</th>\n",
       "      <th>jp_sales</th>\n",
       "      <th>other_sales</th>\n",
       "      <th>critic_score</th>\n",
       "      <th>user_score</th>\n",
       "      <th>rating</th>\n",
       "    </tr>\n",
       "    <tr>\n",
       "      <th>platform</th>\n",
       "      <th></th>\n",
       "      <th></th>\n",
       "      <th></th>\n",
       "      <th></th>\n",
       "      <th></th>\n",
       "      <th></th>\n",
       "      <th></th>\n",
       "      <th></th>\n",
       "      <th></th>\n",
       "      <th></th>\n",
       "    </tr>\n",
       "  </thead>\n",
       "  <tbody>\n",
       "    <tr>\n",
       "      <th>PS2</th>\n",
       "      <td>34</td>\n",
       "      <td>0</td>\n",
       "      <td>34</td>\n",
       "      <td>34</td>\n",
       "      <td>34</td>\n",
       "      <td>34</td>\n",
       "      <td>34</td>\n",
       "      <td>23</td>\n",
       "      <td>25</td>\n",
       "      <td>25</td>\n",
       "    </tr>\n",
       "    <tr>\n",
       "      <th>Wii</th>\n",
       "      <td>34</td>\n",
       "      <td>0</td>\n",
       "      <td>34</td>\n",
       "      <td>34</td>\n",
       "      <td>34</td>\n",
       "      <td>34</td>\n",
       "      <td>34</td>\n",
       "      <td>17</td>\n",
       "      <td>24</td>\n",
       "      <td>25</td>\n",
       "    </tr>\n",
       "    <tr>\n",
       "      <th>DS</th>\n",
       "      <td>30</td>\n",
       "      <td>0</td>\n",
       "      <td>30</td>\n",
       "      <td>30</td>\n",
       "      <td>30</td>\n",
       "      <td>30</td>\n",
       "      <td>30</td>\n",
       "      <td>9</td>\n",
       "      <td>16</td>\n",
       "      <td>18</td>\n",
       "    </tr>\n",
       "    <tr>\n",
       "      <th>X360</th>\n",
       "      <td>30</td>\n",
       "      <td>0</td>\n",
       "      <td>30</td>\n",
       "      <td>30</td>\n",
       "      <td>30</td>\n",
       "      <td>30</td>\n",
       "      <td>30</td>\n",
       "      <td>22</td>\n",
       "      <td>22</td>\n",
       "      <td>22</td>\n",
       "    </tr>\n",
       "    <tr>\n",
       "      <th>PS3</th>\n",
       "      <td>25</td>\n",
       "      <td>0</td>\n",
       "      <td>25</td>\n",
       "      <td>25</td>\n",
       "      <td>25</td>\n",
       "      <td>25</td>\n",
       "      <td>25</td>\n",
       "      <td>16</td>\n",
       "      <td>16</td>\n",
       "      <td>17</td>\n",
       "    </tr>\n",
       "  </tbody>\n",
       "</table>\n",
       "</div>"
      ],
      "text/plain": [
       "          name  year_of_release  genre  na_sales  eu_sales  jp_sales  \\\n",
       "platform                                                               \n",
       "PS2         34                0     34        34        34        34   \n",
       "Wii         34                0     34        34        34        34   \n",
       "DS          30                0     30        30        30        30   \n",
       "X360        30                0     30        30        30        30   \n",
       "PS3         25                0     25        25        25        25   \n",
       "\n",
       "          other_sales  critic_score  user_score  rating  \n",
       "platform                                                 \n",
       "PS2                34            23          25      25  \n",
       "Wii                34            17          24      25  \n",
       "DS                 30             9          16      18  \n",
       "X360               30            22          22      22  \n",
       "PS3                25            16          16      17  "
      ]
     },
     "execution_count": 786,
     "metadata": {},
     "output_type": "execute_result"
    }
   ],
   "source": [
    "missing_years_df = games[games['year_of_release'].isna()]\n",
    "missing_years_df.groupby('platform').count().sort_values('name',ascending=False).head()"
   ]
  },
  {
   "cell_type": "code",
   "execution_count": 787,
   "metadata": {},
   "outputs": [],
   "source": [
    "name_list = missing_years_df['name'].to_list()\n",
    "#name_list"
   ]
  },
  {
   "cell_type": "code",
   "execution_count": 788,
   "metadata": {},
   "outputs": [],
   "source": [
    "def extract_year(df):\n",
    "    '''This function splits the Name into separate strings and then compares each string type, \n",
    "    if the type is int return it'''\n",
    "    title= df['name'].split()\n",
    "    for word in title:\n",
    "        try:\n",
    "            if isinstance(int(word), int):\n",
    "                return  int(word)\n",
    "        except:\n",
    "            continue "
   ]
  },
  {
   "cell_type": "code",
   "execution_count": 789,
   "metadata": {},
   "outputs": [
    {
     "name": "stderr",
     "output_type": "stream",
     "text": [
      "C:\\Users\\Thor 3\\Anaconda3\\lib\\site-packages\\ipykernel_launcher.py:1: SettingWithCopyWarning: \n",
      "A value is trying to be set on a copy of a slice from a DataFrame.\n",
      "Try using .loc[row_indexer,col_indexer] = value instead\n",
      "\n",
      "See the caveats in the documentation: https://pandas.pydata.org/pandas-docs/stable/user_guide/indexing.html#returning-a-view-versus-a-copy\n",
      "  \"\"\"Entry point for launching an IPython kernel.\n"
     ]
    }
   ],
   "source": [
    "missing_years_df['year1'] = missing_years_df.apply(extract_year,axis=1)"
   ]
  },
  {
   "cell_type": "code",
   "execution_count": 790,
   "metadata": {},
   "outputs": [],
   "source": [
    "import re\n",
    " \n",
    "def extract_year2(df):\n",
    "    '''using regex - this function extracts the digits in each string,\n",
    "    it also deals with specific cases like 2k6 or 07'''\n",
    "    # initializing string \n",
    "    test_string = df['name']    \n",
    "\n",
    "    temp = re.findall(r'\\d+', test_string)\n",
    "    res = list(map(int, temp))\n",
    "    \n",
    "    # salvaging specific cases\n",
    "    if res:\n",
    "        if res == [2,6]:\n",
    "            year = 2006\n",
    "        elif res[0] ==[2,8]:\n",
    "            year = 2008\n",
    "        elif res[0] in [6]:\n",
    "            year = 2006\n",
    "        elif res[0] in [7]:\n",
    "            year = 2007\n",
    "        elif res[0] in [11]:\n",
    "            year = 2011\n",
    "        elif res[0] in [99]:\n",
    "            year = 1999  \n",
    "        else:\n",
    "            year = res[0]\n",
    "    else:\n",
    "        year = np.nan\n",
    "        \n",
    "    if year>=1999:\n",
    "        return year\n",
    "    else:\n",
    "        return np.nan"
   ]
  },
  {
   "cell_type": "code",
   "execution_count": null,
   "metadata": {},
   "outputs": [],
   "source": []
  },
  {
   "cell_type": "code",
   "execution_count": 791,
   "metadata": {},
   "outputs": [
    {
     "name": "stderr",
     "output_type": "stream",
     "text": [
      "C:\\Users\\Thor 3\\Anaconda3\\lib\\site-packages\\ipykernel_launcher.py:1: SettingWithCopyWarning: \n",
      "A value is trying to be set on a copy of a slice from a DataFrame.\n",
      "Try using .loc[row_indexer,col_indexer] = value instead\n",
      "\n",
      "See the caveats in the documentation: https://pandas.pydata.org/pandas-docs/stable/user_guide/indexing.html#returning-a-view-versus-a-copy\n",
      "  \"\"\"Entry point for launching an IPython kernel.\n"
     ]
    }
   ],
   "source": [
    "missing_years_df['year2'] = missing_years_df.apply(extract_year2,axis=1)"
   ]
  },
  {
   "cell_type": "code",
   "execution_count": 792,
   "metadata": {},
   "outputs": [
    {
     "data": {
      "text/plain": [
       "244"
      ]
     },
     "execution_count": 792,
     "metadata": {},
     "output_type": "execute_result"
    }
   ],
   "source": [
    "missing_years_df['year2'].isna().sum()"
   ]
  },
  {
   "cell_type": "code",
   "execution_count": 793,
   "metadata": {},
   "outputs": [
    {
     "data": {
      "text/html": [
       "<div>\n",
       "<style scoped>\n",
       "    .dataframe tbody tr th:only-of-type {\n",
       "        vertical-align: middle;\n",
       "    }\n",
       "\n",
       "    .dataframe tbody tr th {\n",
       "        vertical-align: top;\n",
       "    }\n",
       "\n",
       "    .dataframe thead th {\n",
       "        text-align: right;\n",
       "    }\n",
       "</style>\n",
       "<table border=\"1\" class=\"dataframe\">\n",
       "  <thead>\n",
       "    <tr style=\"text-align: right;\">\n",
       "      <th></th>\n",
       "      <th>name</th>\n",
       "      <th>year1</th>\n",
       "      <th>year2</th>\n",
       "    </tr>\n",
       "  </thead>\n",
       "  <tbody>\n",
       "    <tr>\n",
       "      <th>183</th>\n",
       "      <td>Madden NFL 2004</td>\n",
       "      <td>2004.0</td>\n",
       "      <td>2004.0</td>\n",
       "    </tr>\n",
       "    <tr>\n",
       "      <th>377</th>\n",
       "      <td>FIFA Soccer 2004</td>\n",
       "      <td>2004.0</td>\n",
       "      <td>2004.0</td>\n",
       "    </tr>\n",
       "    <tr>\n",
       "      <th>475</th>\n",
       "      <td>wwe Smackdown vs. Raw 2006</td>\n",
       "      <td>2006.0</td>\n",
       "      <td>2006.0</td>\n",
       "    </tr>\n",
       "    <tr>\n",
       "      <th>719</th>\n",
       "      <td>Call of Duty 3</td>\n",
       "      <td>3.0</td>\n",
       "      <td>NaN</td>\n",
       "    </tr>\n",
       "    <tr>\n",
       "      <th>1301</th>\n",
       "      <td>Triple Play 99</td>\n",
       "      <td>99.0</td>\n",
       "      <td>1999.0</td>\n",
       "    </tr>\n",
       "  </tbody>\n",
       "</table>\n",
       "</div>"
      ],
      "text/plain": [
       "                            name   year1   year2\n",
       "183              Madden NFL 2004  2004.0  2004.0\n",
       "377             FIFA Soccer 2004  2004.0  2004.0\n",
       "475   wwe Smackdown vs. Raw 2006  2006.0  2006.0\n",
       "719               Call of Duty 3     3.0     NaN\n",
       "1301              Triple Play 99    99.0  1999.0"
      ]
     },
     "execution_count": 793,
     "metadata": {},
     "output_type": "execute_result"
    }
   ],
   "source": [
    "missing_years_df[missing_years_df['year1'].notna()][['name','year1','year2']].head()"
   ]
  },
  {
   "cell_type": "code",
   "execution_count": 794,
   "metadata": {},
   "outputs": [
    {
     "data": {
      "text/html": [
       "<div>\n",
       "<style scoped>\n",
       "    .dataframe tbody tr th:only-of-type {\n",
       "        vertical-align: middle;\n",
       "    }\n",
       "\n",
       "    .dataframe tbody tr th {\n",
       "        vertical-align: top;\n",
       "    }\n",
       "\n",
       "    .dataframe thead th {\n",
       "        text-align: right;\n",
       "    }\n",
       "</style>\n",
       "<table border=\"1\" class=\"dataframe\">\n",
       "  <thead>\n",
       "    <tr style=\"text-align: right;\">\n",
       "      <th></th>\n",
       "      <th>name</th>\n",
       "      <th>year1</th>\n",
       "      <th>year2</th>\n",
       "    </tr>\n",
       "  </thead>\n",
       "  <tbody>\n",
       "    <tr>\n",
       "      <th>183</th>\n",
       "      <td>Madden NFL 2004</td>\n",
       "      <td>2004.0</td>\n",
       "      <td>2004.0</td>\n",
       "    </tr>\n",
       "    <tr>\n",
       "      <th>377</th>\n",
       "      <td>FIFA Soccer 2004</td>\n",
       "      <td>2004.0</td>\n",
       "      <td>2004.0</td>\n",
       "    </tr>\n",
       "    <tr>\n",
       "      <th>475</th>\n",
       "      <td>wwe Smackdown vs. Raw 2006</td>\n",
       "      <td>2006.0</td>\n",
       "      <td>2006.0</td>\n",
       "    </tr>\n",
       "    <tr>\n",
       "      <th>1301</th>\n",
       "      <td>Triple Play 99</td>\n",
       "      <td>99.0</td>\n",
       "      <td>1999.0</td>\n",
       "    </tr>\n",
       "    <tr>\n",
       "      <th>1650</th>\n",
       "      <td>NASCAR Thunder 2003</td>\n",
       "      <td>2003.0</td>\n",
       "      <td>2003.0</td>\n",
       "    </tr>\n",
       "  </tbody>\n",
       "</table>\n",
       "</div>"
      ],
      "text/plain": [
       "                            name   year1   year2\n",
       "183              Madden NFL 2004  2004.0  2004.0\n",
       "377             FIFA Soccer 2004  2004.0  2004.0\n",
       "475   wwe Smackdown vs. Raw 2006  2006.0  2006.0\n",
       "1301              Triple Play 99    99.0  1999.0\n",
       "1650         NASCAR Thunder 2003  2003.0  2003.0"
      ]
     },
     "execution_count": 794,
     "metadata": {},
     "output_type": "execute_result"
    }
   ],
   "source": [
    "missing_years_df[missing_years_df['year2'].notna()][['name','year1','year2']].head()"
   ]
  },
  {
   "cell_type": "code",
   "execution_count": 795,
   "metadata": {},
   "outputs": [
    {
     "data": {
      "text/plain": [
       "269"
      ]
     },
     "execution_count": 795,
     "metadata": {},
     "output_type": "execute_result"
    }
   ],
   "source": [
    "games['year_of_release'].isna().sum()"
   ]
  },
  {
   "cell_type": "code",
   "execution_count": 796,
   "metadata": {},
   "outputs": [],
   "source": [
    "# replace the nan with the extracted years\n",
    "games.loc[games['year_of_release'].isna(),'year_of_release'] = missing_years_df['year2']"
   ]
  },
  {
   "cell_type": "code",
   "execution_count": 797,
   "metadata": {},
   "outputs": [
    {
     "data": {
      "text/plain": [
       "244"
      ]
     },
     "execution_count": 797,
     "metadata": {},
     "output_type": "execute_result"
    }
   ],
   "source": [
    "games['year_of_release'].isna().sum()"
   ]
  },
  {
   "cell_type": "code",
   "execution_count": 798,
   "metadata": {},
   "outputs": [
    {
     "data": {
      "text/plain": [
       "25"
      ]
     },
     "execution_count": 798,
     "metadata": {},
     "output_type": "execute_result"
    }
   ],
   "source": [
    "269-244"
   ]
  },
  {
   "cell_type": "markdown",
   "metadata": {},
   "source": [
    "**only manage to extract the year out 25 rows, not much**"
   ]
  },
  {
   "cell_type": "code",
   "execution_count": 799,
   "metadata": {},
   "outputs": [
    {
     "data": {
      "text/html": [
       "<style  type=\"text/css\" >\n",
       "</style><table id=\"T_45dd3e3a_9571_11ec_99fa_e470b8a528c2\" ><thead>    <tr>        <th class=\"blank level0\" ></th>        <th class=\"col_heading level0 col0\" >missing</th>        <th class=\"col_heading level0 col1\" >total</th>        <th class=\"col_heading level0 col2\" >percent</th>    </tr></thead><tbody>\n",
       "                <tr>\n",
       "                        <th id=\"T_45dd3e3a_9571_11ec_99fa_e470b8a528c2level0_row0\" class=\"row_heading level0 row0\" >critic_score</th>\n",
       "                        <td id=\"T_45dd3e3a_9571_11ec_99fa_e470b8a528c2row0_col0\" class=\"data row0 col0\" >8,578</td>\n",
       "                        <td id=\"T_45dd3e3a_9571_11ec_99fa_e470b8a528c2row0_col1\" class=\"data row0 col1\" >16,715</td>\n",
       "                        <td id=\"T_45dd3e3a_9571_11ec_99fa_e470b8a528c2row0_col2\" class=\"data row0 col2\" >51.32%</td>\n",
       "            </tr>\n",
       "            <tr>\n",
       "                        <th id=\"T_45dd3e3a_9571_11ec_99fa_e470b8a528c2level0_row1\" class=\"row_heading level0 row1\" >rating</th>\n",
       "                        <td id=\"T_45dd3e3a_9571_11ec_99fa_e470b8a528c2row1_col0\" class=\"data row1 col0\" >6,766</td>\n",
       "                        <td id=\"T_45dd3e3a_9571_11ec_99fa_e470b8a528c2row1_col1\" class=\"data row1 col1\" >16,715</td>\n",
       "                        <td id=\"T_45dd3e3a_9571_11ec_99fa_e470b8a528c2row1_col2\" class=\"data row1 col2\" >40.48%</td>\n",
       "            </tr>\n",
       "            <tr>\n",
       "                        <th id=\"T_45dd3e3a_9571_11ec_99fa_e470b8a528c2level0_row2\" class=\"row_heading level0 row2\" >user_score</th>\n",
       "                        <td id=\"T_45dd3e3a_9571_11ec_99fa_e470b8a528c2row2_col0\" class=\"data row2 col0\" >6,701</td>\n",
       "                        <td id=\"T_45dd3e3a_9571_11ec_99fa_e470b8a528c2row2_col1\" class=\"data row2 col1\" >16,715</td>\n",
       "                        <td id=\"T_45dd3e3a_9571_11ec_99fa_e470b8a528c2row2_col2\" class=\"data row2 col2\" >40.09%</td>\n",
       "            </tr>\n",
       "            <tr>\n",
       "                        <th id=\"T_45dd3e3a_9571_11ec_99fa_e470b8a528c2level0_row3\" class=\"row_heading level0 row3\" >year_of_release</th>\n",
       "                        <td id=\"T_45dd3e3a_9571_11ec_99fa_e470b8a528c2row3_col0\" class=\"data row3 col0\" >244</td>\n",
       "                        <td id=\"T_45dd3e3a_9571_11ec_99fa_e470b8a528c2row3_col1\" class=\"data row3 col1\" >16,715</td>\n",
       "                        <td id=\"T_45dd3e3a_9571_11ec_99fa_e470b8a528c2row3_col2\" class=\"data row3 col2\" >1.46%</td>\n",
       "            </tr>\n",
       "            <tr>\n",
       "                        <th id=\"T_45dd3e3a_9571_11ec_99fa_e470b8a528c2level0_row4\" class=\"row_heading level0 row4\" >name</th>\n",
       "                        <td id=\"T_45dd3e3a_9571_11ec_99fa_e470b8a528c2row4_col0\" class=\"data row4 col0\" >2</td>\n",
       "                        <td id=\"T_45dd3e3a_9571_11ec_99fa_e470b8a528c2row4_col1\" class=\"data row4 col1\" >16,715</td>\n",
       "                        <td id=\"T_45dd3e3a_9571_11ec_99fa_e470b8a528c2row4_col2\" class=\"data row4 col2\" >0.01%</td>\n",
       "            </tr>\n",
       "            <tr>\n",
       "                        <th id=\"T_45dd3e3a_9571_11ec_99fa_e470b8a528c2level0_row5\" class=\"row_heading level0 row5\" >genre</th>\n",
       "                        <td id=\"T_45dd3e3a_9571_11ec_99fa_e470b8a528c2row5_col0\" class=\"data row5 col0\" >2</td>\n",
       "                        <td id=\"T_45dd3e3a_9571_11ec_99fa_e470b8a528c2row5_col1\" class=\"data row5 col1\" >16,715</td>\n",
       "                        <td id=\"T_45dd3e3a_9571_11ec_99fa_e470b8a528c2row5_col2\" class=\"data row5 col2\" >0.01%</td>\n",
       "            </tr>\n",
       "            <tr>\n",
       "                        <th id=\"T_45dd3e3a_9571_11ec_99fa_e470b8a528c2level0_row6\" class=\"row_heading level0 row6\" >platform</th>\n",
       "                        <td id=\"T_45dd3e3a_9571_11ec_99fa_e470b8a528c2row6_col0\" class=\"data row6 col0\" >0</td>\n",
       "                        <td id=\"T_45dd3e3a_9571_11ec_99fa_e470b8a528c2row6_col1\" class=\"data row6 col1\" >16,715</td>\n",
       "                        <td id=\"T_45dd3e3a_9571_11ec_99fa_e470b8a528c2row6_col2\" class=\"data row6 col2\" >0.00%</td>\n",
       "            </tr>\n",
       "            <tr>\n",
       "                        <th id=\"T_45dd3e3a_9571_11ec_99fa_e470b8a528c2level0_row7\" class=\"row_heading level0 row7\" >na_sales</th>\n",
       "                        <td id=\"T_45dd3e3a_9571_11ec_99fa_e470b8a528c2row7_col0\" class=\"data row7 col0\" >0</td>\n",
       "                        <td id=\"T_45dd3e3a_9571_11ec_99fa_e470b8a528c2row7_col1\" class=\"data row7 col1\" >16,715</td>\n",
       "                        <td id=\"T_45dd3e3a_9571_11ec_99fa_e470b8a528c2row7_col2\" class=\"data row7 col2\" >0.00%</td>\n",
       "            </tr>\n",
       "            <tr>\n",
       "                        <th id=\"T_45dd3e3a_9571_11ec_99fa_e470b8a528c2level0_row8\" class=\"row_heading level0 row8\" >eu_sales</th>\n",
       "                        <td id=\"T_45dd3e3a_9571_11ec_99fa_e470b8a528c2row8_col0\" class=\"data row8 col0\" >0</td>\n",
       "                        <td id=\"T_45dd3e3a_9571_11ec_99fa_e470b8a528c2row8_col1\" class=\"data row8 col1\" >16,715</td>\n",
       "                        <td id=\"T_45dd3e3a_9571_11ec_99fa_e470b8a528c2row8_col2\" class=\"data row8 col2\" >0.00%</td>\n",
       "            </tr>\n",
       "            <tr>\n",
       "                        <th id=\"T_45dd3e3a_9571_11ec_99fa_e470b8a528c2level0_row9\" class=\"row_heading level0 row9\" >jp_sales</th>\n",
       "                        <td id=\"T_45dd3e3a_9571_11ec_99fa_e470b8a528c2row9_col0\" class=\"data row9 col0\" >0</td>\n",
       "                        <td id=\"T_45dd3e3a_9571_11ec_99fa_e470b8a528c2row9_col1\" class=\"data row9 col1\" >16,715</td>\n",
       "                        <td id=\"T_45dd3e3a_9571_11ec_99fa_e470b8a528c2row9_col2\" class=\"data row9 col2\" >0.00%</td>\n",
       "            </tr>\n",
       "            <tr>\n",
       "                        <th id=\"T_45dd3e3a_9571_11ec_99fa_e470b8a528c2level0_row10\" class=\"row_heading level0 row10\" >other_sales</th>\n",
       "                        <td id=\"T_45dd3e3a_9571_11ec_99fa_e470b8a528c2row10_col0\" class=\"data row10 col0\" >0</td>\n",
       "                        <td id=\"T_45dd3e3a_9571_11ec_99fa_e470b8a528c2row10_col1\" class=\"data row10 col1\" >16,715</td>\n",
       "                        <td id=\"T_45dd3e3a_9571_11ec_99fa_e470b8a528c2row10_col2\" class=\"data row10 col2\" >0.00%</td>\n",
       "            </tr>\n",
       "    </tbody></table>"
      ],
      "text/plain": [
       "<pandas.io.formats.style.Styler at 0x24dbe3533c8>"
      ]
     },
     "execution_count": 799,
     "metadata": {},
     "output_type": "execute_result"
    }
   ],
   "source": [
    "games.stb.missing(style=True)"
   ]
  },
  {
   "cell_type": "markdown",
   "metadata": {},
   "source": [
    "**I may consider dropping the rows with missing years as their missing percentage is low**"
   ]
  },
  {
   "cell_type": "markdown",
   "metadata": {},
   "source": [
    "# **user_score**"
   ]
  },
  {
   "cell_type": "markdown",
   "metadata": {},
   "source": [
    "**Note:Here I researched the user_score column untill it was better understood, after that I  arrived at a strategy**"
   ]
  },
  {
   "cell_type": "code",
   "execution_count": 800,
   "metadata": {},
   "outputs": [
    {
     "data": {
      "text/plain": [
       "tbd    2424\n",
       "7.8     324\n",
       "8       290\n",
       "8.2     282\n",
       "8.3     254\n",
       "       ... \n",
       "1.9       2\n",
       "2.3       2\n",
       "0.7       2\n",
       "0         1\n",
       "9.7       1\n",
       "Name: user_score, Length: 96, dtype: int64"
      ]
     },
     "execution_count": 800,
     "metadata": {},
     "output_type": "execute_result"
    }
   ],
   "source": [
    "games['user_score'].value_counts()"
   ]
  },
  {
   "cell_type": "code",
   "execution_count": 801,
   "metadata": {},
   "outputs": [
    {
     "data": {
      "text/plain": [
       "0          8\n",
       "1        NaN\n",
       "2        8.3\n",
       "3          8\n",
       "4        NaN\n",
       "        ... \n",
       "16710    NaN\n",
       "16711    NaN\n",
       "16712    NaN\n",
       "16713    NaN\n",
       "16714    NaN\n",
       "Name: user_score, Length: 16715, dtype: object"
      ]
     },
     "execution_count": 801,
     "metadata": {},
     "output_type": "execute_result"
    }
   ],
   "source": [
    "games['user_score']"
   ]
  },
  {
   "cell_type": "markdown",
   "metadata": {},
   "source": [
    "# **Researching tbd**"
   ]
  },
  {
   "cell_type": "code",
   "execution_count": 802,
   "metadata": {},
   "outputs": [
    {
     "name": "stdout",
     "output_type": "stream",
     "text": [
      " TBD's are 36% of the missing data  \n",
      "\n",
      " And are 15% of the user_score\n"
     ]
    }
   ],
   "source": [
    "tbd_df = games[games['user_score']=='tbd']\n",
    "tbd_p = tbd_df.shape[0] / games['user_score'].isna().sum()\n",
    "tbd_p2 = tbd_df.shape[0] / games['user_score'].shape[0]\n",
    "\n",
    "print(\" TBD's are {:.0%} of the missing data  \\n\\n And are {:.0%} of the user_score\".format(tbd_p,tbd_p2))"
   ]
  },
  {
   "cell_type": "code",
   "execution_count": 803,
   "metadata": {},
   "outputs": [
    {
     "data": {
      "text/html": [
       "<div>\n",
       "<style scoped>\n",
       "    .dataframe tbody tr th:only-of-type {\n",
       "        vertical-align: middle;\n",
       "    }\n",
       "\n",
       "    .dataframe tbody tr th {\n",
       "        vertical-align: top;\n",
       "    }\n",
       "\n",
       "    .dataframe thead th {\n",
       "        text-align: right;\n",
       "    }\n",
       "</style>\n",
       "<table border=\"1\" class=\"dataframe\">\n",
       "  <thead>\n",
       "    <tr style=\"text-align: right;\">\n",
       "      <th></th>\n",
       "      <th>name</th>\n",
       "      <th>platform</th>\n",
       "      <th>year_of_release</th>\n",
       "      <th>genre</th>\n",
       "      <th>na_sales</th>\n",
       "      <th>eu_sales</th>\n",
       "      <th>jp_sales</th>\n",
       "      <th>other_sales</th>\n",
       "      <th>critic_score</th>\n",
       "      <th>user_score</th>\n",
       "      <th>rating</th>\n",
       "    </tr>\n",
       "  </thead>\n",
       "  <tbody>\n",
       "    <tr>\n",
       "      <th>119</th>\n",
       "      <td>Zumba Fitness</td>\n",
       "      <td>Wii</td>\n",
       "      <td>2010.0</td>\n",
       "      <td>Sports</td>\n",
       "      <td>3.45</td>\n",
       "      <td>2.59</td>\n",
       "      <td>0.0</td>\n",
       "      <td>0.66</td>\n",
       "      <td>NaN</td>\n",
       "      <td>tbd</td>\n",
       "      <td>E</td>\n",
       "    </tr>\n",
       "    <tr>\n",
       "      <th>301</th>\n",
       "      <td>Namco Museum: 50th Anniversary</td>\n",
       "      <td>PS2</td>\n",
       "      <td>2005.0</td>\n",
       "      <td>Misc</td>\n",
       "      <td>2.08</td>\n",
       "      <td>1.35</td>\n",
       "      <td>0.0</td>\n",
       "      <td>0.54</td>\n",
       "      <td>61.0</td>\n",
       "      <td>tbd</td>\n",
       "      <td>E10+</td>\n",
       "    </tr>\n",
       "    <tr>\n",
       "      <th>520</th>\n",
       "      <td>Zumba Fitness 2</td>\n",
       "      <td>Wii</td>\n",
       "      <td>2011.0</td>\n",
       "      <td>Sports</td>\n",
       "      <td>1.51</td>\n",
       "      <td>1.03</td>\n",
       "      <td>0.0</td>\n",
       "      <td>0.27</td>\n",
       "      <td>NaN</td>\n",
       "      <td>tbd</td>\n",
       "      <td>T</td>\n",
       "    </tr>\n",
       "    <tr>\n",
       "      <th>645</th>\n",
       "      <td>uDraw Studio</td>\n",
       "      <td>Wii</td>\n",
       "      <td>2010.0</td>\n",
       "      <td>Misc</td>\n",
       "      <td>1.65</td>\n",
       "      <td>0.57</td>\n",
       "      <td>0.0</td>\n",
       "      <td>0.20</td>\n",
       "      <td>71.0</td>\n",
       "      <td>tbd</td>\n",
       "      <td>E</td>\n",
       "    </tr>\n",
       "    <tr>\n",
       "      <th>657</th>\n",
       "      <td>Frogger's Adventures: Temple of the Frog</td>\n",
       "      <td>GBA</td>\n",
       "      <td>NaN</td>\n",
       "      <td>Adventure</td>\n",
       "      <td>2.15</td>\n",
       "      <td>0.18</td>\n",
       "      <td>0.0</td>\n",
       "      <td>0.07</td>\n",
       "      <td>73.0</td>\n",
       "      <td>tbd</td>\n",
       "      <td>E</td>\n",
       "    </tr>\n",
       "  </tbody>\n",
       "</table>\n",
       "</div>"
      ],
      "text/plain": [
       "                                         name platform  year_of_release  \\\n",
       "119                             Zumba Fitness      Wii           2010.0   \n",
       "301            Namco Museum: 50th Anniversary      PS2           2005.0   \n",
       "520                           Zumba Fitness 2      Wii           2011.0   \n",
       "645                              uDraw Studio      Wii           2010.0   \n",
       "657  Frogger's Adventures: Temple of the Frog      GBA              NaN   \n",
       "\n",
       "         genre  na_sales  eu_sales  jp_sales  other_sales  critic_score  \\\n",
       "119     Sports      3.45      2.59       0.0         0.66           NaN   \n",
       "301       Misc      2.08      1.35       0.0         0.54          61.0   \n",
       "520     Sports      1.51      1.03       0.0         0.27           NaN   \n",
       "645       Misc      1.65      0.57       0.0         0.20          71.0   \n",
       "657  Adventure      2.15      0.18       0.0         0.07          73.0   \n",
       "\n",
       "    user_score rating  \n",
       "119        tbd      E  \n",
       "301        tbd   E10+  \n",
       "520        tbd      T  \n",
       "645        tbd      E  \n",
       "657        tbd      E  "
      ]
     },
     "execution_count": 803,
     "metadata": {},
     "output_type": "execute_result"
    }
   ],
   "source": [
    "tbd_df.head()"
   ]
  },
  {
   "cell_type": "code",
   "execution_count": 804,
   "metadata": {},
   "outputs": [
    {
     "data": {
      "text/html": [
       "<style  type=\"text/css\" >\n",
       "</style><table id=\"T_45f281ec_9571_11ec_a14b_e470b8a528c2\" ><thead>    <tr>        <th class=\"blank level0\" ></th>        <th class=\"col_heading level0 col0\" >platform</th>        <th class=\"col_heading level0 col1\" >count</th>        <th class=\"col_heading level0 col2\" >percent</th>        <th class=\"col_heading level0 col3\" >cumulative_count</th>        <th class=\"col_heading level0 col4\" >cumulative_percent</th>    </tr></thead><tbody>\n",
       "                <tr>\n",
       "                        <th id=\"T_45f281ec_9571_11ec_a14b_e470b8a528c2level0_row0\" class=\"row_heading level0 row0\" >0</th>\n",
       "                        <td id=\"T_45f281ec_9571_11ec_a14b_e470b8a528c2row0_col0\" class=\"data row0 col0\" >DS</td>\n",
       "                        <td id=\"T_45f281ec_9571_11ec_a14b_e470b8a528c2row0_col1\" class=\"data row0 col1\" >756</td>\n",
       "                        <td id=\"T_45f281ec_9571_11ec_a14b_e470b8a528c2row0_col2\" class=\"data row0 col2\" >31.19%</td>\n",
       "                        <td id=\"T_45f281ec_9571_11ec_a14b_e470b8a528c2row0_col3\" class=\"data row0 col3\" >756</td>\n",
       "                        <td id=\"T_45f281ec_9571_11ec_a14b_e470b8a528c2row0_col4\" class=\"data row0 col4\" >31.19%</td>\n",
       "            </tr>\n",
       "            <tr>\n",
       "                        <th id=\"T_45f281ec_9571_11ec_a14b_e470b8a528c2level0_row1\" class=\"row_heading level0 row1\" >1</th>\n",
       "                        <td id=\"T_45f281ec_9571_11ec_a14b_e470b8a528c2row1_col0\" class=\"data row1 col0\" >Wii</td>\n",
       "                        <td id=\"T_45f281ec_9571_11ec_a14b_e470b8a528c2row1_col1\" class=\"data row1 col1\" >440</td>\n",
       "                        <td id=\"T_45f281ec_9571_11ec_a14b_e470b8a528c2row1_col2\" class=\"data row1 col2\" >18.15%</td>\n",
       "                        <td id=\"T_45f281ec_9571_11ec_a14b_e470b8a528c2row1_col3\" class=\"data row1 col3\" >1,196</td>\n",
       "                        <td id=\"T_45f281ec_9571_11ec_a14b_e470b8a528c2row1_col4\" class=\"data row1 col4\" >49.34%</td>\n",
       "            </tr>\n",
       "            <tr>\n",
       "                        <th id=\"T_45f281ec_9571_11ec_a14b_e470b8a528c2level0_row2\" class=\"row_heading level0 row2\" >2</th>\n",
       "                        <td id=\"T_45f281ec_9571_11ec_a14b_e470b8a528c2row2_col0\" class=\"data row2 col0\" >GBA</td>\n",
       "                        <td id=\"T_45f281ec_9571_11ec_a14b_e470b8a528c2row2_col1\" class=\"data row2 col1\" >262</td>\n",
       "                        <td id=\"T_45f281ec_9571_11ec_a14b_e470b8a528c2row2_col2\" class=\"data row2 col2\" >10.81%</td>\n",
       "                        <td id=\"T_45f281ec_9571_11ec_a14b_e470b8a528c2row2_col3\" class=\"data row2 col3\" >1,458</td>\n",
       "                        <td id=\"T_45f281ec_9571_11ec_a14b_e470b8a528c2row2_col4\" class=\"data row2 col4\" >60.15%</td>\n",
       "            </tr>\n",
       "            <tr>\n",
       "                        <th id=\"T_45f281ec_9571_11ec_a14b_e470b8a528c2level0_row3\" class=\"row_heading level0 row3\" >3</th>\n",
       "                        <td id=\"T_45f281ec_9571_11ec_a14b_e470b8a528c2row3_col0\" class=\"data row3 col0\" >PS2</td>\n",
       "                        <td id=\"T_45f281ec_9571_11ec_a14b_e470b8a528c2row3_col1\" class=\"data row3 col1\" >240</td>\n",
       "                        <td id=\"T_45f281ec_9571_11ec_a14b_e470b8a528c2row3_col2\" class=\"data row3 col2\" >9.90%</td>\n",
       "                        <td id=\"T_45f281ec_9571_11ec_a14b_e470b8a528c2row3_col3\" class=\"data row3 col3\" >1,698</td>\n",
       "                        <td id=\"T_45f281ec_9571_11ec_a14b_e470b8a528c2row3_col4\" class=\"data row3 col4\" >70.05%</td>\n",
       "            </tr>\n",
       "            <tr>\n",
       "                        <th id=\"T_45f281ec_9571_11ec_a14b_e470b8a528c2level0_row4\" class=\"row_heading level0 row4\" >4</th>\n",
       "                        <td id=\"T_45f281ec_9571_11ec_a14b_e470b8a528c2row4_col0\" class=\"data row4 col0\" >XB</td>\n",
       "                        <td id=\"T_45f281ec_9571_11ec_a14b_e470b8a528c2row4_col1\" class=\"data row4 col1\" >150</td>\n",
       "                        <td id=\"T_45f281ec_9571_11ec_a14b_e470b8a528c2row4_col2\" class=\"data row4 col2\" >6.19%</td>\n",
       "                        <td id=\"T_45f281ec_9571_11ec_a14b_e470b8a528c2row4_col3\" class=\"data row4 col3\" >1,848</td>\n",
       "                        <td id=\"T_45f281ec_9571_11ec_a14b_e470b8a528c2row4_col4\" class=\"data row4 col4\" >76.24%</td>\n",
       "            </tr>\n",
       "            <tr>\n",
       "                        <th id=\"T_45f281ec_9571_11ec_a14b_e470b8a528c2level0_row5\" class=\"row_heading level0 row5\" >5</th>\n",
       "                        <td id=\"T_45f281ec_9571_11ec_a14b_e470b8a528c2row5_col0\" class=\"data row5 col0\" >PSP</td>\n",
       "                        <td id=\"T_45f281ec_9571_11ec_a14b_e470b8a528c2row5_col1\" class=\"data row5 col1\" >123</td>\n",
       "                        <td id=\"T_45f281ec_9571_11ec_a14b_e470b8a528c2row5_col2\" class=\"data row5 col2\" >5.07%</td>\n",
       "                        <td id=\"T_45f281ec_9571_11ec_a14b_e470b8a528c2row5_col3\" class=\"data row5 col3\" >1,971</td>\n",
       "                        <td id=\"T_45f281ec_9571_11ec_a14b_e470b8a528c2row5_col4\" class=\"data row5 col4\" >81.31%</td>\n",
       "            </tr>\n",
       "            <tr>\n",
       "                        <th id=\"T_45f281ec_9571_11ec_a14b_e470b8a528c2level0_row6\" class=\"row_heading level0 row6\" >6</th>\n",
       "                        <td id=\"T_45f281ec_9571_11ec_a14b_e470b8a528c2row6_col0\" class=\"data row6 col0\" >GC</td>\n",
       "                        <td id=\"T_45f281ec_9571_11ec_a14b_e470b8a528c2row6_col1\" class=\"data row6 col1\" >103</td>\n",
       "                        <td id=\"T_45f281ec_9571_11ec_a14b_e470b8a528c2row6_col2\" class=\"data row6 col2\" >4.25%</td>\n",
       "                        <td id=\"T_45f281ec_9571_11ec_a14b_e470b8a528c2row6_col3\" class=\"data row6 col3\" >2,074</td>\n",
       "                        <td id=\"T_45f281ec_9571_11ec_a14b_e470b8a528c2row6_col4\" class=\"data row6 col4\" >85.56%</td>\n",
       "            </tr>\n",
       "            <tr>\n",
       "                        <th id=\"T_45f281ec_9571_11ec_a14b_e470b8a528c2level0_row7\" class=\"row_heading level0 row7\" >7</th>\n",
       "                        <td id=\"T_45f281ec_9571_11ec_a14b_e470b8a528c2row7_col0\" class=\"data row7 col0\" >PS3</td>\n",
       "                        <td id=\"T_45f281ec_9571_11ec_a14b_e470b8a528c2row7_col1\" class=\"data row7 col1\" >87</td>\n",
       "                        <td id=\"T_45f281ec_9571_11ec_a14b_e470b8a528c2row7_col2\" class=\"data row7 col2\" >3.59%</td>\n",
       "                        <td id=\"T_45f281ec_9571_11ec_a14b_e470b8a528c2row7_col3\" class=\"data row7 col3\" >2,161</td>\n",
       "                        <td id=\"T_45f281ec_9571_11ec_a14b_e470b8a528c2row7_col4\" class=\"data row7 col4\" >89.15%</td>\n",
       "            </tr>\n",
       "            <tr>\n",
       "                        <th id=\"T_45f281ec_9571_11ec_a14b_e470b8a528c2level0_row8\" class=\"row_heading level0 row8\" >8</th>\n",
       "                        <td id=\"T_45f281ec_9571_11ec_a14b_e470b8a528c2row8_col0\" class=\"data row8 col0\" >X360</td>\n",
       "                        <td id=\"T_45f281ec_9571_11ec_a14b_e470b8a528c2row8_col1\" class=\"data row8 col1\" >84</td>\n",
       "                        <td id=\"T_45f281ec_9571_11ec_a14b_e470b8a528c2row8_col2\" class=\"data row8 col2\" >3.47%</td>\n",
       "                        <td id=\"T_45f281ec_9571_11ec_a14b_e470b8a528c2row8_col3\" class=\"data row8 col3\" >2,245</td>\n",
       "                        <td id=\"T_45f281ec_9571_11ec_a14b_e470b8a528c2row8_col4\" class=\"data row8 col4\" >92.62%</td>\n",
       "            </tr>\n",
       "            <tr>\n",
       "                        <th id=\"T_45f281ec_9571_11ec_a14b_e470b8a528c2level0_row9\" class=\"row_heading level0 row9\" >9</th>\n",
       "                        <td id=\"T_45f281ec_9571_11ec_a14b_e470b8a528c2row9_col0\" class=\"data row9 col0\" >3DS</td>\n",
       "                        <td id=\"T_45f281ec_9571_11ec_a14b_e470b8a528c2row9_col1\" class=\"data row9 col1\" >56</td>\n",
       "                        <td id=\"T_45f281ec_9571_11ec_a14b_e470b8a528c2row9_col2\" class=\"data row9 col2\" >2.31%</td>\n",
       "                        <td id=\"T_45f281ec_9571_11ec_a14b_e470b8a528c2row9_col3\" class=\"data row9 col3\" >2,301</td>\n",
       "                        <td id=\"T_45f281ec_9571_11ec_a14b_e470b8a528c2row9_col4\" class=\"data row9 col4\" >94.93%</td>\n",
       "            </tr>\n",
       "            <tr>\n",
       "                        <th id=\"T_45f281ec_9571_11ec_a14b_e470b8a528c2level0_row10\" class=\"row_heading level0 row10\" >10</th>\n",
       "                        <td id=\"T_45f281ec_9571_11ec_a14b_e470b8a528c2row10_col0\" class=\"data row10 col0\" >PC</td>\n",
       "                        <td id=\"T_45f281ec_9571_11ec_a14b_e470b8a528c2row10_col1\" class=\"data row10 col1\" >49</td>\n",
       "                        <td id=\"T_45f281ec_9571_11ec_a14b_e470b8a528c2row10_col2\" class=\"data row10 col2\" >2.02%</td>\n",
       "                        <td id=\"T_45f281ec_9571_11ec_a14b_e470b8a528c2row10_col3\" class=\"data row10 col3\" >2,350</td>\n",
       "                        <td id=\"T_45f281ec_9571_11ec_a14b_e470b8a528c2row10_col4\" class=\"data row10 col4\" >96.95%</td>\n",
       "            </tr>\n",
       "            <tr>\n",
       "                        <th id=\"T_45f281ec_9571_11ec_a14b_e470b8a528c2level0_row11\" class=\"row_heading level0 row11\" >11</th>\n",
       "                        <td id=\"T_45f281ec_9571_11ec_a14b_e470b8a528c2row11_col0\" class=\"data row11 col0\" >PS</td>\n",
       "                        <td id=\"T_45f281ec_9571_11ec_a14b_e470b8a528c2row11_col1\" class=\"data row11 col1\" >45</td>\n",
       "                        <td id=\"T_45f281ec_9571_11ec_a14b_e470b8a528c2row11_col2\" class=\"data row11 col2\" >1.86%</td>\n",
       "                        <td id=\"T_45f281ec_9571_11ec_a14b_e470b8a528c2row11_col3\" class=\"data row11 col3\" >2,395</td>\n",
       "                        <td id=\"T_45f281ec_9571_11ec_a14b_e470b8a528c2row11_col4\" class=\"data row11 col4\" >98.80%</td>\n",
       "            </tr>\n",
       "            <tr>\n",
       "                        <th id=\"T_45f281ec_9571_11ec_a14b_e470b8a528c2level0_row12\" class=\"row_heading level0 row12\" >12</th>\n",
       "                        <td id=\"T_45f281ec_9571_11ec_a14b_e470b8a528c2row12_col0\" class=\"data row12 col0\" >XOne</td>\n",
       "                        <td id=\"T_45f281ec_9571_11ec_a14b_e470b8a528c2row12_col1\" class=\"data row12 col1\" >11</td>\n",
       "                        <td id=\"T_45f281ec_9571_11ec_a14b_e470b8a528c2row12_col2\" class=\"data row12 col2\" >0.45%</td>\n",
       "                        <td id=\"T_45f281ec_9571_11ec_a14b_e470b8a528c2row12_col3\" class=\"data row12 col3\" >2,406</td>\n",
       "                        <td id=\"T_45f281ec_9571_11ec_a14b_e470b8a528c2row12_col4\" class=\"data row12 col4\" >99.26%</td>\n",
       "            </tr>\n",
       "            <tr>\n",
       "                        <th id=\"T_45f281ec_9571_11ec_a14b_e470b8a528c2level0_row13\" class=\"row_heading level0 row13\" >13</th>\n",
       "                        <td id=\"T_45f281ec_9571_11ec_a14b_e470b8a528c2row13_col0\" class=\"data row13 col0\" >PSV</td>\n",
       "                        <td id=\"T_45f281ec_9571_11ec_a14b_e470b8a528c2row13_col1\" class=\"data row13 col1\" >7</td>\n",
       "                        <td id=\"T_45f281ec_9571_11ec_a14b_e470b8a528c2row13_col2\" class=\"data row13 col2\" >0.29%</td>\n",
       "                        <td id=\"T_45f281ec_9571_11ec_a14b_e470b8a528c2row13_col3\" class=\"data row13 col3\" >2,413</td>\n",
       "                        <td id=\"T_45f281ec_9571_11ec_a14b_e470b8a528c2row13_col4\" class=\"data row13 col4\" >99.55%</td>\n",
       "            </tr>\n",
       "            <tr>\n",
       "                        <th id=\"T_45f281ec_9571_11ec_a14b_e470b8a528c2level0_row14\" class=\"row_heading level0 row14\" >14</th>\n",
       "                        <td id=\"T_45f281ec_9571_11ec_a14b_e470b8a528c2row14_col0\" class=\"data row14 col0\" >PS4</td>\n",
       "                        <td id=\"T_45f281ec_9571_11ec_a14b_e470b8a528c2row14_col1\" class=\"data row14 col1\" >6</td>\n",
       "                        <td id=\"T_45f281ec_9571_11ec_a14b_e470b8a528c2row14_col2\" class=\"data row14 col2\" >0.25%</td>\n",
       "                        <td id=\"T_45f281ec_9571_11ec_a14b_e470b8a528c2row14_col3\" class=\"data row14 col3\" >2,419</td>\n",
       "                        <td id=\"T_45f281ec_9571_11ec_a14b_e470b8a528c2row14_col4\" class=\"data row14 col4\" >99.79%</td>\n",
       "            </tr>\n",
       "            <tr>\n",
       "                        <th id=\"T_45f281ec_9571_11ec_a14b_e470b8a528c2level0_row15\" class=\"row_heading level0 row15\" >15</th>\n",
       "                        <td id=\"T_45f281ec_9571_11ec_a14b_e470b8a528c2row15_col0\" class=\"data row15 col0\" >WiiU</td>\n",
       "                        <td id=\"T_45f281ec_9571_11ec_a14b_e470b8a528c2row15_col1\" class=\"data row15 col1\" >5</td>\n",
       "                        <td id=\"T_45f281ec_9571_11ec_a14b_e470b8a528c2row15_col2\" class=\"data row15 col2\" >0.21%</td>\n",
       "                        <td id=\"T_45f281ec_9571_11ec_a14b_e470b8a528c2row15_col3\" class=\"data row15 col3\" >2,424</td>\n",
       "                        <td id=\"T_45f281ec_9571_11ec_a14b_e470b8a528c2row15_col4\" class=\"data row15 col4\" >100.00%</td>\n",
       "            </tr>\n",
       "    </tbody></table>"
      ],
      "text/plain": [
       "<pandas.io.formats.style.Styler at 0x24dbe362128>"
      ]
     },
     "execution_count": 804,
     "metadata": {},
     "output_type": "execute_result"
    }
   ],
   "source": [
    "#lets see which platforms have the most tbd's\n",
    "tbd_df.stb.freq(['platform'],style=True,cum_cols=True)"
   ]
  },
  {
   "cell_type": "markdown",
   "metadata": {},
   "source": [
    "**Strategy :** \n",
    "1. exclude tbd's\n",
    "2. exclude nans\n",
    "3. get median per platform\n",
    "4. replace tbd and nans**\n",
    "\n",
    "**************************************************************"
   ]
  },
  {
   "cell_type": "code",
   "execution_count": 805,
   "metadata": {},
   "outputs": [
    {
     "data": {
      "text/plain": [
       "(14291, 11)"
      ]
     },
     "execution_count": 805,
     "metadata": {},
     "output_type": "execute_result"
    }
   ],
   "source": [
    "no_tbd =  games.loc[games['user_score']!='tbd',:]\n",
    "no_tbd.shape"
   ]
  },
  {
   "cell_type": "code",
   "execution_count": 806,
   "metadata": {},
   "outputs": [
    {
     "name": "stderr",
     "output_type": "stream",
     "text": [
      "C:\\Users\\Thor 3\\Anaconda3\\lib\\site-packages\\ipykernel_launcher.py:2: SettingWithCopyWarning: \n",
      "A value is trying to be set on a copy of a slice from a DataFrame.\n",
      "Try using .loc[row_indexer,col_indexer] = value instead\n",
      "\n",
      "See the caveats in the documentation: https://pandas.pydata.org/pandas-docs/stable/user_guide/indexing.html#returning-a-view-versus-a-copy\n",
      "  \n"
     ]
    }
   ],
   "source": [
    "no_nans_and_tbd = no_tbd.loc[no_tbd['user_score'].notna(),:]\n",
    "no_nans_and_tbd['user_score'] = pd.to_numeric(no_nans_and_tbd['user_score'])"
   ]
  },
  {
   "cell_type": "code",
   "execution_count": 807,
   "metadata": {},
   "outputs": [
    {
     "data": {
      "text/plain": [
       "7590"
      ]
     },
     "execution_count": 807,
     "metadata": {},
     "output_type": "execute_result"
    }
   ],
   "source": [
    "no_nans_and_tbd.shape[0]"
   ]
  },
  {
   "cell_type": "code",
   "execution_count": 808,
   "metadata": {},
   "outputs": [
    {
     "data": {
      "text/plain": [
       "17       9.0\n",
       "24       8.7\n",
       "28       8.4\n",
       "38       8.5\n",
       "48       8.5\n",
       "        ... \n",
       "16050    7.9\n",
       "16152    6.8\n",
       "16287    8.1\n",
       "16429    9.2\n",
       "16591    6.8\n",
       "Name: user_score, Length: 1241, dtype: float64"
      ]
     },
     "execution_count": 808,
     "metadata": {},
     "output_type": "execute_result"
    }
   ],
   "source": [
    "no_nans_and_tbd.loc[no_nans_and_tbd['platform']=='PS2','user_score']"
   ]
  },
  {
   "cell_type": "code",
   "execution_count": 809,
   "metadata": {},
   "outputs": [
    {
     "data": {
      "text/plain": [
       "(['Wii',\n",
       "  'DS',\n",
       "  'X360',\n",
       "  'PS3',\n",
       "  'PS2',\n",
       "  '3DS',\n",
       "  'PS4',\n",
       "  'PS',\n",
       "  'XB',\n",
       "  'PC',\n",
       "  'PSP',\n",
       "  'WiiU',\n",
       "  'GC',\n",
       "  'GBA',\n",
       "  'XOne',\n",
       "  'PSV',\n",
       "  'DC'],\n",
       " 17)"
      ]
     },
     "execution_count": 809,
     "metadata": {},
     "output_type": "execute_result"
    }
   ],
   "source": [
    "plt_list = no_nans_and_tbd['platform'].unique().tolist()\n",
    "plt_list ,len(plt_list)"
   ]
  },
  {
   "cell_type": "code",
   "execution_count": 810,
   "metadata": {},
   "outputs": [
    {
     "name": "stdout",
     "output_type": "stream",
     "text": [
      "[7.15, 7.4, 7.0, 7.1, 8.0, 7.1, 7.0, 8.3, 8.0, 7.5, 7.5, 7.1, 7.95, 8.0, 6.8, 7.6, 8.8]\n"
     ]
    }
   ],
   "source": [
    "'''this for loop will gather the median for each platform in plt_list'''\n",
    "plt_median =[]\n",
    "for platform in plt_list:\n",
    "    plt = games.loc[(games['platform']==platform)&\n",
    "          (games.user_score.notna())&\n",
    "          (games.user_score!='tbd'),'user_score']\n",
    "    plt = pd.to_numeric(plt)\n",
    "    plt_md = plt.median()\n",
    "    plt_median.append(plt_md)\n",
    "    \n",
    "print(plt_median)"
   ]
  },
  {
   "cell_type": "code",
   "execution_count": 811,
   "metadata": {},
   "outputs": [
    {
     "data": {
      "text/html": [
       "<div>\n",
       "<style scoped>\n",
       "    .dataframe tbody tr th:only-of-type {\n",
       "        vertical-align: middle;\n",
       "    }\n",
       "\n",
       "    .dataframe tbody tr th {\n",
       "        vertical-align: top;\n",
       "    }\n",
       "\n",
       "    .dataframe thead th {\n",
       "        text-align: right;\n",
       "    }\n",
       "</style>\n",
       "<table border=\"1\" class=\"dataframe\">\n",
       "  <thead>\n",
       "    <tr style=\"text-align: right;\">\n",
       "      <th></th>\n",
       "      <th>platform</th>\n",
       "      <th>median</th>\n",
       "    </tr>\n",
       "  </thead>\n",
       "  <tbody>\n",
       "    <tr>\n",
       "      <th>0</th>\n",
       "      <td>Wii</td>\n",
       "      <td>7.15</td>\n",
       "    </tr>\n",
       "    <tr>\n",
       "      <th>1</th>\n",
       "      <td>DS</td>\n",
       "      <td>7.40</td>\n",
       "    </tr>\n",
       "    <tr>\n",
       "      <th>2</th>\n",
       "      <td>X360</td>\n",
       "      <td>7.00</td>\n",
       "    </tr>\n",
       "    <tr>\n",
       "      <th>3</th>\n",
       "      <td>PS3</td>\n",
       "      <td>7.10</td>\n",
       "    </tr>\n",
       "    <tr>\n",
       "      <th>4</th>\n",
       "      <td>PS2</td>\n",
       "      <td>8.00</td>\n",
       "    </tr>\n",
       "    <tr>\n",
       "      <th>5</th>\n",
       "      <td>3DS</td>\n",
       "      <td>7.10</td>\n",
       "    </tr>\n",
       "    <tr>\n",
       "      <th>6</th>\n",
       "      <td>PS4</td>\n",
       "      <td>7.00</td>\n",
       "    </tr>\n",
       "    <tr>\n",
       "      <th>7</th>\n",
       "      <td>PS</td>\n",
       "      <td>8.30</td>\n",
       "    </tr>\n",
       "    <tr>\n",
       "      <th>8</th>\n",
       "      <td>XB</td>\n",
       "      <td>8.00</td>\n",
       "    </tr>\n",
       "    <tr>\n",
       "      <th>9</th>\n",
       "      <td>PC</td>\n",
       "      <td>7.50</td>\n",
       "    </tr>\n",
       "    <tr>\n",
       "      <th>10</th>\n",
       "      <td>PSP</td>\n",
       "      <td>7.50</td>\n",
       "    </tr>\n",
       "    <tr>\n",
       "      <th>11</th>\n",
       "      <td>WiiU</td>\n",
       "      <td>7.10</td>\n",
       "    </tr>\n",
       "    <tr>\n",
       "      <th>12</th>\n",
       "      <td>GC</td>\n",
       "      <td>7.95</td>\n",
       "    </tr>\n",
       "    <tr>\n",
       "      <th>13</th>\n",
       "      <td>GBA</td>\n",
       "      <td>8.00</td>\n",
       "    </tr>\n",
       "    <tr>\n",
       "      <th>14</th>\n",
       "      <td>XOne</td>\n",
       "      <td>6.80</td>\n",
       "    </tr>\n",
       "    <tr>\n",
       "      <th>15</th>\n",
       "      <td>PSV</td>\n",
       "      <td>7.60</td>\n",
       "    </tr>\n",
       "    <tr>\n",
       "      <th>16</th>\n",
       "      <td>DC</td>\n",
       "      <td>8.80</td>\n",
       "    </tr>\n",
       "  </tbody>\n",
       "</table>\n",
       "</div>"
      ],
      "text/plain": [
       "   platform  median\n",
       "0       Wii    7.15\n",
       "1        DS    7.40\n",
       "2      X360    7.00\n",
       "3       PS3    7.10\n",
       "4       PS2    8.00\n",
       "5       3DS    7.10\n",
       "6       PS4    7.00\n",
       "7        PS    8.30\n",
       "8        XB    8.00\n",
       "9        PC    7.50\n",
       "10      PSP    7.50\n",
       "11     WiiU    7.10\n",
       "12       GC    7.95\n",
       "13      GBA    8.00\n",
       "14     XOne    6.80\n",
       "15      PSV    7.60\n",
       "16       DC    8.80"
      ]
     },
     "execution_count": 811,
     "metadata": {},
     "output_type": "execute_result"
    }
   ],
   "source": [
    "median_df = pd.DataFrame(zip(plt_list,plt_median),columns=['platform','median'])\n",
    "median_df"
   ]
  },
  {
   "cell_type": "markdown",
   "metadata": {},
   "source": [
    "# Which platforms do not have a median for user_score?"
   ]
  },
  {
   "cell_type": "code",
   "execution_count": 812,
   "metadata": {},
   "outputs": [],
   "source": [
    "median_scr_pltfrms = median_df['platform'].tolist()\n",
    "all_platforms= games.pivot_table(index='platform').index.tolist()\n"
   ]
  },
  {
   "cell_type": "code",
   "execution_count": 813,
   "metadata": {},
   "outputs": [
    {
     "name": "stdout",
     "output_type": "stream",
     "text": [
      "['2600', '3DO', 'GB', 'GEN', 'GG', 'N64', 'NES', 'NG', 'PCFX', 'SAT', 'SCD', 'SNES', 'TG16', 'WS'] 14\n"
     ]
    }
   ],
   "source": [
    "pltfr_no_usr_scr =[]\n",
    "for p in all_platforms:\n",
    "    #print(p,' ', p in index2)\n",
    "    if p not in median_scr_pltfrms:\n",
    "        pltfr_no_usr_scr.append(p)\n",
    "        \n",
    "print(pltfr_no_usr_scr,len(pltfr_no_usr_scr))"
   ]
  },
  {
   "cell_type": "code",
   "execution_count": 814,
   "metadata": {},
   "outputs": [
    {
     "data": {
      "text/plain": [
       "3926     NaN\n",
       "6110     NaN\n",
       "6650     NaN\n",
       "8039     NaN\n",
       "8294     NaN\n",
       "14224    NaN\n",
       "Name: user_score, dtype: object"
      ]
     },
     "execution_count": 814,
     "metadata": {},
     "output_type": "execute_result"
    }
   ],
   "source": [
    "#confirmiing \n",
    "games.loc[games['platform']=='WS','user_score']"
   ]
  },
  {
   "cell_type": "code",
   "execution_count": 815,
   "metadata": {},
   "outputs": [
    {
     "data": {
      "text/plain": [
       "1120"
      ]
     },
     "execution_count": 815,
     "metadata": {},
     "output_type": "execute_result"
    }
   ],
   "source": [
    "games.query(' platform in  @pltfr_no_usr_scr').shape[0]"
   ]
  },
  {
   "cell_type": "code",
   "execution_count": 816,
   "metadata": {},
   "outputs": [
    {
     "name": "stdout",
     "output_type": "stream",
     "text": [
      "Platforms with no user_score are 7% of the total set\n"
     ]
    }
   ],
   "source": [
    "print('Platforms with no user_score are {:.0%} of the total set'.format(\n",
    "    games.query(' platform in  @pltfr_no_usr_scr').shape[0]/games.shape[0]\n",
    "))"
   ]
  },
  {
   "cell_type": "markdown",
   "metadata": {},
   "source": [
    "# droping missing years "
   ]
  },
  {
   "cell_type": "code",
   "execution_count": 817,
   "metadata": {},
   "outputs": [
    {
     "data": {
      "text/plain": [
       "16715"
      ]
     },
     "execution_count": 817,
     "metadata": {},
     "output_type": "execute_result"
    }
   ],
   "source": [
    "games.shape[0]"
   ]
  },
  {
   "cell_type": "code",
   "execution_count": 818,
   "metadata": {},
   "outputs": [],
   "source": [
    "#droping years here\n",
    "#games = games.drop(games[games['year_of_release'].isna()].index) - old code\n",
    "games.dropna(subset=['year_of_release'], inplace=True)"
   ]
  },
  {
   "cell_type": "code",
   "execution_count": 819,
   "metadata": {},
   "outputs": [
    {
     "data": {
      "text/plain": [
       "16471"
      ]
     },
     "execution_count": 819,
     "metadata": {},
     "output_type": "execute_result"
    }
   ],
   "source": [
    "games.shape[0]"
   ]
  },
  {
   "cell_type": "code",
   "execution_count": 820,
   "metadata": {},
   "outputs": [
    {
     "data": {
      "text/plain": [
       "0"
      ]
     },
     "execution_count": 820,
     "metadata": {},
     "output_type": "execute_result"
    }
   ],
   "source": [
    "games[games['year_of_release'].isna()].shape[0]"
   ]
  },
  {
   "cell_type": "code",
   "execution_count": 821,
   "metadata": {},
   "outputs": [
    {
     "data": {
      "text/plain": [
       "16471"
      ]
     },
     "execution_count": 821,
     "metadata": {},
     "output_type": "execute_result"
    }
   ],
   "source": [
    "games.shape[0]"
   ]
  },
  {
   "cell_type": "markdown",
   "metadata": {},
   "source": [
    "# how can we fill the tbd's and nans"
   ]
  },
  {
   "cell_type": "markdown",
   "metadata": {},
   "source": [
    "**Startegy:**\n",
    "1. Try and see if we can build a dictionary mapping the platform, year and the median score\n",
    "2. Replace the tbd's\n",
    "3. Replace the nans where possible\n",
    "4. Review the missing values in the set"
   ]
  },
  {
   "cell_type": "markdown",
   "metadata": {},
   "source": [
    "**Here lets create a table that has the median user_score per year for each platform. I want to create a dictionary to map the scores where they might fit**"
   ]
  },
  {
   "cell_type": "code",
   "execution_count": 822,
   "metadata": {},
   "outputs": [
    {
     "data": {
      "text/html": [
       "<div>\n",
       "<style scoped>\n",
       "    .dataframe tbody tr th:only-of-type {\n",
       "        vertical-align: middle;\n",
       "    }\n",
       "\n",
       "    .dataframe tbody tr th {\n",
       "        vertical-align: top;\n",
       "    }\n",
       "\n",
       "    .dataframe thead th {\n",
       "        text-align: right;\n",
       "    }\n",
       "</style>\n",
       "<table border=\"1\" class=\"dataframe\">\n",
       "  <thead>\n",
       "    <tr style=\"text-align: right;\">\n",
       "      <th></th>\n",
       "      <th></th>\n",
       "      <th>median_per_year</th>\n",
       "    </tr>\n",
       "    <tr>\n",
       "      <th>platform</th>\n",
       "      <th>year_of_release</th>\n",
       "      <th></th>\n",
       "    </tr>\n",
       "  </thead>\n",
       "  <tbody>\n",
       "    <tr>\n",
       "      <th rowspan=\"5\" valign=\"top\">3DS</th>\n",
       "      <th>2011.0</th>\n",
       "      <td>6.60</td>\n",
       "    </tr>\n",
       "    <tr>\n",
       "      <th>2012.0</th>\n",
       "      <td>7.50</td>\n",
       "    </tr>\n",
       "    <tr>\n",
       "      <th>2013.0</th>\n",
       "      <td>6.80</td>\n",
       "    </tr>\n",
       "    <tr>\n",
       "      <th>2014.0</th>\n",
       "      <td>6.90</td>\n",
       "    </tr>\n",
       "    <tr>\n",
       "      <th>2015.0</th>\n",
       "      <td>7.60</td>\n",
       "    </tr>\n",
       "    <tr>\n",
       "      <th>...</th>\n",
       "      <th>...</th>\n",
       "      <td>...</td>\n",
       "    </tr>\n",
       "    <tr>\n",
       "      <th>XB</th>\n",
       "      <th>2008.0</th>\n",
       "      <td>5.50</td>\n",
       "    </tr>\n",
       "    <tr>\n",
       "      <th rowspan=\"4\" valign=\"top\">XOne</th>\n",
       "      <th>2013.0</th>\n",
       "      <td>5.90</td>\n",
       "    </tr>\n",
       "    <tr>\n",
       "      <th>2014.0</th>\n",
       "      <td>6.95</td>\n",
       "    </tr>\n",
       "    <tr>\n",
       "      <th>2015.0</th>\n",
       "      <td>6.60</td>\n",
       "    </tr>\n",
       "    <tr>\n",
       "      <th>2016.0</th>\n",
       "      <td>6.80</td>\n",
       "    </tr>\n",
       "  </tbody>\n",
       "</table>\n",
       "<p>147 rows × 1 columns</p>\n",
       "</div>"
      ],
      "text/plain": [
       "                          median_per_year\n",
       "platform year_of_release                 \n",
       "3DS      2011.0                      6.60\n",
       "         2012.0                      7.50\n",
       "         2013.0                      6.80\n",
       "         2014.0                      6.90\n",
       "         2015.0                      7.60\n",
       "...                                   ...\n",
       "XB       2008.0                      5.50\n",
       "XOne     2013.0                      5.90\n",
       "         2014.0                      6.95\n",
       "         2015.0                      6.60\n",
       "         2016.0                      6.80\n",
       "\n",
       "[147 rows x 1 columns]"
      ]
     },
     "execution_count": 822,
     "metadata": {},
     "output_type": "execute_result"
    }
   ],
   "source": [
    "usr_scr_medians_yr = no_nans_and_tbd.pivot_table(index=['platform','year_of_release'],values='user_score',aggfunc='median')\n",
    "usr_scr_medians_yr.columns=['median_per_year']\n",
    "usr_scr_medians_yr"
   ]
  },
  {
   "cell_type": "code",
   "execution_count": 823,
   "metadata": {},
   "outputs": [
    {
     "data": {
      "text/plain": [
       "147"
      ]
     },
     "execution_count": 823,
     "metadata": {},
     "output_type": "execute_result"
    }
   ],
   "source": [
    "usr_scr_medians_yr.shape[0]"
   ]
  },
  {
   "cell_type": "code",
   "execution_count": 824,
   "metadata": {},
   "outputs": [
    {
     "data": {
      "text/plain": [
       "MultiIndex([( '3DS', 2011.0),\n",
       "            ( '3DS', 2012.0),\n",
       "            ( '3DS', 2013.0),\n",
       "            ( '3DS', 2014.0),\n",
       "            ( '3DS', 2015.0),\n",
       "            ( '3DS', 2016.0),\n",
       "            (  'DC', 1999.0),\n",
       "            (  'DC', 2000.0),\n",
       "            (  'DC', 2001.0),\n",
       "            (  'DS', 2004.0),\n",
       "            ...\n",
       "            (  'XB', 2003.0),\n",
       "            (  'XB', 2004.0),\n",
       "            (  'XB', 2005.0),\n",
       "            (  'XB', 2006.0),\n",
       "            (  'XB', 2007.0),\n",
       "            (  'XB', 2008.0),\n",
       "            ('XOne', 2013.0),\n",
       "            ('XOne', 2014.0),\n",
       "            ('XOne', 2015.0),\n",
       "            ('XOne', 2016.0)],\n",
       "           names=['platform', 'year_of_release'], length=147)"
      ]
     },
     "execution_count": 824,
     "metadata": {},
     "output_type": "execute_result"
    }
   ],
   "source": [
    "usr_scr_medians_yr.index"
   ]
  },
  {
   "cell_type": "markdown",
   "metadata": {},
   "source": [
    "**practicing on how to access each platform**"
   ]
  },
  {
   "cell_type": "code",
   "execution_count": 825,
   "metadata": {},
   "outputs": [
    {
     "data": {
      "text/html": [
       "<div>\n",
       "<style scoped>\n",
       "    .dataframe tbody tr th:only-of-type {\n",
       "        vertical-align: middle;\n",
       "    }\n",
       "\n",
       "    .dataframe tbody tr th {\n",
       "        vertical-align: top;\n",
       "    }\n",
       "\n",
       "    .dataframe thead th {\n",
       "        text-align: right;\n",
       "    }\n",
       "</style>\n",
       "<table border=\"1\" class=\"dataframe\">\n",
       "  <thead>\n",
       "    <tr style=\"text-align: right;\">\n",
       "      <th></th>\n",
       "      <th>median_per_year</th>\n",
       "    </tr>\n",
       "    <tr>\n",
       "      <th>year_of_release</th>\n",
       "      <th></th>\n",
       "    </tr>\n",
       "  </thead>\n",
       "  <tbody>\n",
       "    <tr>\n",
       "      <th>2011.0</th>\n",
       "      <td>6.60</td>\n",
       "    </tr>\n",
       "    <tr>\n",
       "      <th>2012.0</th>\n",
       "      <td>7.50</td>\n",
       "    </tr>\n",
       "    <tr>\n",
       "      <th>2013.0</th>\n",
       "      <td>6.80</td>\n",
       "    </tr>\n",
       "    <tr>\n",
       "      <th>2014.0</th>\n",
       "      <td>6.90</td>\n",
       "    </tr>\n",
       "    <tr>\n",
       "      <th>2015.0</th>\n",
       "      <td>7.60</td>\n",
       "    </tr>\n",
       "    <tr>\n",
       "      <th>2016.0</th>\n",
       "      <td>7.25</td>\n",
       "    </tr>\n",
       "  </tbody>\n",
       "</table>\n",
       "</div>"
      ],
      "text/plain": [
       "                 median_per_year\n",
       "year_of_release                 \n",
       "2011.0                      6.60\n",
       "2012.0                      7.50\n",
       "2013.0                      6.80\n",
       "2014.0                      6.90\n",
       "2015.0                      7.60\n",
       "2016.0                      7.25"
      ]
     },
     "execution_count": 825,
     "metadata": {},
     "output_type": "execute_result"
    }
   ],
   "source": [
    "#df.loc[(\"bar\", \"two\")]\n",
    "usr_scr_medians_yr.loc[('3DS')]"
   ]
  },
  {
   "cell_type": "code",
   "execution_count": 826,
   "metadata": {},
   "outputs": [
    {
     "data": {
      "text/plain": [
       "median_per_year    6.8\n",
       "Name: (XOne, 2016.0), dtype: float64"
      ]
     },
     "execution_count": 826,
     "metadata": {},
     "output_type": "execute_result"
    }
   ],
   "source": [
    "usr_scr_medians_yr.loc[('XOne',2016)]"
   ]
  },
  {
   "cell_type": "markdown",
   "metadata": {},
   "source": [
    "**********************************************************\n",
    "\n",
    "**Lets summarize the user_score medians per platform only.( My thought here was that trying to map to platform and year is looking to be not simple and more complicated than expected**)"
   ]
  },
  {
   "cell_type": "code",
   "execution_count": 827,
   "metadata": {},
   "outputs": [
    {
     "data": {
      "text/html": [
       "<div>\n",
       "<style scoped>\n",
       "    .dataframe tbody tr th:only-of-type {\n",
       "        vertical-align: middle;\n",
       "    }\n",
       "\n",
       "    .dataframe tbody tr th {\n",
       "        vertical-align: top;\n",
       "    }\n",
       "\n",
       "    .dataframe thead th {\n",
       "        text-align: right;\n",
       "    }\n",
       "</style>\n",
       "<table border=\"1\" class=\"dataframe\">\n",
       "  <thead>\n",
       "    <tr style=\"text-align: right;\">\n",
       "      <th></th>\n",
       "      <th>user_score</th>\n",
       "    </tr>\n",
       "    <tr>\n",
       "      <th>platform</th>\n",
       "      <th></th>\n",
       "    </tr>\n",
       "  </thead>\n",
       "  <tbody>\n",
       "    <tr>\n",
       "      <th>3DS</th>\n",
       "      <td>7.10</td>\n",
       "    </tr>\n",
       "    <tr>\n",
       "      <th>DC</th>\n",
       "      <td>8.80</td>\n",
       "    </tr>\n",
       "    <tr>\n",
       "      <th>DS</th>\n",
       "      <td>7.40</td>\n",
       "    </tr>\n",
       "    <tr>\n",
       "      <th>GBA</th>\n",
       "      <td>8.00</td>\n",
       "    </tr>\n",
       "    <tr>\n",
       "      <th>GC</th>\n",
       "      <td>7.95</td>\n",
       "    </tr>\n",
       "  </tbody>\n",
       "</table>\n",
       "</div>"
      ],
      "text/plain": [
       "          user_score\n",
       "platform            \n",
       "3DS             7.10\n",
       "DC              8.80\n",
       "DS              7.40\n",
       "GBA             8.00\n",
       "GC              7.95"
      ]
     },
     "execution_count": 827,
     "metadata": {},
     "output_type": "execute_result"
    }
   ],
   "source": [
    "usr_scr_medians = no_nans_and_tbd.pivot_table(index=['platform'],values='user_score',aggfunc='median')\n",
    "usr_scr_medians.head()"
   ]
  },
  {
   "cell_type": "markdown",
   "metadata": {},
   "source": [
    "**Creating a dictionary to use with map**"
   ]
  },
  {
   "cell_type": "code",
   "execution_count": 828,
   "metadata": {},
   "outputs": [
    {
     "data": {
      "text/plain": [
       "{'user_score': {'3DS': 7.1,\n",
       "  'DC': 8.8,\n",
       "  'DS': 7.4,\n",
       "  'GBA': 8.0,\n",
       "  'GC': 7.95,\n",
       "  'PC': 7.5,\n",
       "  'PS': 8.3,\n",
       "  'PS2': 8.0,\n",
       "  'PS3': 7.1,\n",
       "  'PS4': 7.0,\n",
       "  'PSP': 7.5,\n",
       "  'PSV': 7.6,\n",
       "  'Wii': 7.15,\n",
       "  'WiiU': 7.1,\n",
       "  'X360': 7.0,\n",
       "  'XB': 8.0,\n",
       "  'XOne': 6.8}}"
      ]
     },
     "execution_count": 828,
     "metadata": {},
     "output_type": "execute_result"
    }
   ],
   "source": [
    "#dcitionary\n",
    "usr_scr_md_dict = usr_scr_medians.to_dict()\n",
    "usr_scr_md_dict"
   ]
  },
  {
   "cell_type": "code",
   "execution_count": 829,
   "metadata": {},
   "outputs": [],
   "source": [
    "usr_scr_md_dict =usr_scr_md_dict['user_score']"
   ]
  },
  {
   "cell_type": "code",
   "execution_count": 830,
   "metadata": {},
   "outputs": [
    {
     "data": {
      "text/plain": [
       "{'3DS': 7.1,\n",
       " 'DC': 8.8,\n",
       " 'DS': 7.4,\n",
       " 'GBA': 8.0,\n",
       " 'GC': 7.95,\n",
       " 'PC': 7.5,\n",
       " 'PS': 8.3,\n",
       " 'PS2': 8.0,\n",
       " 'PS3': 7.1,\n",
       " 'PS4': 7.0,\n",
       " 'PSP': 7.5,\n",
       " 'PSV': 7.6,\n",
       " 'Wii': 7.15,\n",
       " 'WiiU': 7.1,\n",
       " 'X360': 7.0,\n",
       " 'XB': 8.0,\n",
       " 'XOne': 6.8}"
      ]
     },
     "execution_count": 830,
     "metadata": {},
     "output_type": "execute_result"
    }
   ],
   "source": [
    "usr_scr_md_dict"
   ]
  },
  {
   "cell_type": "code",
   "execution_count": 831,
   "metadata": {},
   "outputs": [
    {
     "data": {
      "text/html": [
       "<div>\n",
       "<style scoped>\n",
       "    .dataframe tbody tr th:only-of-type {\n",
       "        vertical-align: middle;\n",
       "    }\n",
       "\n",
       "    .dataframe tbody tr th {\n",
       "        vertical-align: top;\n",
       "    }\n",
       "\n",
       "    .dataframe thead th {\n",
       "        text-align: right;\n",
       "    }\n",
       "</style>\n",
       "<table border=\"1\" class=\"dataframe\">\n",
       "  <thead>\n",
       "    <tr style=\"text-align: right;\">\n",
       "      <th></th>\n",
       "      <th>platform</th>\n",
       "      <th>user_score</th>\n",
       "    </tr>\n",
       "  </thead>\n",
       "  <tbody>\n",
       "    <tr>\n",
       "      <th>33</th>\n",
       "      <td>3DS</td>\n",
       "      <td>NaN</td>\n",
       "    </tr>\n",
       "    <tr>\n",
       "      <th>40</th>\n",
       "      <td>3DS</td>\n",
       "      <td>8.2</td>\n",
       "    </tr>\n",
       "  </tbody>\n",
       "</table>\n",
       "</div>"
      ],
      "text/plain": [
       "   platform user_score\n",
       "33      3DS        NaN\n",
       "40      3DS        8.2"
      ]
     },
     "execution_count": 831,
     "metadata": {},
     "output_type": "execute_result"
    }
   ],
   "source": [
    "#checking the 3DS platform \n",
    "games.loc[games['platform']=='3DS',['platform','user_score']].head(2)"
   ]
  },
  {
   "cell_type": "code",
   "execution_count": 832,
   "metadata": {},
   "outputs": [
    {
     "data": {
      "text/html": [
       "<div>\n",
       "<style scoped>\n",
       "    .dataframe tbody tr th:only-of-type {\n",
       "        vertical-align: middle;\n",
       "    }\n",
       "\n",
       "    .dataframe tbody tr th {\n",
       "        vertical-align: top;\n",
       "    }\n",
       "\n",
       "    .dataframe thead th {\n",
       "        text-align: right;\n",
       "    }\n",
       "</style>\n",
       "<table border=\"1\" class=\"dataframe\">\n",
       "  <thead>\n",
       "    <tr style=\"text-align: right;\">\n",
       "      <th></th>\n",
       "      <th>name</th>\n",
       "      <th>platform</th>\n",
       "      <th>year_of_release</th>\n",
       "      <th>genre</th>\n",
       "      <th>na_sales</th>\n",
       "      <th>eu_sales</th>\n",
       "      <th>jp_sales</th>\n",
       "      <th>other_sales</th>\n",
       "      <th>critic_score</th>\n",
       "      <th>user_score</th>\n",
       "      <th>rating</th>\n",
       "    </tr>\n",
       "  </thead>\n",
       "  <tbody>\n",
       "    <tr>\n",
       "      <th>6186</th>\n",
       "      <td>Moshi Monsters: Moshlings Theme Park</td>\n",
       "      <td>3DS</td>\n",
       "      <td>2012.0</td>\n",
       "      <td>Misc</td>\n",
       "      <td>0.13</td>\n",
       "      <td>0.13</td>\n",
       "      <td>0.00</td>\n",
       "      <td>0.03</td>\n",
       "      <td>NaN</td>\n",
       "      <td>tbd</td>\n",
       "      <td>E</td>\n",
       "    </tr>\n",
       "    <tr>\n",
       "      <th>6609</th>\n",
       "      <td>Zoo Resort 3D</td>\n",
       "      <td>3DS</td>\n",
       "      <td>2011.0</td>\n",
       "      <td>Simulation</td>\n",
       "      <td>0.11</td>\n",
       "      <td>0.09</td>\n",
       "      <td>0.03</td>\n",
       "      <td>0.02</td>\n",
       "      <td>NaN</td>\n",
       "      <td>tbd</td>\n",
       "      <td>E</td>\n",
       "    </tr>\n",
       "  </tbody>\n",
       "</table>\n",
       "</div>"
      ],
      "text/plain": [
       "                                      name platform  year_of_release  \\\n",
       "6186  Moshi Monsters: Moshlings Theme Park      3DS           2012.0   \n",
       "6609                         Zoo Resort 3D      3DS           2011.0   \n",
       "\n",
       "           genre  na_sales  eu_sales  jp_sales  other_sales  critic_score  \\\n",
       "6186        Misc      0.13      0.13      0.00         0.03           NaN   \n",
       "6609  Simulation      0.11      0.09      0.03         0.02           NaN   \n",
       "\n",
       "     user_score rating  \n",
       "6186        tbd      E  \n",
       "6609        tbd      E  "
      ]
     },
     "execution_count": 832,
     "metadata": {},
     "output_type": "execute_result"
    }
   ],
   "source": [
    "# these indexs will help test if the procedure worked\n",
    "indx3ds = games.loc[(games['platform']=='3DS')&(games['user_score']=='tbd')].index\n",
    "indexWii = games.loc[(games['platform']=='Wii')&(games['user_score']=='tbd')].index\n",
    "games.loc[(games['platform']=='3DS')&(games['user_score']=='tbd')].head(2)"
   ]
  },
  {
   "cell_type": "markdown",
   "metadata": {},
   "source": [
    "**Mapping the dictionary to the 'tbd' values in user_score**"
   ]
  },
  {
   "cell_type": "code",
   "execution_count": 833,
   "metadata": {},
   "outputs": [],
   "source": [
    "# using map  :  df1['value'] = df1['condition'].map(df2.set_index('condition')['value'])\n",
    "games.loc[games['user_score']=='tbd',['user_score']]  = games['platform'].map(usr_scr_md_dict)"
   ]
  },
  {
   "cell_type": "code",
   "execution_count": 834,
   "metadata": {},
   "outputs": [
    {
     "data": {
      "text/html": [
       "<div>\n",
       "<style scoped>\n",
       "    .dataframe tbody tr th:only-of-type {\n",
       "        vertical-align: middle;\n",
       "    }\n",
       "\n",
       "    .dataframe tbody tr th {\n",
       "        vertical-align: top;\n",
       "    }\n",
       "\n",
       "    .dataframe thead th {\n",
       "        text-align: right;\n",
       "    }\n",
       "</style>\n",
       "<table border=\"1\" class=\"dataframe\">\n",
       "  <thead>\n",
       "    <tr style=\"text-align: right;\">\n",
       "      <th></th>\n",
       "      <th>name</th>\n",
       "      <th>platform</th>\n",
       "      <th>year_of_release</th>\n",
       "      <th>genre</th>\n",
       "      <th>na_sales</th>\n",
       "      <th>eu_sales</th>\n",
       "      <th>jp_sales</th>\n",
       "      <th>other_sales</th>\n",
       "      <th>critic_score</th>\n",
       "      <th>user_score</th>\n",
       "      <th>rating</th>\n",
       "    </tr>\n",
       "  </thead>\n",
       "  <tbody>\n",
       "    <tr>\n",
       "      <th>6186</th>\n",
       "      <td>Moshi Monsters: Moshlings Theme Park</td>\n",
       "      <td>3DS</td>\n",
       "      <td>2012.0</td>\n",
       "      <td>Misc</td>\n",
       "      <td>0.13</td>\n",
       "      <td>0.13</td>\n",
       "      <td>0.00</td>\n",
       "      <td>0.03</td>\n",
       "      <td>NaN</td>\n",
       "      <td>7.1</td>\n",
       "      <td>E</td>\n",
       "    </tr>\n",
       "    <tr>\n",
       "      <th>6609</th>\n",
       "      <td>Zoo Resort 3D</td>\n",
       "      <td>3DS</td>\n",
       "      <td>2011.0</td>\n",
       "      <td>Simulation</td>\n",
       "      <td>0.11</td>\n",
       "      <td>0.09</td>\n",
       "      <td>0.03</td>\n",
       "      <td>0.02</td>\n",
       "      <td>NaN</td>\n",
       "      <td>7.1</td>\n",
       "      <td>E</td>\n",
       "    </tr>\n",
       "    <tr>\n",
       "      <th>6627</th>\n",
       "      <td>How to Train Your Dragon 2</td>\n",
       "      <td>3DS</td>\n",
       "      <td>2014.0</td>\n",
       "      <td>Adventure</td>\n",
       "      <td>0.04</td>\n",
       "      <td>0.19</td>\n",
       "      <td>0.00</td>\n",
       "      <td>0.02</td>\n",
       "      <td>NaN</td>\n",
       "      <td>7.1</td>\n",
       "      <td>E10+</td>\n",
       "    </tr>\n",
       "    <tr>\n",
       "      <th>7024</th>\n",
       "      <td>Wipeout 2</td>\n",
       "      <td>3DS</td>\n",
       "      <td>2011.0</td>\n",
       "      <td>Misc</td>\n",
       "      <td>0.22</td>\n",
       "      <td>0.00</td>\n",
       "      <td>0.00</td>\n",
       "      <td>0.01</td>\n",
       "      <td>NaN</td>\n",
       "      <td>7.1</td>\n",
       "      <td>E</td>\n",
       "    </tr>\n",
       "    <tr>\n",
       "      <th>7357</th>\n",
       "      <td>LEGO Ninjago: Shadow of Ronin</td>\n",
       "      <td>3DS</td>\n",
       "      <td>2015.0</td>\n",
       "      <td>Action</td>\n",
       "      <td>0.05</td>\n",
       "      <td>0.11</td>\n",
       "      <td>0.04</td>\n",
       "      <td>0.01</td>\n",
       "      <td>NaN</td>\n",
       "      <td>7.1</td>\n",
       "      <td>E10+</td>\n",
       "    </tr>\n",
       "  </tbody>\n",
       "</table>\n",
       "</div>"
      ],
      "text/plain": [
       "                                      name platform  year_of_release  \\\n",
       "6186  Moshi Monsters: Moshlings Theme Park      3DS           2012.0   \n",
       "6609                         Zoo Resort 3D      3DS           2011.0   \n",
       "6627            How to Train Your Dragon 2      3DS           2014.0   \n",
       "7024                             Wipeout 2      3DS           2011.0   \n",
       "7357         LEGO Ninjago: Shadow of Ronin      3DS           2015.0   \n",
       "\n",
       "           genre  na_sales  eu_sales  jp_sales  other_sales  critic_score  \\\n",
       "6186        Misc      0.13      0.13      0.00         0.03           NaN   \n",
       "6609  Simulation      0.11      0.09      0.03         0.02           NaN   \n",
       "6627   Adventure      0.04      0.19      0.00         0.02           NaN   \n",
       "7024        Misc      0.22      0.00      0.00         0.01           NaN   \n",
       "7357      Action      0.05      0.11      0.04         0.01           NaN   \n",
       "\n",
       "     user_score rating  \n",
       "6186        7.1      E  \n",
       "6609        7.1      E  \n",
       "6627        7.1   E10+  \n",
       "7024        7.1      E  \n",
       "7357        7.1   E10+  "
      ]
     },
     "execution_count": 834,
     "metadata": {},
     "output_type": "execute_result"
    }
   ],
   "source": [
    "#check that it worked  for 3DS -no tbd's\n",
    "games.loc[indx3ds].head()"
   ]
  },
  {
   "cell_type": "code",
   "execution_count": 835,
   "metadata": {},
   "outputs": [
    {
     "data": {
      "text/html": [
       "<div>\n",
       "<style scoped>\n",
       "    .dataframe tbody tr th:only-of-type {\n",
       "        vertical-align: middle;\n",
       "    }\n",
       "\n",
       "    .dataframe tbody tr th {\n",
       "        vertical-align: top;\n",
       "    }\n",
       "\n",
       "    .dataframe thead th {\n",
       "        text-align: right;\n",
       "    }\n",
       "</style>\n",
       "<table border=\"1\" class=\"dataframe\">\n",
       "  <thead>\n",
       "    <tr style=\"text-align: right;\">\n",
       "      <th></th>\n",
       "      <th>name</th>\n",
       "      <th>platform</th>\n",
       "      <th>year_of_release</th>\n",
       "      <th>genre</th>\n",
       "      <th>na_sales</th>\n",
       "      <th>eu_sales</th>\n",
       "      <th>jp_sales</th>\n",
       "      <th>other_sales</th>\n",
       "      <th>critic_score</th>\n",
       "      <th>user_score</th>\n",
       "      <th>rating</th>\n",
       "    </tr>\n",
       "  </thead>\n",
       "  <tbody>\n",
       "    <tr>\n",
       "      <th>119</th>\n",
       "      <td>Zumba Fitness</td>\n",
       "      <td>Wii</td>\n",
       "      <td>2010.0</td>\n",
       "      <td>Sports</td>\n",
       "      <td>3.45</td>\n",
       "      <td>2.59</td>\n",
       "      <td>0.0</td>\n",
       "      <td>0.66</td>\n",
       "      <td>NaN</td>\n",
       "      <td>7.15</td>\n",
       "      <td>E</td>\n",
       "    </tr>\n",
       "    <tr>\n",
       "      <th>520</th>\n",
       "      <td>Zumba Fitness 2</td>\n",
       "      <td>Wii</td>\n",
       "      <td>2011.0</td>\n",
       "      <td>Sports</td>\n",
       "      <td>1.51</td>\n",
       "      <td>1.03</td>\n",
       "      <td>0.0</td>\n",
       "      <td>0.27</td>\n",
       "      <td>NaN</td>\n",
       "      <td>7.15</td>\n",
       "      <td>T</td>\n",
       "    </tr>\n",
       "    <tr>\n",
       "      <th>645</th>\n",
       "      <td>uDraw Studio</td>\n",
       "      <td>Wii</td>\n",
       "      <td>2010.0</td>\n",
       "      <td>Misc</td>\n",
       "      <td>1.65</td>\n",
       "      <td>0.57</td>\n",
       "      <td>0.0</td>\n",
       "      <td>0.20</td>\n",
       "      <td>71.0</td>\n",
       "      <td>7.15</td>\n",
       "      <td>E</td>\n",
       "    </tr>\n",
       "    <tr>\n",
       "      <th>718</th>\n",
       "      <td>Just Dance Kids</td>\n",
       "      <td>Wii</td>\n",
       "      <td>2010.0</td>\n",
       "      <td>Misc</td>\n",
       "      <td>1.52</td>\n",
       "      <td>0.54</td>\n",
       "      <td>0.0</td>\n",
       "      <td>0.18</td>\n",
       "      <td>NaN</td>\n",
       "      <td>7.15</td>\n",
       "      <td>E</td>\n",
       "    </tr>\n",
       "    <tr>\n",
       "      <th>1070</th>\n",
       "      <td>Game Party 3</td>\n",
       "      <td>Wii</td>\n",
       "      <td>2009.0</td>\n",
       "      <td>Puzzle</td>\n",
       "      <td>1.40</td>\n",
       "      <td>0.16</td>\n",
       "      <td>0.0</td>\n",
       "      <td>0.12</td>\n",
       "      <td>37.0</td>\n",
       "      <td>7.15</td>\n",
       "      <td>E</td>\n",
       "    </tr>\n",
       "  </tbody>\n",
       "</table>\n",
       "</div>"
      ],
      "text/plain": [
       "                 name platform  year_of_release   genre  na_sales  eu_sales  \\\n",
       "119     Zumba Fitness      Wii           2010.0  Sports      3.45      2.59   \n",
       "520   Zumba Fitness 2      Wii           2011.0  Sports      1.51      1.03   \n",
       "645      uDraw Studio      Wii           2010.0    Misc      1.65      0.57   \n",
       "718   Just Dance Kids      Wii           2010.0    Misc      1.52      0.54   \n",
       "1070     Game Party 3      Wii           2009.0  Puzzle      1.40      0.16   \n",
       "\n",
       "      jp_sales  other_sales  critic_score user_score rating  \n",
       "119        0.0         0.66           NaN       7.15      E  \n",
       "520        0.0         0.27           NaN       7.15      T  \n",
       "645        0.0         0.20          71.0       7.15      E  \n",
       "718        0.0         0.18           NaN       7.15      E  \n",
       "1070       0.0         0.12          37.0       7.15      E  "
      ]
     },
     "execution_count": 835,
     "metadata": {},
     "output_type": "execute_result"
    }
   ],
   "source": [
    "#check that it worked  for Wii -no tbd's\n",
    "games.loc[indexWii].head()"
   ]
  },
  {
   "cell_type": "markdown",
   "metadata": {},
   "source": [
    "***************************\n",
    "**Now lets deal with the nans in user_score**"
   ]
  },
  {
   "cell_type": "code",
   "execution_count": 836,
   "metadata": {},
   "outputs": [
    {
     "data": {
      "text/plain": [
       "205"
      ]
     },
     "execution_count": 836,
     "metadata": {},
     "output_type": "execute_result"
    }
   ],
   "source": [
    "\n",
    "games.loc[games['platform']=='X360','user_score'].isna().sum()"
   ]
  },
  {
   "cell_type": "markdown",
   "metadata": {},
   "source": [
    "**Filling nans with the help of the dictionary with the medians scores and the map method**"
   ]
  },
  {
   "cell_type": "code",
   "execution_count": 837,
   "metadata": {},
   "outputs": [],
   "source": [
    "#filling nans df.B = df.B.fillna(df.A.map(dict))\n",
    "games.loc[games['user_score'].isna(),['user_score']]  = games['user_score'].fillna(games['platform'].map(usr_scr_md_dict))"
   ]
  },
  {
   "cell_type": "code",
   "execution_count": 838,
   "metadata": {},
   "outputs": [
    {
     "data": {
      "text/plain": [
       "0"
      ]
     },
     "execution_count": 838,
     "metadata": {},
     "output_type": "execute_result"
    }
   ],
   "source": [
    "# checking X360 nans again \n",
    "games.loc[games['platform']=='X360','user_score'].isna().sum()"
   ]
  },
  {
   "cell_type": "code",
   "execution_count": 839,
   "metadata": {},
   "outputs": [
    {
     "data": {
      "text/plain": [
       "1099"
      ]
     },
     "execution_count": 839,
     "metadata": {},
     "output_type": "execute_result"
    }
   ],
   "source": [
    "#let see the total nans in user_score\n",
    "games['user_score'].isna().sum()"
   ]
  },
  {
   "cell_type": "markdown",
   "metadata": {},
   "source": [
    "***************************\n",
    "**Lets make sure that the user_score column is the right type so we can work with it accordingly**"
   ]
  },
  {
   "cell_type": "code",
   "execution_count": 840,
   "metadata": {},
   "outputs": [
    {
     "name": "stdout",
     "output_type": "stream",
     "text": [
      "<class 'pandas.core.frame.DataFrame'>\n",
      "Int64Index: 16471 entries, 0 to 16714\n",
      "Data columns (total 11 columns):\n",
      " #   Column           Non-Null Count  Dtype  \n",
      "---  ------           --------------  -----  \n",
      " 0   name             16469 non-null  object \n",
      " 1   platform         16471 non-null  object \n",
      " 2   year_of_release  16471 non-null  float64\n",
      " 3   genre            16469 non-null  object \n",
      " 4   na_sales         16471 non-null  float64\n",
      " 5   eu_sales         16471 non-null  float64\n",
      " 6   jp_sales         16471 non-null  float64\n",
      " 7   other_sales      16471 non-null  float64\n",
      " 8   critic_score     8002 non-null   float64\n",
      " 9   user_score       15372 non-null  object \n",
      " 10  rating           9786 non-null   object \n",
      "dtypes: float64(6), object(5)\n",
      "memory usage: 2.1+ MB\n"
     ]
    }
   ],
   "source": [
    "#cheking type df[\"2nd\"] = pd.to_numeric(df[\"2nd\"])\n",
    "games.info()"
   ]
  },
  {
   "cell_type": "code",
   "execution_count": 841,
   "metadata": {},
   "outputs": [],
   "source": [
    "# casting to the type we need - float64\n",
    "games['user_score'] = pd.to_numeric(games['user_score'])"
   ]
  },
  {
   "cell_type": "code",
   "execution_count": 842,
   "metadata": {},
   "outputs": [
    {
     "name": "stdout",
     "output_type": "stream",
     "text": [
      "<class 'pandas.core.frame.DataFrame'>\n",
      "Int64Index: 16471 entries, 0 to 16714\n",
      "Data columns (total 11 columns):\n",
      " #   Column           Non-Null Count  Dtype  \n",
      "---  ------           --------------  -----  \n",
      " 0   name             16469 non-null  object \n",
      " 1   platform         16471 non-null  object \n",
      " 2   year_of_release  16471 non-null  float64\n",
      " 3   genre            16469 non-null  object \n",
      " 4   na_sales         16471 non-null  float64\n",
      " 5   eu_sales         16471 non-null  float64\n",
      " 6   jp_sales         16471 non-null  float64\n",
      " 7   other_sales      16471 non-null  float64\n",
      " 8   critic_score     8002 non-null   float64\n",
      " 9   user_score       15372 non-null  float64\n",
      " 10  rating           9786 non-null   object \n",
      "dtypes: float64(7), object(4)\n",
      "memory usage: 2.1+ MB\n"
     ]
    }
   ],
   "source": [
    "games.info()"
   ]
  },
  {
   "cell_type": "markdown",
   "metadata": {},
   "source": [
    "***************************\n",
    "**Lets make a quick review and reminder of the missing values- first the original missing values, then the latest, we can compare and see the progress**"
   ]
  },
  {
   "cell_type": "code",
   "execution_count": 843,
   "metadata": {},
   "outputs": [
    {
     "data": {
      "text/html": [
       "<style  type=\"text/css\" >\n",
       "</style><table id=\"T_4681e874_9571_11ec_99ea_e470b8a528c2\" ><thead>    <tr>        <th class=\"blank level0\" ></th>        <th class=\"col_heading level0 col0\" >missing</th>        <th class=\"col_heading level0 col1\" >total</th>        <th class=\"col_heading level0 col2\" >percent</th>    </tr></thead><tbody>\n",
       "                <tr>\n",
       "                        <th id=\"T_4681e874_9571_11ec_99ea_e470b8a528c2level0_row0\" class=\"row_heading level0 row0\" >Critic_Score</th>\n",
       "                        <td id=\"T_4681e874_9571_11ec_99ea_e470b8a528c2row0_col0\" class=\"data row0 col0\" >8,578</td>\n",
       "                        <td id=\"T_4681e874_9571_11ec_99ea_e470b8a528c2row0_col1\" class=\"data row0 col1\" >16,715</td>\n",
       "                        <td id=\"T_4681e874_9571_11ec_99ea_e470b8a528c2row0_col2\" class=\"data row0 col2\" >51.32%</td>\n",
       "            </tr>\n",
       "            <tr>\n",
       "                        <th id=\"T_4681e874_9571_11ec_99ea_e470b8a528c2level0_row1\" class=\"row_heading level0 row1\" >Rating</th>\n",
       "                        <td id=\"T_4681e874_9571_11ec_99ea_e470b8a528c2row1_col0\" class=\"data row1 col0\" >6,766</td>\n",
       "                        <td id=\"T_4681e874_9571_11ec_99ea_e470b8a528c2row1_col1\" class=\"data row1 col1\" >16,715</td>\n",
       "                        <td id=\"T_4681e874_9571_11ec_99ea_e470b8a528c2row1_col2\" class=\"data row1 col2\" >40.48%</td>\n",
       "            </tr>\n",
       "            <tr>\n",
       "                        <th id=\"T_4681e874_9571_11ec_99ea_e470b8a528c2level0_row2\" class=\"row_heading level0 row2\" >User_Score</th>\n",
       "                        <td id=\"T_4681e874_9571_11ec_99ea_e470b8a528c2row2_col0\" class=\"data row2 col0\" >6,701</td>\n",
       "                        <td id=\"T_4681e874_9571_11ec_99ea_e470b8a528c2row2_col1\" class=\"data row2 col1\" >16,715</td>\n",
       "                        <td id=\"T_4681e874_9571_11ec_99ea_e470b8a528c2row2_col2\" class=\"data row2 col2\" >40.09%</td>\n",
       "            </tr>\n",
       "            <tr>\n",
       "                        <th id=\"T_4681e874_9571_11ec_99ea_e470b8a528c2level0_row3\" class=\"row_heading level0 row3\" >Year_of_Release</th>\n",
       "                        <td id=\"T_4681e874_9571_11ec_99ea_e470b8a528c2row3_col0\" class=\"data row3 col0\" >269</td>\n",
       "                        <td id=\"T_4681e874_9571_11ec_99ea_e470b8a528c2row3_col1\" class=\"data row3 col1\" >16,715</td>\n",
       "                        <td id=\"T_4681e874_9571_11ec_99ea_e470b8a528c2row3_col2\" class=\"data row3 col2\" >1.61%</td>\n",
       "            </tr>\n",
       "            <tr>\n",
       "                        <th id=\"T_4681e874_9571_11ec_99ea_e470b8a528c2level0_row4\" class=\"row_heading level0 row4\" >Name</th>\n",
       "                        <td id=\"T_4681e874_9571_11ec_99ea_e470b8a528c2row4_col0\" class=\"data row4 col0\" >2</td>\n",
       "                        <td id=\"T_4681e874_9571_11ec_99ea_e470b8a528c2row4_col1\" class=\"data row4 col1\" >16,715</td>\n",
       "                        <td id=\"T_4681e874_9571_11ec_99ea_e470b8a528c2row4_col2\" class=\"data row4 col2\" >0.01%</td>\n",
       "            </tr>\n",
       "            <tr>\n",
       "                        <th id=\"T_4681e874_9571_11ec_99ea_e470b8a528c2level0_row5\" class=\"row_heading level0 row5\" >Genre</th>\n",
       "                        <td id=\"T_4681e874_9571_11ec_99ea_e470b8a528c2row5_col0\" class=\"data row5 col0\" >2</td>\n",
       "                        <td id=\"T_4681e874_9571_11ec_99ea_e470b8a528c2row5_col1\" class=\"data row5 col1\" >16,715</td>\n",
       "                        <td id=\"T_4681e874_9571_11ec_99ea_e470b8a528c2row5_col2\" class=\"data row5 col2\" >0.01%</td>\n",
       "            </tr>\n",
       "            <tr>\n",
       "                        <th id=\"T_4681e874_9571_11ec_99ea_e470b8a528c2level0_row6\" class=\"row_heading level0 row6\" >Platform</th>\n",
       "                        <td id=\"T_4681e874_9571_11ec_99ea_e470b8a528c2row6_col0\" class=\"data row6 col0\" >0</td>\n",
       "                        <td id=\"T_4681e874_9571_11ec_99ea_e470b8a528c2row6_col1\" class=\"data row6 col1\" >16,715</td>\n",
       "                        <td id=\"T_4681e874_9571_11ec_99ea_e470b8a528c2row6_col2\" class=\"data row6 col2\" >0.00%</td>\n",
       "            </tr>\n",
       "            <tr>\n",
       "                        <th id=\"T_4681e874_9571_11ec_99ea_e470b8a528c2level0_row7\" class=\"row_heading level0 row7\" >NA_sales</th>\n",
       "                        <td id=\"T_4681e874_9571_11ec_99ea_e470b8a528c2row7_col0\" class=\"data row7 col0\" >0</td>\n",
       "                        <td id=\"T_4681e874_9571_11ec_99ea_e470b8a528c2row7_col1\" class=\"data row7 col1\" >16,715</td>\n",
       "                        <td id=\"T_4681e874_9571_11ec_99ea_e470b8a528c2row7_col2\" class=\"data row7 col2\" >0.00%</td>\n",
       "            </tr>\n",
       "            <tr>\n",
       "                        <th id=\"T_4681e874_9571_11ec_99ea_e470b8a528c2level0_row8\" class=\"row_heading level0 row8\" >EU_sales</th>\n",
       "                        <td id=\"T_4681e874_9571_11ec_99ea_e470b8a528c2row8_col0\" class=\"data row8 col0\" >0</td>\n",
       "                        <td id=\"T_4681e874_9571_11ec_99ea_e470b8a528c2row8_col1\" class=\"data row8 col1\" >16,715</td>\n",
       "                        <td id=\"T_4681e874_9571_11ec_99ea_e470b8a528c2row8_col2\" class=\"data row8 col2\" >0.00%</td>\n",
       "            </tr>\n",
       "            <tr>\n",
       "                        <th id=\"T_4681e874_9571_11ec_99ea_e470b8a528c2level0_row9\" class=\"row_heading level0 row9\" >JP_sales</th>\n",
       "                        <td id=\"T_4681e874_9571_11ec_99ea_e470b8a528c2row9_col0\" class=\"data row9 col0\" >0</td>\n",
       "                        <td id=\"T_4681e874_9571_11ec_99ea_e470b8a528c2row9_col1\" class=\"data row9 col1\" >16,715</td>\n",
       "                        <td id=\"T_4681e874_9571_11ec_99ea_e470b8a528c2row9_col2\" class=\"data row9 col2\" >0.00%</td>\n",
       "            </tr>\n",
       "            <tr>\n",
       "                        <th id=\"T_4681e874_9571_11ec_99ea_e470b8a528c2level0_row10\" class=\"row_heading level0 row10\" >Other_sales</th>\n",
       "                        <td id=\"T_4681e874_9571_11ec_99ea_e470b8a528c2row10_col0\" class=\"data row10 col0\" >0</td>\n",
       "                        <td id=\"T_4681e874_9571_11ec_99ea_e470b8a528c2row10_col1\" class=\"data row10 col1\" >16,715</td>\n",
       "                        <td id=\"T_4681e874_9571_11ec_99ea_e470b8a528c2row10_col2\" class=\"data row10 col2\" >0.00%</td>\n",
       "            </tr>\n",
       "    </tbody></table>"
      ],
      "text/plain": [
       "<pandas.io.formats.style.Styler at 0x24dc3e55ba8>"
      ]
     },
     "execution_count": 843,
     "metadata": {},
     "output_type": "execute_result"
    }
   ],
   "source": [
    "missing_original"
   ]
  },
  {
   "cell_type": "code",
   "execution_count": 844,
   "metadata": {},
   "outputs": [
    {
     "data": {
      "text/html": [
       "<style  type=\"text/css\" >\n",
       "</style><table id=\"T_46875d36_9571_11ec_9bca_e470b8a528c2\" ><thead>    <tr>        <th class=\"blank level0\" ></th>        <th class=\"col_heading level0 col0\" >missing</th>        <th class=\"col_heading level0 col1\" >total</th>        <th class=\"col_heading level0 col2\" >percent</th>    </tr></thead><tbody>\n",
       "                <tr>\n",
       "                        <th id=\"T_46875d36_9571_11ec_9bca_e470b8a528c2level0_row0\" class=\"row_heading level0 row0\" >critic_score</th>\n",
       "                        <td id=\"T_46875d36_9571_11ec_9bca_e470b8a528c2row0_col0\" class=\"data row0 col0\" >8,469</td>\n",
       "                        <td id=\"T_46875d36_9571_11ec_9bca_e470b8a528c2row0_col1\" class=\"data row0 col1\" >16,471</td>\n",
       "                        <td id=\"T_46875d36_9571_11ec_9bca_e470b8a528c2row0_col2\" class=\"data row0 col2\" >51.42%</td>\n",
       "            </tr>\n",
       "            <tr>\n",
       "                        <th id=\"T_46875d36_9571_11ec_9bca_e470b8a528c2level0_row1\" class=\"row_heading level0 row1\" >rating</th>\n",
       "                        <td id=\"T_46875d36_9571_11ec_9bca_e470b8a528c2row1_col0\" class=\"data row1 col0\" >6,685</td>\n",
       "                        <td id=\"T_46875d36_9571_11ec_9bca_e470b8a528c2row1_col1\" class=\"data row1 col1\" >16,471</td>\n",
       "                        <td id=\"T_46875d36_9571_11ec_9bca_e470b8a528c2row1_col2\" class=\"data row1 col2\" >40.59%</td>\n",
       "            </tr>\n",
       "            <tr>\n",
       "                        <th id=\"T_46875d36_9571_11ec_9bca_e470b8a528c2level0_row2\" class=\"row_heading level0 row2\" >user_score</th>\n",
       "                        <td id=\"T_46875d36_9571_11ec_9bca_e470b8a528c2row2_col0\" class=\"data row2 col0\" >1,099</td>\n",
       "                        <td id=\"T_46875d36_9571_11ec_9bca_e470b8a528c2row2_col1\" class=\"data row2 col1\" >16,471</td>\n",
       "                        <td id=\"T_46875d36_9571_11ec_9bca_e470b8a528c2row2_col2\" class=\"data row2 col2\" >6.67%</td>\n",
       "            </tr>\n",
       "            <tr>\n",
       "                        <th id=\"T_46875d36_9571_11ec_9bca_e470b8a528c2level0_row3\" class=\"row_heading level0 row3\" >name</th>\n",
       "                        <td id=\"T_46875d36_9571_11ec_9bca_e470b8a528c2row3_col0\" class=\"data row3 col0\" >2</td>\n",
       "                        <td id=\"T_46875d36_9571_11ec_9bca_e470b8a528c2row3_col1\" class=\"data row3 col1\" >16,471</td>\n",
       "                        <td id=\"T_46875d36_9571_11ec_9bca_e470b8a528c2row3_col2\" class=\"data row3 col2\" >0.01%</td>\n",
       "            </tr>\n",
       "            <tr>\n",
       "                        <th id=\"T_46875d36_9571_11ec_9bca_e470b8a528c2level0_row4\" class=\"row_heading level0 row4\" >genre</th>\n",
       "                        <td id=\"T_46875d36_9571_11ec_9bca_e470b8a528c2row4_col0\" class=\"data row4 col0\" >2</td>\n",
       "                        <td id=\"T_46875d36_9571_11ec_9bca_e470b8a528c2row4_col1\" class=\"data row4 col1\" >16,471</td>\n",
       "                        <td id=\"T_46875d36_9571_11ec_9bca_e470b8a528c2row4_col2\" class=\"data row4 col2\" >0.01%</td>\n",
       "            </tr>\n",
       "            <tr>\n",
       "                        <th id=\"T_46875d36_9571_11ec_9bca_e470b8a528c2level0_row5\" class=\"row_heading level0 row5\" >platform</th>\n",
       "                        <td id=\"T_46875d36_9571_11ec_9bca_e470b8a528c2row5_col0\" class=\"data row5 col0\" >0</td>\n",
       "                        <td id=\"T_46875d36_9571_11ec_9bca_e470b8a528c2row5_col1\" class=\"data row5 col1\" >16,471</td>\n",
       "                        <td id=\"T_46875d36_9571_11ec_9bca_e470b8a528c2row5_col2\" class=\"data row5 col2\" >0.00%</td>\n",
       "            </tr>\n",
       "            <tr>\n",
       "                        <th id=\"T_46875d36_9571_11ec_9bca_e470b8a528c2level0_row6\" class=\"row_heading level0 row6\" >year_of_release</th>\n",
       "                        <td id=\"T_46875d36_9571_11ec_9bca_e470b8a528c2row6_col0\" class=\"data row6 col0\" >0</td>\n",
       "                        <td id=\"T_46875d36_9571_11ec_9bca_e470b8a528c2row6_col1\" class=\"data row6 col1\" >16,471</td>\n",
       "                        <td id=\"T_46875d36_9571_11ec_9bca_e470b8a528c2row6_col2\" class=\"data row6 col2\" >0.00%</td>\n",
       "            </tr>\n",
       "            <tr>\n",
       "                        <th id=\"T_46875d36_9571_11ec_9bca_e470b8a528c2level0_row7\" class=\"row_heading level0 row7\" >na_sales</th>\n",
       "                        <td id=\"T_46875d36_9571_11ec_9bca_e470b8a528c2row7_col0\" class=\"data row7 col0\" >0</td>\n",
       "                        <td id=\"T_46875d36_9571_11ec_9bca_e470b8a528c2row7_col1\" class=\"data row7 col1\" >16,471</td>\n",
       "                        <td id=\"T_46875d36_9571_11ec_9bca_e470b8a528c2row7_col2\" class=\"data row7 col2\" >0.00%</td>\n",
       "            </tr>\n",
       "            <tr>\n",
       "                        <th id=\"T_46875d36_9571_11ec_9bca_e470b8a528c2level0_row8\" class=\"row_heading level0 row8\" >eu_sales</th>\n",
       "                        <td id=\"T_46875d36_9571_11ec_9bca_e470b8a528c2row8_col0\" class=\"data row8 col0\" >0</td>\n",
       "                        <td id=\"T_46875d36_9571_11ec_9bca_e470b8a528c2row8_col1\" class=\"data row8 col1\" >16,471</td>\n",
       "                        <td id=\"T_46875d36_9571_11ec_9bca_e470b8a528c2row8_col2\" class=\"data row8 col2\" >0.00%</td>\n",
       "            </tr>\n",
       "            <tr>\n",
       "                        <th id=\"T_46875d36_9571_11ec_9bca_e470b8a528c2level0_row9\" class=\"row_heading level0 row9\" >jp_sales</th>\n",
       "                        <td id=\"T_46875d36_9571_11ec_9bca_e470b8a528c2row9_col0\" class=\"data row9 col0\" >0</td>\n",
       "                        <td id=\"T_46875d36_9571_11ec_9bca_e470b8a528c2row9_col1\" class=\"data row9 col1\" >16,471</td>\n",
       "                        <td id=\"T_46875d36_9571_11ec_9bca_e470b8a528c2row9_col2\" class=\"data row9 col2\" >0.00%</td>\n",
       "            </tr>\n",
       "            <tr>\n",
       "                        <th id=\"T_46875d36_9571_11ec_9bca_e470b8a528c2level0_row10\" class=\"row_heading level0 row10\" >other_sales</th>\n",
       "                        <td id=\"T_46875d36_9571_11ec_9bca_e470b8a528c2row10_col0\" class=\"data row10 col0\" >0</td>\n",
       "                        <td id=\"T_46875d36_9571_11ec_9bca_e470b8a528c2row10_col1\" class=\"data row10 col1\" >16,471</td>\n",
       "                        <td id=\"T_46875d36_9571_11ec_9bca_e470b8a528c2row10_col2\" class=\"data row10 col2\" >0.00%</td>\n",
       "            </tr>\n",
       "    </tbody></table>"
      ],
      "text/plain": [
       "<pandas.io.formats.style.Styler at 0x24dbe37aac8>"
      ]
     },
     "execution_count": 844,
     "metadata": {},
     "output_type": "execute_result"
    }
   ],
   "source": [
    "games.stb.missing(style=True)"
   ]
  },
  {
   "cell_type": "markdown",
   "metadata": {},
   "source": [
    "# user_score missing data went from 40% to 6.67%\n",
    "********************************************\n",
    "********************************************\n"
   ]
  },
  {
   "cell_type": "markdown",
   "metadata": {},
   "source": [
    "## critic_score\n",
    "\n",
    "1. Get the median per platform\n",
    "2. Create dictionary\n",
    "3.  Fill nans with map"
   ]
  },
  {
   "cell_type": "code",
   "execution_count": 845,
   "metadata": {},
   "outputs": [
    {
     "data": {
      "text/plain": [
       "8469"
      ]
     },
     "execution_count": 845,
     "metadata": {},
     "output_type": "execute_result"
    }
   ],
   "source": [
    "games['critic_score'].isna().sum()"
   ]
  },
  {
   "cell_type": "code",
   "execution_count": null,
   "metadata": {},
   "outputs": [],
   "source": []
  },
  {
   "cell_type": "code",
   "execution_count": 846,
   "metadata": {},
   "outputs": [],
   "source": [
    "critic_scr_medians_gnr = games.pivot_table(index=['platform','genre'],values='critic_score',aggfunc=['mean','median'])"
   ]
  },
  {
   "cell_type": "code",
   "execution_count": 847,
   "metadata": {},
   "outputs": [
    {
     "data": {
      "text/html": [
       "<div>\n",
       "<style scoped>\n",
       "    .dataframe tbody tr th:only-of-type {\n",
       "        vertical-align: middle;\n",
       "    }\n",
       "\n",
       "    .dataframe tbody tr th {\n",
       "        vertical-align: top;\n",
       "    }\n",
       "\n",
       "    .dataframe thead tr th {\n",
       "        text-align: left;\n",
       "    }\n",
       "\n",
       "    .dataframe thead tr:last-of-type th {\n",
       "        text-align: right;\n",
       "    }\n",
       "</style>\n",
       "<table border=\"1\" class=\"dataframe\">\n",
       "  <thead>\n",
       "    <tr>\n",
       "      <th></th>\n",
       "      <th></th>\n",
       "      <th>mean</th>\n",
       "      <th>median</th>\n",
       "    </tr>\n",
       "    <tr>\n",
       "      <th></th>\n",
       "      <th></th>\n",
       "      <th>critic_score</th>\n",
       "      <th>critic_score</th>\n",
       "    </tr>\n",
       "    <tr>\n",
       "      <th>platform</th>\n",
       "      <th>genre</th>\n",
       "      <th></th>\n",
       "      <th></th>\n",
       "    </tr>\n",
       "  </thead>\n",
       "  <tbody>\n",
       "    <tr>\n",
       "      <th rowspan=\"5\" valign=\"top\">3DS</th>\n",
       "      <th>Action</th>\n",
       "      <td>62.982759</td>\n",
       "      <td>62.5</td>\n",
       "    </tr>\n",
       "    <tr>\n",
       "      <th>Adventure</th>\n",
       "      <td>67.500000</td>\n",
       "      <td>63.5</td>\n",
       "    </tr>\n",
       "    <tr>\n",
       "      <th>Fighting</th>\n",
       "      <td>68.857143</td>\n",
       "      <td>64.0</td>\n",
       "    </tr>\n",
       "    <tr>\n",
       "      <th>Misc</th>\n",
       "      <td>69.100000</td>\n",
       "      <td>71.5</td>\n",
       "    </tr>\n",
       "    <tr>\n",
       "      <th>Platform</th>\n",
       "      <td>72.444444</td>\n",
       "      <td>71.0</td>\n",
       "    </tr>\n",
       "    <tr>\n",
       "      <th>...</th>\n",
       "      <th>...</th>\n",
       "      <td>...</td>\n",
       "      <td>...</td>\n",
       "    </tr>\n",
       "    <tr>\n",
       "      <th rowspan=\"5\" valign=\"top\">XOne</th>\n",
       "      <th>Role-Playing</th>\n",
       "      <td>80.777778</td>\n",
       "      <td>83.0</td>\n",
       "    </tr>\n",
       "    <tr>\n",
       "      <th>Shooter</th>\n",
       "      <td>77.656250</td>\n",
       "      <td>80.0</td>\n",
       "    </tr>\n",
       "    <tr>\n",
       "      <th>Simulation</th>\n",
       "      <td>59.000000</td>\n",
       "      <td>59.0</td>\n",
       "    </tr>\n",
       "    <tr>\n",
       "      <th>Sports</th>\n",
       "      <td>71.093750</td>\n",
       "      <td>78.0</td>\n",
       "    </tr>\n",
       "    <tr>\n",
       "      <th>Strategy</th>\n",
       "      <td>70.000000</td>\n",
       "      <td>70.0</td>\n",
       "    </tr>\n",
       "  </tbody>\n",
       "</table>\n",
       "<p>197 rows × 2 columns</p>\n",
       "</div>"
      ],
      "text/plain": [
       "                              mean       median\n",
       "                      critic_score critic_score\n",
       "platform genre                                 \n",
       "3DS      Action          62.982759         62.5\n",
       "         Adventure       67.500000         63.5\n",
       "         Fighting        68.857143         64.0\n",
       "         Misc            69.100000         71.5\n",
       "         Platform        72.444444         71.0\n",
       "...                            ...          ...\n",
       "XOne     Role-Playing    80.777778         83.0\n",
       "         Shooter         77.656250         80.0\n",
       "         Simulation      59.000000         59.0\n",
       "         Sports          71.093750         78.0\n",
       "         Strategy        70.000000         70.0\n",
       "\n",
       "[197 rows x 2 columns]"
      ]
     },
     "execution_count": 847,
     "metadata": {},
     "output_type": "execute_result"
    }
   ],
   "source": [
    "critic_scr_medians_gnr"
   ]
  },
  {
   "cell_type": "markdown",
   "metadata": {},
   "source": [
    "<div class=\"alert alert-block alert-success\">\n",
    "<b>Reviewer's comment</b> <a class=\"tocSkip\"></a>\n",
    "\n",
    "Pretty good usage of pivot_table! You've got very informative table!\n",
    "</div>"
   ]
  },
  {
   "cell_type": "code",
   "execution_count": 848,
   "metadata": {},
   "outputs": [
    {
     "data": {
      "text/plain": [
       "MultiIndex([( '3DS',       'Action'),\n",
       "            ( '3DS',    'Adventure'),\n",
       "            ( '3DS',     'Fighting'),\n",
       "            ( '3DS',         'Misc'),\n",
       "            ( '3DS',     'Platform'),\n",
       "            ( '3DS',       'Puzzle'),\n",
       "            ( '3DS',       'Racing'),\n",
       "            ( '3DS', 'Role-Playing'),\n",
       "            ( '3DS',      'Shooter'),\n",
       "            ( '3DS',   'Simulation'),\n",
       "            ...\n",
       "            ('XOne',    'Adventure'),\n",
       "            ('XOne',     'Fighting'),\n",
       "            ('XOne',         'Misc'),\n",
       "            ('XOne',     'Platform'),\n",
       "            ('XOne',       'Racing'),\n",
       "            ('XOne', 'Role-Playing'),\n",
       "            ('XOne',      'Shooter'),\n",
       "            ('XOne',   'Simulation'),\n",
       "            ('XOne',       'Sports'),\n",
       "            ('XOne',     'Strategy')],\n",
       "           names=['platform', 'genre'], length=197)"
      ]
     },
     "execution_count": 848,
     "metadata": {},
     "output_type": "execute_result"
    }
   ],
   "source": [
    "#df.loc[ ('London' , ['2019-07-01','2019-07-02'] ) ,  'Day']\n",
    "critic_scr_medians_gnr.index"
   ]
  },
  {
   "cell_type": "code",
   "execution_count": 849,
   "metadata": {
    "scrolled": true
   },
   "outputs": [
    {
     "data": {
      "text/html": [
       "<div>\n",
       "<style scoped>\n",
       "    .dataframe tbody tr th:only-of-type {\n",
       "        vertical-align: middle;\n",
       "    }\n",
       "\n",
       "    .dataframe tbody tr th {\n",
       "        vertical-align: top;\n",
       "    }\n",
       "\n",
       "    .dataframe thead th {\n",
       "        text-align: right;\n",
       "    }\n",
       "</style>\n",
       "<table border=\"1\" class=\"dataframe\">\n",
       "  <thead>\n",
       "    <tr style=\"text-align: right;\">\n",
       "      <th></th>\n",
       "      <th>critic_score</th>\n",
       "    </tr>\n",
       "    <tr>\n",
       "      <th>genre</th>\n",
       "      <th></th>\n",
       "    </tr>\n",
       "  </thead>\n",
       "  <tbody>\n",
       "    <tr>\n",
       "      <th>Action</th>\n",
       "      <td>74.0</td>\n",
       "    </tr>\n",
       "    <tr>\n",
       "      <th>Adventure</th>\n",
       "      <td>81.0</td>\n",
       "    </tr>\n",
       "    <tr>\n",
       "      <th>Fighting</th>\n",
       "      <td>67.0</td>\n",
       "    </tr>\n",
       "    <tr>\n",
       "      <th>Misc</th>\n",
       "      <td>73.5</td>\n",
       "    </tr>\n",
       "    <tr>\n",
       "      <th>Platform</th>\n",
       "      <td>75.0</td>\n",
       "    </tr>\n",
       "    <tr>\n",
       "      <th>Racing</th>\n",
       "      <td>75.0</td>\n",
       "    </tr>\n",
       "    <tr>\n",
       "      <th>Role-Playing</th>\n",
       "      <td>83.0</td>\n",
       "    </tr>\n",
       "    <tr>\n",
       "      <th>Shooter</th>\n",
       "      <td>80.0</td>\n",
       "    </tr>\n",
       "    <tr>\n",
       "      <th>Simulation</th>\n",
       "      <td>59.0</td>\n",
       "    </tr>\n",
       "    <tr>\n",
       "      <th>Sports</th>\n",
       "      <td>78.0</td>\n",
       "    </tr>\n",
       "    <tr>\n",
       "      <th>Strategy</th>\n",
       "      <td>70.0</td>\n",
       "    </tr>\n",
       "  </tbody>\n",
       "</table>\n",
       "</div>"
      ],
      "text/plain": [
       "              critic_score\n",
       "genre                     \n",
       "Action                74.0\n",
       "Adventure             81.0\n",
       "Fighting              67.0\n",
       "Misc                  73.5\n",
       "Platform              75.0\n",
       "Racing                75.0\n",
       "Role-Playing          83.0\n",
       "Shooter               80.0\n",
       "Simulation            59.0\n",
       "Sports                78.0\n",
       "Strategy              70.0"
      ]
     },
     "execution_count": 849,
     "metadata": {},
     "output_type": "execute_result"
    }
   ],
   "source": [
    "#accessing multi index\n",
    "critic_scr_medians_gnr.loc[('XOne','median')]"
   ]
  },
  {
   "cell_type": "code",
   "execution_count": 850,
   "metadata": {},
   "outputs": [
    {
     "data": {
      "text/plain": [
       "Index(['name', 'platform', 'year_of_release', 'genre', 'na_sales', 'eu_sales',\n",
       "       'jp_sales', 'other_sales', 'critic_score', 'user_score', 'rating'],\n",
       "      dtype='object')"
      ]
     },
     "execution_count": 850,
     "metadata": {},
     "output_type": "execute_result"
    }
   ],
   "source": [
    "games.columns"
   ]
  },
  {
   "cell_type": "code",
   "execution_count": 851,
   "metadata": {},
   "outputs": [
    {
     "data": {
      "text/html": [
       "<div>\n",
       "<style scoped>\n",
       "    .dataframe tbody tr th:only-of-type {\n",
       "        vertical-align: middle;\n",
       "    }\n",
       "\n",
       "    .dataframe tbody tr th {\n",
       "        vertical-align: top;\n",
       "    }\n",
       "\n",
       "    .dataframe thead th {\n",
       "        text-align: right;\n",
       "    }\n",
       "</style>\n",
       "<table border=\"1\" class=\"dataframe\">\n",
       "  <thead>\n",
       "    <tr style=\"text-align: right;\">\n",
       "      <th></th>\n",
       "      <th>critic_score</th>\n",
       "    </tr>\n",
       "    <tr>\n",
       "      <th>platform</th>\n",
       "      <th></th>\n",
       "    </tr>\n",
       "  </thead>\n",
       "  <tbody>\n",
       "    <tr>\n",
       "      <th>3DS</th>\n",
       "      <td>68.0</td>\n",
       "    </tr>\n",
       "    <tr>\n",
       "      <th>DC</th>\n",
       "      <td>88.0</td>\n",
       "    </tr>\n",
       "    <tr>\n",
       "      <th>DS</th>\n",
       "      <td>66.0</td>\n",
       "    </tr>\n",
       "    <tr>\n",
       "      <th>GBA</th>\n",
       "      <td>69.0</td>\n",
       "    </tr>\n",
       "    <tr>\n",
       "      <th>GC</th>\n",
       "      <td>70.0</td>\n",
       "    </tr>\n",
       "  </tbody>\n",
       "</table>\n",
       "</div>"
      ],
      "text/plain": [
       "          critic_score\n",
       "platform              \n",
       "3DS               68.0\n",
       "DC                88.0\n",
       "DS                66.0\n",
       "GBA               69.0\n",
       "GC                70.0"
      ]
     },
     "execution_count": 851,
     "metadata": {},
     "output_type": "execute_result"
    }
   ],
   "source": [
    "crtc_scr_medians= games.pivot_table(index='platform',values='critic_score',aggfunc='median')\n",
    "crtc_scr_medians.head()"
   ]
  },
  {
   "cell_type": "code",
   "execution_count": 852,
   "metadata": {},
   "outputs": [
    {
     "data": {
      "text/plain": [
       "{'critic_score': {'3DS': 68.0,\n",
       "  'DC': 88.0,\n",
       "  'DS': 66.0,\n",
       "  'GBA': 69.0,\n",
       "  'GC': 70.0,\n",
       "  'PC': 78.0,\n",
       "  'PS': 73.5,\n",
       "  'PS2': 70.0,\n",
       "  'PS3': 73.0,\n",
       "  'PS4': 73.0,\n",
       "  'PSP': 68.0,\n",
       "  'PSV': 71.0,\n",
       "  'Wii': 65.0,\n",
       "  'WiiU': 73.5,\n",
       "  'X360': 71.0,\n",
       "  'XB': 72.0,\n",
       "  'XOne': 76.0}}"
      ]
     },
     "execution_count": 852,
     "metadata": {},
     "output_type": "execute_result"
    }
   ],
   "source": [
    "crtc_scr_md_dict = crtc_scr_medians.to_dict()\n",
    "crtc_scr_md_dict"
   ]
  },
  {
   "cell_type": "code",
   "execution_count": 853,
   "metadata": {},
   "outputs": [],
   "source": [
    "crtc_scr_md_dict =crtc_scr_md_dict['critic_score']"
   ]
  },
  {
   "cell_type": "code",
   "execution_count": 854,
   "metadata": {},
   "outputs": [
    {
     "data": {
      "text/plain": [
       "8469"
      ]
     },
     "execution_count": 854,
     "metadata": {},
     "output_type": "execute_result"
    }
   ],
   "source": [
    "games['critic_score'].isna().sum()"
   ]
  },
  {
   "cell_type": "code",
   "execution_count": 855,
   "metadata": {},
   "outputs": [],
   "source": [
    "games.loc[games['critic_score'].isna(),['critic_score']] = games['critic_score'].fillna(games['platform'].map(crtc_scr_md_dict))"
   ]
  },
  {
   "cell_type": "code",
   "execution_count": 856,
   "metadata": {},
   "outputs": [
    {
     "data": {
      "text/plain": [
       "1099"
      ]
     },
     "execution_count": 856,
     "metadata": {},
     "output_type": "execute_result"
    }
   ],
   "source": [
    "games['critic_score'].isna().sum()"
   ]
  },
  {
   "cell_type": "code",
   "execution_count": 857,
   "metadata": {},
   "outputs": [
    {
     "data": {
      "text/html": [
       "<div>\n",
       "<style scoped>\n",
       "    .dataframe tbody tr th:only-of-type {\n",
       "        vertical-align: middle;\n",
       "    }\n",
       "\n",
       "    .dataframe tbody tr th {\n",
       "        vertical-align: top;\n",
       "    }\n",
       "\n",
       "    .dataframe thead th {\n",
       "        text-align: right;\n",
       "    }\n",
       "</style>\n",
       "<table border=\"1\" class=\"dataframe\">\n",
       "  <thead>\n",
       "    <tr style=\"text-align: right;\">\n",
       "      <th></th>\n",
       "      <th>name</th>\n",
       "      <th>platform</th>\n",
       "      <th>year_of_release</th>\n",
       "      <th>genre</th>\n",
       "      <th>na_sales</th>\n",
       "      <th>eu_sales</th>\n",
       "      <th>jp_sales</th>\n",
       "      <th>other_sales</th>\n",
       "      <th>critic_score</th>\n",
       "      <th>user_score</th>\n",
       "      <th>rating</th>\n",
       "    </tr>\n",
       "  </thead>\n",
       "  <tbody>\n",
       "    <tr>\n",
       "      <th>0</th>\n",
       "      <td>Wii Sports</td>\n",
       "      <td>Wii</td>\n",
       "      <td>2006.0</td>\n",
       "      <td>Sports</td>\n",
       "      <td>41.36</td>\n",
       "      <td>28.96</td>\n",
       "      <td>3.77</td>\n",
       "      <td>8.45</td>\n",
       "      <td>76.0</td>\n",
       "      <td>8.0</td>\n",
       "      <td>E</td>\n",
       "    </tr>\n",
       "    <tr>\n",
       "      <th>1</th>\n",
       "      <td>Super Mario Bros.</td>\n",
       "      <td>NES</td>\n",
       "      <td>1985.0</td>\n",
       "      <td>Platform</td>\n",
       "      <td>29.08</td>\n",
       "      <td>3.58</td>\n",
       "      <td>6.81</td>\n",
       "      <td>0.77</td>\n",
       "      <td>NaN</td>\n",
       "      <td>NaN</td>\n",
       "      <td>NaN</td>\n",
       "    </tr>\n",
       "    <tr>\n",
       "      <th>2</th>\n",
       "      <td>Mario Kart Wii</td>\n",
       "      <td>Wii</td>\n",
       "      <td>2008.0</td>\n",
       "      <td>Racing</td>\n",
       "      <td>15.68</td>\n",
       "      <td>12.76</td>\n",
       "      <td>3.79</td>\n",
       "      <td>3.29</td>\n",
       "      <td>82.0</td>\n",
       "      <td>8.3</td>\n",
       "      <td>E</td>\n",
       "    </tr>\n",
       "    <tr>\n",
       "      <th>3</th>\n",
       "      <td>Wii Sports Resort</td>\n",
       "      <td>Wii</td>\n",
       "      <td>2009.0</td>\n",
       "      <td>Sports</td>\n",
       "      <td>15.61</td>\n",
       "      <td>10.93</td>\n",
       "      <td>3.28</td>\n",
       "      <td>2.95</td>\n",
       "      <td>80.0</td>\n",
       "      <td>8.0</td>\n",
       "      <td>E</td>\n",
       "    </tr>\n",
       "    <tr>\n",
       "      <th>4</th>\n",
       "      <td>Pokemon Red/Pokemon Blue</td>\n",
       "      <td>GB</td>\n",
       "      <td>1996.0</td>\n",
       "      <td>Role-Playing</td>\n",
       "      <td>11.27</td>\n",
       "      <td>8.89</td>\n",
       "      <td>10.22</td>\n",
       "      <td>1.00</td>\n",
       "      <td>NaN</td>\n",
       "      <td>NaN</td>\n",
       "      <td>NaN</td>\n",
       "    </tr>\n",
       "  </tbody>\n",
       "</table>\n",
       "</div>"
      ],
      "text/plain": [
       "                       name platform  year_of_release         genre  na_sales  \\\n",
       "0                Wii Sports      Wii           2006.0        Sports     41.36   \n",
       "1         Super Mario Bros.      NES           1985.0      Platform     29.08   \n",
       "2            Mario Kart Wii      Wii           2008.0        Racing     15.68   \n",
       "3         Wii Sports Resort      Wii           2009.0        Sports     15.61   \n",
       "4  Pokemon Red/Pokemon Blue       GB           1996.0  Role-Playing     11.27   \n",
       "\n",
       "   eu_sales  jp_sales  other_sales  critic_score  user_score rating  \n",
       "0     28.96      3.77         8.45          76.0         8.0      E  \n",
       "1      3.58      6.81         0.77           NaN         NaN    NaN  \n",
       "2     12.76      3.79         3.29          82.0         8.3      E  \n",
       "3     10.93      3.28         2.95          80.0         8.0      E  \n",
       "4      8.89     10.22         1.00           NaN         NaN    NaN  "
      ]
     },
     "execution_count": 857,
     "metadata": {},
     "output_type": "execute_result"
    }
   ],
   "source": [
    "games.head()"
   ]
  },
  {
   "cell_type": "code",
   "execution_count": 858,
   "metadata": {},
   "outputs": [
    {
     "data": {
      "text/html": [
       "<style  type=\"text/css\" >\n",
       "</style><table id=\"T_46c13fc6_9571_11ec_b168_e470b8a528c2\" ><thead>    <tr>        <th class=\"blank level0\" ></th>        <th class=\"col_heading level0 col0\" >missing</th>        <th class=\"col_heading level0 col1\" >total</th>        <th class=\"col_heading level0 col2\" >percent</th>    </tr></thead><tbody>\n",
       "                <tr>\n",
       "                        <th id=\"T_46c13fc6_9571_11ec_b168_e470b8a528c2level0_row0\" class=\"row_heading level0 row0\" >rating</th>\n",
       "                        <td id=\"T_46c13fc6_9571_11ec_b168_e470b8a528c2row0_col0\" class=\"data row0 col0\" >6,685</td>\n",
       "                        <td id=\"T_46c13fc6_9571_11ec_b168_e470b8a528c2row0_col1\" class=\"data row0 col1\" >16,471</td>\n",
       "                        <td id=\"T_46c13fc6_9571_11ec_b168_e470b8a528c2row0_col2\" class=\"data row0 col2\" >40.59%</td>\n",
       "            </tr>\n",
       "            <tr>\n",
       "                        <th id=\"T_46c13fc6_9571_11ec_b168_e470b8a528c2level0_row1\" class=\"row_heading level0 row1\" >critic_score</th>\n",
       "                        <td id=\"T_46c13fc6_9571_11ec_b168_e470b8a528c2row1_col0\" class=\"data row1 col0\" >1,099</td>\n",
       "                        <td id=\"T_46c13fc6_9571_11ec_b168_e470b8a528c2row1_col1\" class=\"data row1 col1\" >16,471</td>\n",
       "                        <td id=\"T_46c13fc6_9571_11ec_b168_e470b8a528c2row1_col2\" class=\"data row1 col2\" >6.67%</td>\n",
       "            </tr>\n",
       "            <tr>\n",
       "                        <th id=\"T_46c13fc6_9571_11ec_b168_e470b8a528c2level0_row2\" class=\"row_heading level0 row2\" >user_score</th>\n",
       "                        <td id=\"T_46c13fc6_9571_11ec_b168_e470b8a528c2row2_col0\" class=\"data row2 col0\" >1,099</td>\n",
       "                        <td id=\"T_46c13fc6_9571_11ec_b168_e470b8a528c2row2_col1\" class=\"data row2 col1\" >16,471</td>\n",
       "                        <td id=\"T_46c13fc6_9571_11ec_b168_e470b8a528c2row2_col2\" class=\"data row2 col2\" >6.67%</td>\n",
       "            </tr>\n",
       "            <tr>\n",
       "                        <th id=\"T_46c13fc6_9571_11ec_b168_e470b8a528c2level0_row3\" class=\"row_heading level0 row3\" >name</th>\n",
       "                        <td id=\"T_46c13fc6_9571_11ec_b168_e470b8a528c2row3_col0\" class=\"data row3 col0\" >2</td>\n",
       "                        <td id=\"T_46c13fc6_9571_11ec_b168_e470b8a528c2row3_col1\" class=\"data row3 col1\" >16,471</td>\n",
       "                        <td id=\"T_46c13fc6_9571_11ec_b168_e470b8a528c2row3_col2\" class=\"data row3 col2\" >0.01%</td>\n",
       "            </tr>\n",
       "            <tr>\n",
       "                        <th id=\"T_46c13fc6_9571_11ec_b168_e470b8a528c2level0_row4\" class=\"row_heading level0 row4\" >genre</th>\n",
       "                        <td id=\"T_46c13fc6_9571_11ec_b168_e470b8a528c2row4_col0\" class=\"data row4 col0\" >2</td>\n",
       "                        <td id=\"T_46c13fc6_9571_11ec_b168_e470b8a528c2row4_col1\" class=\"data row4 col1\" >16,471</td>\n",
       "                        <td id=\"T_46c13fc6_9571_11ec_b168_e470b8a528c2row4_col2\" class=\"data row4 col2\" >0.01%</td>\n",
       "            </tr>\n",
       "            <tr>\n",
       "                        <th id=\"T_46c13fc6_9571_11ec_b168_e470b8a528c2level0_row5\" class=\"row_heading level0 row5\" >platform</th>\n",
       "                        <td id=\"T_46c13fc6_9571_11ec_b168_e470b8a528c2row5_col0\" class=\"data row5 col0\" >0</td>\n",
       "                        <td id=\"T_46c13fc6_9571_11ec_b168_e470b8a528c2row5_col1\" class=\"data row5 col1\" >16,471</td>\n",
       "                        <td id=\"T_46c13fc6_9571_11ec_b168_e470b8a528c2row5_col2\" class=\"data row5 col2\" >0.00%</td>\n",
       "            </tr>\n",
       "            <tr>\n",
       "                        <th id=\"T_46c13fc6_9571_11ec_b168_e470b8a528c2level0_row6\" class=\"row_heading level0 row6\" >year_of_release</th>\n",
       "                        <td id=\"T_46c13fc6_9571_11ec_b168_e470b8a528c2row6_col0\" class=\"data row6 col0\" >0</td>\n",
       "                        <td id=\"T_46c13fc6_9571_11ec_b168_e470b8a528c2row6_col1\" class=\"data row6 col1\" >16,471</td>\n",
       "                        <td id=\"T_46c13fc6_9571_11ec_b168_e470b8a528c2row6_col2\" class=\"data row6 col2\" >0.00%</td>\n",
       "            </tr>\n",
       "            <tr>\n",
       "                        <th id=\"T_46c13fc6_9571_11ec_b168_e470b8a528c2level0_row7\" class=\"row_heading level0 row7\" >na_sales</th>\n",
       "                        <td id=\"T_46c13fc6_9571_11ec_b168_e470b8a528c2row7_col0\" class=\"data row7 col0\" >0</td>\n",
       "                        <td id=\"T_46c13fc6_9571_11ec_b168_e470b8a528c2row7_col1\" class=\"data row7 col1\" >16,471</td>\n",
       "                        <td id=\"T_46c13fc6_9571_11ec_b168_e470b8a528c2row7_col2\" class=\"data row7 col2\" >0.00%</td>\n",
       "            </tr>\n",
       "            <tr>\n",
       "                        <th id=\"T_46c13fc6_9571_11ec_b168_e470b8a528c2level0_row8\" class=\"row_heading level0 row8\" >eu_sales</th>\n",
       "                        <td id=\"T_46c13fc6_9571_11ec_b168_e470b8a528c2row8_col0\" class=\"data row8 col0\" >0</td>\n",
       "                        <td id=\"T_46c13fc6_9571_11ec_b168_e470b8a528c2row8_col1\" class=\"data row8 col1\" >16,471</td>\n",
       "                        <td id=\"T_46c13fc6_9571_11ec_b168_e470b8a528c2row8_col2\" class=\"data row8 col2\" >0.00%</td>\n",
       "            </tr>\n",
       "            <tr>\n",
       "                        <th id=\"T_46c13fc6_9571_11ec_b168_e470b8a528c2level0_row9\" class=\"row_heading level0 row9\" >jp_sales</th>\n",
       "                        <td id=\"T_46c13fc6_9571_11ec_b168_e470b8a528c2row9_col0\" class=\"data row9 col0\" >0</td>\n",
       "                        <td id=\"T_46c13fc6_9571_11ec_b168_e470b8a528c2row9_col1\" class=\"data row9 col1\" >16,471</td>\n",
       "                        <td id=\"T_46c13fc6_9571_11ec_b168_e470b8a528c2row9_col2\" class=\"data row9 col2\" >0.00%</td>\n",
       "            </tr>\n",
       "            <tr>\n",
       "                        <th id=\"T_46c13fc6_9571_11ec_b168_e470b8a528c2level0_row10\" class=\"row_heading level0 row10\" >other_sales</th>\n",
       "                        <td id=\"T_46c13fc6_9571_11ec_b168_e470b8a528c2row10_col0\" class=\"data row10 col0\" >0</td>\n",
       "                        <td id=\"T_46c13fc6_9571_11ec_b168_e470b8a528c2row10_col1\" class=\"data row10 col1\" >16,471</td>\n",
       "                        <td id=\"T_46c13fc6_9571_11ec_b168_e470b8a528c2row10_col2\" class=\"data row10 col2\" >0.00%</td>\n",
       "            </tr>\n",
       "    </tbody></table>"
      ],
      "text/plain": [
       "<pandas.io.formats.style.Styler at 0x24dc2fc69e8>"
      ]
     },
     "execution_count": 858,
     "metadata": {},
     "output_type": "execute_result"
    }
   ],
   "source": [
    "games.stb.missing(style=True)"
   ]
  },
  {
   "cell_type": "code",
   "execution_count": 859,
   "metadata": {},
   "outputs": [
    {
     "data": {
      "text/plain": [
       "array(['NES', 'GB', 'SNES', 'N64', '2600', 'GEN', 'SAT', 'SCD', 'WS',\n",
       "       'NG', 'TG16', '3DO', 'GG', 'PCFX'], dtype=object)"
      ]
     },
     "execution_count": 859,
     "metadata": {},
     "output_type": "execute_result"
    }
   ],
   "source": [
    "games.loc[games['critic_score'].isna(),'platform'].unique()"
   ]
  },
  {
   "cell_type": "code",
   "execution_count": 860,
   "metadata": {},
   "outputs": [
    {
     "data": {
      "text/plain": [
       "Int64Index([    1,     4,     5,     9,    12,    18,    21,    22,    30,\n",
       "               45,\n",
       "            ...\n",
       "            15430, 15462, 15463, 15560, 15633, 15655, 15788, 16207, 16693,\n",
       "            16694],\n",
       "           dtype='int64', length=1099)"
      ]
     },
     "execution_count": 860,
     "metadata": {},
     "output_type": "execute_result"
    }
   ],
   "source": [
    "# the question that remains, are the critic_score indexes the same as user_score indexes?\n",
    "critic_indxs = games.loc[games['critic_score'].isna(),'platform'].index\n",
    "critic_indxs"
   ]
  },
  {
   "cell_type": "code",
   "execution_count": 861,
   "metadata": {},
   "outputs": [
    {
     "data": {
      "text/plain": [
       "Int64Index([    1,     4,     5,     9,    12,    18,    21,    22,    30,\n",
       "               45,\n",
       "            ...\n",
       "            15430, 15462, 15463, 15560, 15633, 15655, 15788, 16207, 16693,\n",
       "            16694],\n",
       "           dtype='int64', length=1099)"
      ]
     },
     "execution_count": 861,
     "metadata": {},
     "output_type": "execute_result"
    }
   ],
   "source": [
    "user_indxs = games.loc[games['user_score'].isna(),'platform'].index\n",
    "user_indxs"
   ]
  },
  {
   "cell_type": "code",
   "execution_count": 862,
   "metadata": {},
   "outputs": [
    {
     "name": "stdout",
     "output_type": "stream",
     "text": [
      "they are the same indexes \n"
     ]
    }
   ],
   "source": [
    "for i in range(len(user_indxs)):\n",
    "    if user_indxs[i] != critic_indxs[i]:\n",
    "        print(user_indxs[i],'!=',critic_indxs[i])\n",
    "    if i == len(user_indxs) -1:\n",
    "        print('they are the same indexes ')\n",
    "        "
   ]
  },
  {
   "cell_type": "markdown",
   "metadata": {},
   "source": [
    "# this is a big clue. Lets see the  platforms with no user_score or critic_score"
   ]
  },
  {
   "cell_type": "code",
   "execution_count": 863,
   "metadata": {},
   "outputs": [
    {
     "data": {
      "text/plain": [
       "(array(['NES', 'GB', 'SNES', 'N64', '2600', 'GEN', 'SAT', 'SCD', 'WS',\n",
       "        'NG', 'TG16', '3DO', 'GG', 'PCFX'], dtype=object), 14)"
      ]
     },
     "execution_count": 863,
     "metadata": {},
     "output_type": "execute_result"
    }
   ],
   "source": [
    "no_ctrc_user_scr = games.loc[user_indxs,'platform'].unique()\n",
    "no_ctrc_user_scr,len(no_ctrc_user_scr)"
   ]
  },
  {
   "cell_type": "markdown",
   "metadata": {},
   "source": [
    "*****************************"
   ]
  },
  {
   "cell_type": "markdown",
   "metadata": {},
   "source": [
    "# **Ratings**\n",
    "**Note : ESRB ratings were created in Sept 1994**"
   ]
  },
  {
   "cell_type": "code",
   "execution_count": 864,
   "metadata": {},
   "outputs": [
    {
     "data": {
      "text/plain": [
       "E       3936\n",
       "T       2906\n",
       "M       1537\n",
       "E10+    1394\n",
       "EC         8\n",
       "K-A        3\n",
       "AO         1\n",
       "RP         1\n",
       "Name: rating, dtype: int64"
      ]
     },
     "execution_count": 864,
     "metadata": {},
     "output_type": "execute_result"
    }
   ],
   "source": [
    "games['rating'].value_counts()"
   ]
  },
  {
   "cell_type": "code",
   "execution_count": 865,
   "metadata": {},
   "outputs": [
    {
     "data": {
      "text/html": [
       "<style  type=\"text/css\" >\n",
       "</style><table id=\"T_46d6e498_9571_11ec_b6c6_e470b8a528c2\" ><thead>    <tr>        <th class=\"blank level0\" ></th>        <th class=\"col_heading level0 col0\" >missing</th>        <th class=\"col_heading level0 col1\" >total</th>        <th class=\"col_heading level0 col2\" >percent</th>    </tr></thead><tbody>\n",
       "                <tr>\n",
       "                        <th id=\"T_46d6e498_9571_11ec_b6c6_e470b8a528c2level0_row0\" class=\"row_heading level0 row0\" >rating</th>\n",
       "                        <td id=\"T_46d6e498_9571_11ec_b6c6_e470b8a528c2row0_col0\" class=\"data row0 col0\" >6,685</td>\n",
       "                        <td id=\"T_46d6e498_9571_11ec_b6c6_e470b8a528c2row0_col1\" class=\"data row0 col1\" >16,471</td>\n",
       "                        <td id=\"T_46d6e498_9571_11ec_b6c6_e470b8a528c2row0_col2\" class=\"data row0 col2\" >40.59%</td>\n",
       "            </tr>\n",
       "            <tr>\n",
       "                        <th id=\"T_46d6e498_9571_11ec_b6c6_e470b8a528c2level0_row1\" class=\"row_heading level0 row1\" >critic_score</th>\n",
       "                        <td id=\"T_46d6e498_9571_11ec_b6c6_e470b8a528c2row1_col0\" class=\"data row1 col0\" >1,099</td>\n",
       "                        <td id=\"T_46d6e498_9571_11ec_b6c6_e470b8a528c2row1_col1\" class=\"data row1 col1\" >16,471</td>\n",
       "                        <td id=\"T_46d6e498_9571_11ec_b6c6_e470b8a528c2row1_col2\" class=\"data row1 col2\" >6.67%</td>\n",
       "            </tr>\n",
       "            <tr>\n",
       "                        <th id=\"T_46d6e498_9571_11ec_b6c6_e470b8a528c2level0_row2\" class=\"row_heading level0 row2\" >user_score</th>\n",
       "                        <td id=\"T_46d6e498_9571_11ec_b6c6_e470b8a528c2row2_col0\" class=\"data row2 col0\" >1,099</td>\n",
       "                        <td id=\"T_46d6e498_9571_11ec_b6c6_e470b8a528c2row2_col1\" class=\"data row2 col1\" >16,471</td>\n",
       "                        <td id=\"T_46d6e498_9571_11ec_b6c6_e470b8a528c2row2_col2\" class=\"data row2 col2\" >6.67%</td>\n",
       "            </tr>\n",
       "            <tr>\n",
       "                        <th id=\"T_46d6e498_9571_11ec_b6c6_e470b8a528c2level0_row3\" class=\"row_heading level0 row3\" >name</th>\n",
       "                        <td id=\"T_46d6e498_9571_11ec_b6c6_e470b8a528c2row3_col0\" class=\"data row3 col0\" >2</td>\n",
       "                        <td id=\"T_46d6e498_9571_11ec_b6c6_e470b8a528c2row3_col1\" class=\"data row3 col1\" >16,471</td>\n",
       "                        <td id=\"T_46d6e498_9571_11ec_b6c6_e470b8a528c2row3_col2\" class=\"data row3 col2\" >0.01%</td>\n",
       "            </tr>\n",
       "            <tr>\n",
       "                        <th id=\"T_46d6e498_9571_11ec_b6c6_e470b8a528c2level0_row4\" class=\"row_heading level0 row4\" >genre</th>\n",
       "                        <td id=\"T_46d6e498_9571_11ec_b6c6_e470b8a528c2row4_col0\" class=\"data row4 col0\" >2</td>\n",
       "                        <td id=\"T_46d6e498_9571_11ec_b6c6_e470b8a528c2row4_col1\" class=\"data row4 col1\" >16,471</td>\n",
       "                        <td id=\"T_46d6e498_9571_11ec_b6c6_e470b8a528c2row4_col2\" class=\"data row4 col2\" >0.01%</td>\n",
       "            </tr>\n",
       "            <tr>\n",
       "                        <th id=\"T_46d6e498_9571_11ec_b6c6_e470b8a528c2level0_row5\" class=\"row_heading level0 row5\" >platform</th>\n",
       "                        <td id=\"T_46d6e498_9571_11ec_b6c6_e470b8a528c2row5_col0\" class=\"data row5 col0\" >0</td>\n",
       "                        <td id=\"T_46d6e498_9571_11ec_b6c6_e470b8a528c2row5_col1\" class=\"data row5 col1\" >16,471</td>\n",
       "                        <td id=\"T_46d6e498_9571_11ec_b6c6_e470b8a528c2row5_col2\" class=\"data row5 col2\" >0.00%</td>\n",
       "            </tr>\n",
       "            <tr>\n",
       "                        <th id=\"T_46d6e498_9571_11ec_b6c6_e470b8a528c2level0_row6\" class=\"row_heading level0 row6\" >year_of_release</th>\n",
       "                        <td id=\"T_46d6e498_9571_11ec_b6c6_e470b8a528c2row6_col0\" class=\"data row6 col0\" >0</td>\n",
       "                        <td id=\"T_46d6e498_9571_11ec_b6c6_e470b8a528c2row6_col1\" class=\"data row6 col1\" >16,471</td>\n",
       "                        <td id=\"T_46d6e498_9571_11ec_b6c6_e470b8a528c2row6_col2\" class=\"data row6 col2\" >0.00%</td>\n",
       "            </tr>\n",
       "            <tr>\n",
       "                        <th id=\"T_46d6e498_9571_11ec_b6c6_e470b8a528c2level0_row7\" class=\"row_heading level0 row7\" >na_sales</th>\n",
       "                        <td id=\"T_46d6e498_9571_11ec_b6c6_e470b8a528c2row7_col0\" class=\"data row7 col0\" >0</td>\n",
       "                        <td id=\"T_46d6e498_9571_11ec_b6c6_e470b8a528c2row7_col1\" class=\"data row7 col1\" >16,471</td>\n",
       "                        <td id=\"T_46d6e498_9571_11ec_b6c6_e470b8a528c2row7_col2\" class=\"data row7 col2\" >0.00%</td>\n",
       "            </tr>\n",
       "            <tr>\n",
       "                        <th id=\"T_46d6e498_9571_11ec_b6c6_e470b8a528c2level0_row8\" class=\"row_heading level0 row8\" >eu_sales</th>\n",
       "                        <td id=\"T_46d6e498_9571_11ec_b6c6_e470b8a528c2row8_col0\" class=\"data row8 col0\" >0</td>\n",
       "                        <td id=\"T_46d6e498_9571_11ec_b6c6_e470b8a528c2row8_col1\" class=\"data row8 col1\" >16,471</td>\n",
       "                        <td id=\"T_46d6e498_9571_11ec_b6c6_e470b8a528c2row8_col2\" class=\"data row8 col2\" >0.00%</td>\n",
       "            </tr>\n",
       "            <tr>\n",
       "                        <th id=\"T_46d6e498_9571_11ec_b6c6_e470b8a528c2level0_row9\" class=\"row_heading level0 row9\" >jp_sales</th>\n",
       "                        <td id=\"T_46d6e498_9571_11ec_b6c6_e470b8a528c2row9_col0\" class=\"data row9 col0\" >0</td>\n",
       "                        <td id=\"T_46d6e498_9571_11ec_b6c6_e470b8a528c2row9_col1\" class=\"data row9 col1\" >16,471</td>\n",
       "                        <td id=\"T_46d6e498_9571_11ec_b6c6_e470b8a528c2row9_col2\" class=\"data row9 col2\" >0.00%</td>\n",
       "            </tr>\n",
       "            <tr>\n",
       "                        <th id=\"T_46d6e498_9571_11ec_b6c6_e470b8a528c2level0_row10\" class=\"row_heading level0 row10\" >other_sales</th>\n",
       "                        <td id=\"T_46d6e498_9571_11ec_b6c6_e470b8a528c2row10_col0\" class=\"data row10 col0\" >0</td>\n",
       "                        <td id=\"T_46d6e498_9571_11ec_b6c6_e470b8a528c2row10_col1\" class=\"data row10 col1\" >16,471</td>\n",
       "                        <td id=\"T_46d6e498_9571_11ec_b6c6_e470b8a528c2row10_col2\" class=\"data row10 col2\" >0.00%</td>\n",
       "            </tr>\n",
       "    </tbody></table>"
      ],
      "text/plain": [
       "<pandas.io.formats.style.Styler at 0x24dc22e9668>"
      ]
     },
     "execution_count": 865,
     "metadata": {},
     "output_type": "execute_result"
    }
   ],
   "source": [
    "games.stb.missing(style=True)"
   ]
  },
  {
   "cell_type": "code",
   "execution_count": 866,
   "metadata": {},
   "outputs": [
    {
     "data": {
      "text/plain": [
       "year_of_release\n",
       "1980.0    0\n",
       "1981.0    0\n",
       "1982.0    0\n",
       "1983.0    0\n",
       "1984.0    0\n",
       "Name: rating, dtype: int64"
      ]
     },
     "execution_count": 866,
     "metadata": {},
     "output_type": "execute_result"
    }
   ],
   "source": [
    "games.groupby('year_of_release')['rating'].count().head()"
   ]
  },
  {
   "cell_type": "code",
   "execution_count": 867,
   "metadata": {},
   "outputs": [
    {
     "data": {
      "text/html": [
       "<div>\n",
       "<style scoped>\n",
       "    .dataframe tbody tr th:only-of-type {\n",
       "        vertical-align: middle;\n",
       "    }\n",
       "\n",
       "    .dataframe tbody tr th {\n",
       "        vertical-align: top;\n",
       "    }\n",
       "\n",
       "    .dataframe thead th {\n",
       "        text-align: right;\n",
       "    }\n",
       "</style>\n",
       "<table border=\"1\" class=\"dataframe\">\n",
       "  <thead>\n",
       "    <tr style=\"text-align: right;\">\n",
       "      <th></th>\n",
       "      <th>name</th>\n",
       "      <th>platform</th>\n",
       "      <th>year_of_release</th>\n",
       "      <th>genre</th>\n",
       "      <th>na_sales</th>\n",
       "      <th>eu_sales</th>\n",
       "      <th>jp_sales</th>\n",
       "      <th>other_sales</th>\n",
       "      <th>critic_score</th>\n",
       "      <th>user_score</th>\n",
       "      <th>rating</th>\n",
       "    </tr>\n",
       "  </thead>\n",
       "  <tbody>\n",
       "    <tr>\n",
       "      <th>14470</th>\n",
       "      <td>Alter Ego</td>\n",
       "      <td>PC</td>\n",
       "      <td>1985.0</td>\n",
       "      <td>Simulation</td>\n",
       "      <td>0.0</td>\n",
       "      <td>0.03</td>\n",
       "      <td>0.0</td>\n",
       "      <td>0.01</td>\n",
       "      <td>59.0</td>\n",
       "      <td>5.8</td>\n",
       "      <td>T</td>\n",
       "    </tr>\n",
       "  </tbody>\n",
       "</table>\n",
       "</div>"
      ],
      "text/plain": [
       "            name platform  year_of_release       genre  na_sales  eu_sales  \\\n",
       "14470  Alter Ego       PC           1985.0  Simulation       0.0      0.03   \n",
       "\n",
       "       jp_sales  other_sales  critic_score  user_score rating  \n",
       "14470       0.0         0.01          59.0         5.8      T  "
      ]
     },
     "execution_count": 867,
     "metadata": {},
     "output_type": "execute_result"
    }
   ],
   "source": [
    "games[(games['year_of_release']==1985)&(games['rating'])]"
   ]
  },
  {
   "cell_type": "markdown",
   "metadata": {},
   "source": [
    "# strategy  :\n",
    "0. Give the ESRB rating a numeric scale\n",
    "1. get rating per year and genre\n",
    "2. some how map it\n",
    "3. check the earlier years (1980..1994) - can they be dropped?"
   ]
  },
  {
   "cell_type": "code",
   "execution_count": 868,
   "metadata": {},
   "outputs": [
    {
     "data": {
      "text/plain": [
       "['E', 'T', 'M', 'E10+', 'EC', 'K-A', 'AO', 'RP']"
      ]
     },
     "execution_count": 868,
     "metadata": {},
     "output_type": "execute_result"
    }
   ],
   "source": [
    "games['rating'].value_counts().index.to_list()"
   ]
  },
  {
   "cell_type": "code",
   "execution_count": 869,
   "metadata": {},
   "outputs": [
    {
     "data": {
      "text/plain": [
       "E       3936\n",
       "T       2906\n",
       "M       1537\n",
       "E10+    1394\n",
       "EC         8\n",
       "K-A        3\n",
       "AO         1\n",
       "RP         1\n",
       "Name: rating, dtype: int64"
      ]
     },
     "execution_count": 869,
     "metadata": {},
     "output_type": "execute_result"
    }
   ],
   "source": [
    "games['rating'].value_counts()"
   ]
  },
  {
   "cell_type": "markdown",
   "metadata": {},
   "source": [
    "EC =  Early Childhood\n",
    "E = EVERYONE\n",
    "E10+ = EVERYONE 10+\n",
    "T = TEEN\n",
    "M = Mature\n",
    "RP = RATING PENDING\n",
    "K-A = Kids to Adults\n",
    "AO = Adults Only \n",
    "\n",
    "KA and E -can be merged\n",
    "M - AO - can be merged (for the sake of simplifying the ratings)"
   ]
  },
  {
   "cell_type": "code",
   "execution_count": 870,
   "metadata": {},
   "outputs": [],
   "source": [
    "esrb_map={'RP':0,\n",
    "          'EC':1,\n",
    "          'E10+':2,\n",
    "          'T':3,\n",
    "          'E':4,\n",
    "          'K-A':4,\n",
    "          'M':5,\n",
    "          'AO':5}"
   ]
  },
  {
   "cell_type": "code",
   "execution_count": 871,
   "metadata": {},
   "outputs": [],
   "source": [
    "#vehicles['condition']= vehicles['condition'].map(condition_dict)\n",
    "games['esrb'] = games['rating'].map(esrb_map)"
   ]
  },
  {
   "cell_type": "code",
   "execution_count": 872,
   "metadata": {},
   "outputs": [
    {
     "data": {
      "text/html": [
       "<div>\n",
       "<style scoped>\n",
       "    .dataframe tbody tr th:only-of-type {\n",
       "        vertical-align: middle;\n",
       "    }\n",
       "\n",
       "    .dataframe tbody tr th {\n",
       "        vertical-align: top;\n",
       "    }\n",
       "\n",
       "    .dataframe thead th {\n",
       "        text-align: right;\n",
       "    }\n",
       "</style>\n",
       "<table border=\"1\" class=\"dataframe\">\n",
       "  <thead>\n",
       "    <tr style=\"text-align: right;\">\n",
       "      <th></th>\n",
       "      <th></th>\n",
       "      <th>esrb</th>\n",
       "    </tr>\n",
       "    <tr>\n",
       "      <th>platform</th>\n",
       "      <th>genre</th>\n",
       "      <th></th>\n",
       "    </tr>\n",
       "  </thead>\n",
       "  <tbody>\n",
       "    <tr>\n",
       "      <th rowspan=\"5\" valign=\"top\">2600</th>\n",
       "      <th>Action</th>\n",
       "      <td>0</td>\n",
       "    </tr>\n",
       "    <tr>\n",
       "      <th>Adventure</th>\n",
       "      <td>0</td>\n",
       "    </tr>\n",
       "    <tr>\n",
       "      <th>Fighting</th>\n",
       "      <td>0</td>\n",
       "    </tr>\n",
       "    <tr>\n",
       "      <th>Misc</th>\n",
       "      <td>0</td>\n",
       "    </tr>\n",
       "    <tr>\n",
       "      <th>Platform</th>\n",
       "      <td>0</td>\n",
       "    </tr>\n",
       "    <tr>\n",
       "      <th>...</th>\n",
       "      <th>...</th>\n",
       "      <td>...</td>\n",
       "    </tr>\n",
       "    <tr>\n",
       "      <th rowspan=\"5\" valign=\"top\">XOne</th>\n",
       "      <th>Role-Playing</th>\n",
       "      <td>8</td>\n",
       "    </tr>\n",
       "    <tr>\n",
       "      <th>Shooter</th>\n",
       "      <td>32</td>\n",
       "    </tr>\n",
       "    <tr>\n",
       "      <th>Simulation</th>\n",
       "      <td>2</td>\n",
       "    </tr>\n",
       "    <tr>\n",
       "      <th>Sports</th>\n",
       "      <td>34</td>\n",
       "    </tr>\n",
       "    <tr>\n",
       "      <th>Strategy</th>\n",
       "      <td>2</td>\n",
       "    </tr>\n",
       "  </tbody>\n",
       "</table>\n",
       "<p>293 rows × 1 columns</p>\n",
       "</div>"
      ],
      "text/plain": [
       "                       esrb\n",
       "platform genre             \n",
       "2600     Action           0\n",
       "         Adventure        0\n",
       "         Fighting         0\n",
       "         Misc             0\n",
       "         Platform         0\n",
       "...                     ...\n",
       "XOne     Role-Playing     8\n",
       "         Shooter         32\n",
       "         Simulation       2\n",
       "         Sports          34\n",
       "         Strategy         2\n",
       "\n",
       "[293 rows x 1 columns]"
      ]
     },
     "execution_count": 872,
     "metadata": {},
     "output_type": "execute_result"
    }
   ],
   "source": [
    "rtng_yr_gnr = games.pivot_table(index=['platform','genre'],values='esrb',aggfunc='count')\n",
    "rtng_yr_gnr"
   ]
  },
  {
   "cell_type": "code",
   "execution_count": 873,
   "metadata": {},
   "outputs": [
    {
     "data": {
      "text/html": [
       "<div>\n",
       "<style scoped>\n",
       "    .dataframe tbody tr th:only-of-type {\n",
       "        vertical-align: middle;\n",
       "    }\n",
       "\n",
       "    .dataframe tbody tr th {\n",
       "        vertical-align: top;\n",
       "    }\n",
       "\n",
       "    .dataframe thead th {\n",
       "        text-align: right;\n",
       "    }\n",
       "</style>\n",
       "<table border=\"1\" class=\"dataframe\">\n",
       "  <thead>\n",
       "    <tr style=\"text-align: right;\">\n",
       "      <th></th>\n",
       "      <th>rating</th>\n",
       "      <th>esrb</th>\n",
       "    </tr>\n",
       "    <tr>\n",
       "      <th>genre</th>\n",
       "      <th></th>\n",
       "      <th></th>\n",
       "    </tr>\n",
       "  </thead>\n",
       "  <tbody>\n",
       "    <tr>\n",
       "      <th>Action</th>\n",
       "      <td>2147</td>\n",
       "      <td>2147</td>\n",
       "    </tr>\n",
       "    <tr>\n",
       "      <th>Adventure</th>\n",
       "      <td>440</td>\n",
       "      <td>440</td>\n",
       "    </tr>\n",
       "    <tr>\n",
       "      <th>Fighting</th>\n",
       "      <td>432</td>\n",
       "      <td>432</td>\n",
       "    </tr>\n",
       "    <tr>\n",
       "      <th>Misc</th>\n",
       "      <td>862</td>\n",
       "      <td>862</td>\n",
       "    </tr>\n",
       "    <tr>\n",
       "      <th>Platform</th>\n",
       "      <td>561</td>\n",
       "      <td>561</td>\n",
       "    </tr>\n",
       "    <tr>\n",
       "      <th>Puzzle</th>\n",
       "      <td>336</td>\n",
       "      <td>336</td>\n",
       "    </tr>\n",
       "    <tr>\n",
       "      <th>Racing</th>\n",
       "      <td>857</td>\n",
       "      <td>857</td>\n",
       "    </tr>\n",
       "    <tr>\n",
       "      <th>Role-Playing</th>\n",
       "      <td>770</td>\n",
       "      <td>770</td>\n",
       "    </tr>\n",
       "    <tr>\n",
       "      <th>Shooter</th>\n",
       "      <td>997</td>\n",
       "      <td>997</td>\n",
       "    </tr>\n",
       "    <tr>\n",
       "      <th>Simulation</th>\n",
       "      <td>559</td>\n",
       "      <td>559</td>\n",
       "    </tr>\n",
       "    <tr>\n",
       "      <th>Sports</th>\n",
       "      <td>1493</td>\n",
       "      <td>1493</td>\n",
       "    </tr>\n",
       "    <tr>\n",
       "      <th>Strategy</th>\n",
       "      <td>332</td>\n",
       "      <td>332</td>\n",
       "    </tr>\n",
       "  </tbody>\n",
       "</table>\n",
       "</div>"
      ],
      "text/plain": [
       "              rating  esrb\n",
       "genre                     \n",
       "Action          2147  2147\n",
       "Adventure        440   440\n",
       "Fighting         432   432\n",
       "Misc             862   862\n",
       "Platform         561   561\n",
       "Puzzle           336   336\n",
       "Racing           857   857\n",
       "Role-Playing     770   770\n",
       "Shooter          997   997\n",
       "Simulation       559   559\n",
       "Sports          1493  1493\n",
       "Strategy         332   332"
      ]
     },
     "execution_count": 873,
     "metadata": {},
     "output_type": "execute_result"
    }
   ],
   "source": [
    "# only genre grouping\n",
    "games.groupby('genre')[['rating','esrb']].count()"
   ]
  },
  {
   "cell_type": "code",
   "execution_count": 874,
   "metadata": {},
   "outputs": [
    {
     "data": {
      "text/plain": [
       "genre\n",
       "Action          0\n",
       "Adventure       0\n",
       "Fighting        0\n",
       "Misc            0\n",
       "Platform        0\n",
       "Puzzle          0\n",
       "Racing          0\n",
       "Role-Playing    0\n",
       "Shooter         0\n",
       "Simulation      0\n",
       "Sports          0\n",
       "Strategy        0\n",
       "Name: rating, dtype: int64"
      ]
     },
     "execution_count": 874,
     "metadata": {},
     "output_type": "execute_result"
    }
   ],
   "source": [
    "#what are the genres in those platform without ratings\n",
    "games.loc[games['rating'].isna()].groupby('genre')['rating'].count()"
   ]
  },
  {
   "cell_type": "code",
   "execution_count": 875,
   "metadata": {},
   "outputs": [
    {
     "data": {
      "text/html": [
       "<div>\n",
       "<style scoped>\n",
       "    .dataframe tbody tr th:only-of-type {\n",
       "        vertical-align: middle;\n",
       "    }\n",
       "\n",
       "    .dataframe tbody tr th {\n",
       "        vertical-align: top;\n",
       "    }\n",
       "\n",
       "    .dataframe thead th {\n",
       "        text-align: right;\n",
       "    }\n",
       "</style>\n",
       "<table border=\"1\" class=\"dataframe\">\n",
       "  <thead>\n",
       "    <tr style=\"text-align: right;\">\n",
       "      <th></th>\n",
       "      <th>rating</th>\n",
       "      <th>count</th>\n",
       "      <th>percent</th>\n",
       "      <th>cumulative_count</th>\n",
       "      <th>cumulative_percent</th>\n",
       "    </tr>\n",
       "  </thead>\n",
       "  <tbody>\n",
       "    <tr>\n",
       "      <th>0</th>\n",
       "      <td>E</td>\n",
       "      <td>3936</td>\n",
       "      <td>40.220723</td>\n",
       "      <td>3936</td>\n",
       "      <td>40.220723</td>\n",
       "    </tr>\n",
       "    <tr>\n",
       "      <th>1</th>\n",
       "      <td>T</td>\n",
       "      <td>2906</td>\n",
       "      <td>29.695483</td>\n",
       "      <td>6842</td>\n",
       "      <td>69.916207</td>\n",
       "    </tr>\n",
       "    <tr>\n",
       "      <th>2</th>\n",
       "      <td>M</td>\n",
       "      <td>1537</td>\n",
       "      <td>15.706111</td>\n",
       "      <td>8379</td>\n",
       "      <td>85.622318</td>\n",
       "    </tr>\n",
       "    <tr>\n",
       "      <th>3</th>\n",
       "      <td>E10+</td>\n",
       "      <td>1394</td>\n",
       "      <td>14.244840</td>\n",
       "      <td>9773</td>\n",
       "      <td>99.867157</td>\n",
       "    </tr>\n",
       "    <tr>\n",
       "      <th>4</th>\n",
       "      <td>EC</td>\n",
       "      <td>8</td>\n",
       "      <td>0.081749</td>\n",
       "      <td>9781</td>\n",
       "      <td>99.948907</td>\n",
       "    </tr>\n",
       "    <tr>\n",
       "      <th>5</th>\n",
       "      <td>K-A</td>\n",
       "      <td>3</td>\n",
       "      <td>0.030656</td>\n",
       "      <td>9784</td>\n",
       "      <td>99.979563</td>\n",
       "    </tr>\n",
       "    <tr>\n",
       "      <th>6</th>\n",
       "      <td>RP</td>\n",
       "      <td>1</td>\n",
       "      <td>0.010219</td>\n",
       "      <td>9785</td>\n",
       "      <td>99.989781</td>\n",
       "    </tr>\n",
       "    <tr>\n",
       "      <th>7</th>\n",
       "      <td>AO</td>\n",
       "      <td>1</td>\n",
       "      <td>0.010219</td>\n",
       "      <td>9786</td>\n",
       "      <td>100.000000</td>\n",
       "    </tr>\n",
       "  </tbody>\n",
       "</table>\n",
       "</div>"
      ],
      "text/plain": [
       "  rating  count    percent  cumulative_count  cumulative_percent\n",
       "0      E   3936  40.220723              3936           40.220723\n",
       "1      T   2906  29.695483              6842           69.916207\n",
       "2      M   1537  15.706111              8379           85.622318\n",
       "3   E10+   1394  14.244840              9773           99.867157\n",
       "4     EC      8   0.081749              9781           99.948907\n",
       "5    K-A      3   0.030656              9784           99.979563\n",
       "6     RP      1   0.010219              9785           99.989781\n",
       "7     AO      1   0.010219              9786          100.000000"
      ]
     },
     "execution_count": 875,
     "metadata": {},
     "output_type": "execute_result"
    }
   ],
   "source": [
    "games.stb.freq(['rating'])"
   ]
  },
  {
   "cell_type": "markdown",
   "metadata": {},
   "source": [
    "*************\n",
    "# There is no point in filling the earlier years(1980-1993) because ESRB didnt exist then, but we'll try to fill the missing ratings after 1994.\n",
    "**Strategy :**\n",
    "1. Get the ratings per Platform, Year and Genre in set\n",
    "2. Map them to 'similar' games of the same platform, year and genre where the rating is missing"
   ]
  },
  {
   "cell_type": "code",
   "execution_count": 876,
   "metadata": {},
   "outputs": [],
   "source": [
    "no_ratings_df = games[(games['year_of_release']>=2009)&(games['rating'].isna())]\n",
    "yes_ratings_df = games[(games['year_of_release']>=2009)&(games['rating'])]"
   ]
  },
  {
   "cell_type": "code",
   "execution_count": 877,
   "metadata": {},
   "outputs": [],
   "source": [
    "p_t_ratings = yes_ratings_df.pivot_table(index=['platform','year_of_release','genre'],values='esrb')"
   ]
  },
  {
   "cell_type": "code",
   "execution_count": 878,
   "metadata": {},
   "outputs": [
    {
     "data": {
      "text/plain": [
       "MultiIndex([( '3DS', 2011.0,       'Action'),\n",
       "            ( '3DS', 2011.0,    'Adventure'),\n",
       "            ( '3DS', 2011.0,     'Fighting'),\n",
       "            ( '3DS', 2011.0,         'Misc'),\n",
       "            ( '3DS', 2011.0,     'Platform'),\n",
       "            ( '3DS', 2011.0,       'Puzzle'),\n",
       "            ( '3DS', 2011.0,       'Racing'),\n",
       "            ( '3DS', 2011.0, 'Role-Playing'),\n",
       "            ( '3DS', 2011.0,      'Shooter'),\n",
       "            ( '3DS', 2011.0,   'Simulation'),\n",
       "            ...\n",
       "            ('XOne', 2016.0,    'Adventure'),\n",
       "            ('XOne', 2016.0,     'Fighting'),\n",
       "            ('XOne', 2016.0,         'Misc'),\n",
       "            ('XOne', 2016.0,     'Platform'),\n",
       "            ('XOne', 2016.0,       'Racing'),\n",
       "            ('XOne', 2016.0, 'Role-Playing'),\n",
       "            ('XOne', 2016.0,      'Shooter'),\n",
       "            ('XOne', 2016.0,   'Simulation'),\n",
       "            ('XOne', 2016.0,       'Sports'),\n",
       "            ('XOne', 2016.0,     'Strategy')],\n",
       "           names=['platform', 'year_of_release', 'genre'], length=586)"
      ]
     },
     "execution_count": 878,
     "metadata": {},
     "output_type": "execute_result"
    }
   ],
   "source": [
    " p_t_ratings.index"
   ]
  },
  {
   "cell_type": "code",
   "execution_count": 879,
   "metadata": {},
   "outputs": [
    {
     "data": {
      "text/plain": [
       "Index(['Action', 'Adventure', 'Fighting', 'Misc', 'Platform', 'Puzzle',\n",
       "       'Racing', 'Role-Playing', 'Shooter', 'Simulation', 'Sports',\n",
       "       'Strategy'],\n",
       "      dtype='object', name='genre')"
      ]
     },
     "execution_count": 879,
     "metadata": {},
     "output_type": "execute_result"
    }
   ],
   "source": [
    "#accessing multi index\n",
    "p_t_ratings.loc['3DS',2011].index\n",
    "#print((val))"
   ]
  },
  {
   "cell_type": "code",
   "execution_count": 880,
   "metadata": {},
   "outputs": [
    {
     "data": {
      "text/html": [
       "<div>\n",
       "<style scoped>\n",
       "    .dataframe tbody tr th:only-of-type {\n",
       "        vertical-align: middle;\n",
       "    }\n",
       "\n",
       "    .dataframe tbody tr th {\n",
       "        vertical-align: top;\n",
       "    }\n",
       "\n",
       "    .dataframe thead th {\n",
       "        text-align: right;\n",
       "    }\n",
       "</style>\n",
       "<table border=\"1\" class=\"dataframe\">\n",
       "  <thead>\n",
       "    <tr style=\"text-align: right;\">\n",
       "      <th></th>\n",
       "      <th>name</th>\n",
       "      <th>platform</th>\n",
       "      <th>year_of_release</th>\n",
       "      <th>genre</th>\n",
       "      <th>na_sales</th>\n",
       "      <th>eu_sales</th>\n",
       "      <th>jp_sales</th>\n",
       "      <th>other_sales</th>\n",
       "      <th>critic_score</th>\n",
       "      <th>user_score</th>\n",
       "      <th>rating</th>\n",
       "      <th>esrb</th>\n",
       "    </tr>\n",
       "  </thead>\n",
       "  <tbody>\n",
       "    <tr>\n",
       "      <th>980</th>\n",
       "      <td>Professor Layton and the Mask of Miracle</td>\n",
       "      <td>3DS</td>\n",
       "      <td>2011.0</td>\n",
       "      <td>Puzzle</td>\n",
       "      <td>0.32</td>\n",
       "      <td>0.97</td>\n",
       "      <td>0.36</td>\n",
       "      <td>0.13</td>\n",
       "      <td>68.0</td>\n",
       "      <td>7.1</td>\n",
       "      <td>NaN</td>\n",
       "      <td>NaN</td>\n",
       "    </tr>\n",
       "    <tr>\n",
       "      <th>9530</th>\n",
       "      <td>Puyo Puyo!! 20th Anniversary</td>\n",
       "      <td>3DS</td>\n",
       "      <td>2011.0</td>\n",
       "      <td>Puzzle</td>\n",
       "      <td>0.00</td>\n",
       "      <td>0.00</td>\n",
       "      <td>0.13</td>\n",
       "      <td>0.00</td>\n",
       "      <td>68.0</td>\n",
       "      <td>7.1</td>\n",
       "      <td>NaN</td>\n",
       "      <td>NaN</td>\n",
       "    </tr>\n",
       "  </tbody>\n",
       "</table>\n",
       "</div>"
      ],
      "text/plain": [
       "                                          name platform  year_of_release  \\\n",
       "980   Professor Layton and the Mask of Miracle      3DS           2011.0   \n",
       "9530              Puyo Puyo!! 20th Anniversary      3DS           2011.0   \n",
       "\n",
       "       genre  na_sales  eu_sales  jp_sales  other_sales  critic_score  \\\n",
       "980   Puzzle      0.32      0.97      0.36         0.13          68.0   \n",
       "9530  Puzzle      0.00      0.00      0.13         0.00          68.0   \n",
       "\n",
       "      user_score rating  esrb  \n",
       "980          7.1    NaN   NaN  \n",
       "9530         7.1    NaN   NaN  "
      ]
     },
     "execution_count": 880,
     "metadata": {},
     "output_type": "execute_result"
    }
   ],
   "source": [
    "games[(games['platform']=='3DS') & (games['year_of_release']==2011) & (games['genre']=='Puzzle') & (games['esrb'].isna())]"
   ]
  },
  {
   "cell_type": "code",
   "execution_count": null,
   "metadata": {},
   "outputs": [],
   "source": []
  },
  {
   "cell_type": "code",
   "execution_count": 881,
   "metadata": {},
   "outputs": [],
   "source": [
    "platforms = yes_ratings_df.groupby('platform')['platform'].count().index.tolist()"
   ]
  },
  {
   "cell_type": "code",
   "execution_count": 882,
   "metadata": {},
   "outputs": [
    {
     "data": {
      "text/plain": [
       "[2011.0, 2012.0, 2013.0, 2014.0, 2015.0, 2016.0]"
      ]
     },
     "execution_count": 882,
     "metadata": {},
     "output_type": "execute_result"
    }
   ],
   "source": [
    "yes_ratings_df[yes_ratings_df['platform']=='3DS'].groupby('year_of_release').count().index.tolist()"
   ]
  },
  {
   "cell_type": "code",
   "execution_count": 883,
   "metadata": {},
   "outputs": [
    {
     "data": {
      "text/plain": [
       "['Action',\n",
       " 'Adventure',\n",
       " 'Fighting',\n",
       " 'Misc',\n",
       " 'Platform',\n",
       " 'Puzzle',\n",
       " 'Role-Playing',\n",
       " 'Simulation',\n",
       " 'Sports']"
      ]
     },
     "execution_count": 883,
     "metadata": {},
     "output_type": "execute_result"
    }
   ],
   "source": [
    "yes_ratings_df[(yes_ratings_df['platform']=='3DS') & (yes_ratings_df['year_of_release']==2012)].groupby('genre').count().index.tolist()"
   ]
  },
  {
   "cell_type": "markdown",
   "metadata": {},
   "source": [
    "# This loop maps the values to be filled . Its a bit convoluted but I couldnt figure out a more elegant solution"
   ]
  },
  {
   "cell_type": "code",
   "execution_count": 884,
   "metadata": {},
   "outputs": [
    {
     "name": "stdout",
     "output_type": "stream",
     "text": [
      "4\n"
     ]
    }
   ],
   "source": [
    "for platform in platforms:\n",
    "    years = yes_ratings_df[yes_ratings_df['platform']==platform].groupby('year_of_release').count().index.tolist()\n",
    "    for year in years:\n",
    "        genres = yes_ratings_df[(yes_ratings_df['platform']==platform) & (yes_ratings_df['year_of_release']==year)].groupby('genre').count().index.tolist()\n",
    "        for genre in genres:            \n",
    "                value = (p_t_ratings.loc[platform,year,genre])\n",
    "                if platform=='3DS' and  year==2011  and genre=='Puzzle':\n",
    "                    print(int(value))\n",
    "                games.loc[(games['platform']==platform)\n",
    "                  & (games['year_of_release']==year)\n",
    "                  & (games['genre']==genre) & (games['esrb'].isna()),'esrb'] = int(value)\n",
    "            \n",
    "            "
   ]
  },
  {
   "cell_type": "code",
   "execution_count": 885,
   "metadata": {},
   "outputs": [
    {
     "data": {
      "text/plain": [
       "Series([], Name: esrb, dtype: float64)"
      ]
     },
     "execution_count": 885,
     "metadata": {},
     "output_type": "execute_result"
    }
   ],
   "source": [
    "games.loc[(games['platform']=='3DS')\n",
    "          & (games['year_of_release']==2011)\n",
    "          & (games['genre']=='Puzzle') & (games['esrb'].isna()),'esrb'] "
   ]
  },
  {
   "cell_type": "code",
   "execution_count": 886,
   "metadata": {},
   "outputs": [
    {
     "data": {
      "text/plain": [
       "980      4.0\n",
       "4480     4.0\n",
       "5728     4.0\n",
       "9530     4.0\n",
       "11134    4.0\n",
       "11329    4.0\n",
       "11515    4.0\n",
       "Name: esrb, dtype: float64"
      ]
     },
     "execution_count": 886,
     "metadata": {},
     "output_type": "execute_result"
    }
   ],
   "source": [
    "games.loc[(games['platform']=='3DS')\n",
    "          & (games['year_of_release']==2011)\n",
    "          & (games['genre']=='Puzzle'),'esrb']"
   ]
  },
  {
   "cell_type": "code",
   "execution_count": 887,
   "metadata": {},
   "outputs": [
    {
     "data": {
      "text/html": [
       "<style  type=\"text/css\" >\n",
       "</style><table id=\"T_49045166_9571_11ec_93ff_e470b8a528c2\" ><thead>    <tr>        <th class=\"blank level0\" ></th>        <th class=\"col_heading level0 col0\" >missing</th>        <th class=\"col_heading level0 col1\" >total</th>        <th class=\"col_heading level0 col2\" >percent</th>    </tr></thead><tbody>\n",
       "                <tr>\n",
       "                        <th id=\"T_49045166_9571_11ec_93ff_e470b8a528c2level0_row0\" class=\"row_heading level0 row0\" >rating</th>\n",
       "                        <td id=\"T_49045166_9571_11ec_93ff_e470b8a528c2row0_col0\" class=\"data row0 col0\" >6,685</td>\n",
       "                        <td id=\"T_49045166_9571_11ec_93ff_e470b8a528c2row0_col1\" class=\"data row0 col1\" >16,471</td>\n",
       "                        <td id=\"T_49045166_9571_11ec_93ff_e470b8a528c2row0_col2\" class=\"data row0 col2\" >40.59%</td>\n",
       "            </tr>\n",
       "            <tr>\n",
       "                        <th id=\"T_49045166_9571_11ec_93ff_e470b8a528c2level0_row1\" class=\"row_heading level0 row1\" >esrb</th>\n",
       "                        <td id=\"T_49045166_9571_11ec_93ff_e470b8a528c2row1_col0\" class=\"data row1 col0\" >4,316</td>\n",
       "                        <td id=\"T_49045166_9571_11ec_93ff_e470b8a528c2row1_col1\" class=\"data row1 col1\" >16,471</td>\n",
       "                        <td id=\"T_49045166_9571_11ec_93ff_e470b8a528c2row1_col2\" class=\"data row1 col2\" >26.20%</td>\n",
       "            </tr>\n",
       "            <tr>\n",
       "                        <th id=\"T_49045166_9571_11ec_93ff_e470b8a528c2level0_row2\" class=\"row_heading level0 row2\" >critic_score</th>\n",
       "                        <td id=\"T_49045166_9571_11ec_93ff_e470b8a528c2row2_col0\" class=\"data row2 col0\" >1,099</td>\n",
       "                        <td id=\"T_49045166_9571_11ec_93ff_e470b8a528c2row2_col1\" class=\"data row2 col1\" >16,471</td>\n",
       "                        <td id=\"T_49045166_9571_11ec_93ff_e470b8a528c2row2_col2\" class=\"data row2 col2\" >6.67%</td>\n",
       "            </tr>\n",
       "            <tr>\n",
       "                        <th id=\"T_49045166_9571_11ec_93ff_e470b8a528c2level0_row3\" class=\"row_heading level0 row3\" >user_score</th>\n",
       "                        <td id=\"T_49045166_9571_11ec_93ff_e470b8a528c2row3_col0\" class=\"data row3 col0\" >1,099</td>\n",
       "                        <td id=\"T_49045166_9571_11ec_93ff_e470b8a528c2row3_col1\" class=\"data row3 col1\" >16,471</td>\n",
       "                        <td id=\"T_49045166_9571_11ec_93ff_e470b8a528c2row3_col2\" class=\"data row3 col2\" >6.67%</td>\n",
       "            </tr>\n",
       "            <tr>\n",
       "                        <th id=\"T_49045166_9571_11ec_93ff_e470b8a528c2level0_row4\" class=\"row_heading level0 row4\" >name</th>\n",
       "                        <td id=\"T_49045166_9571_11ec_93ff_e470b8a528c2row4_col0\" class=\"data row4 col0\" >2</td>\n",
       "                        <td id=\"T_49045166_9571_11ec_93ff_e470b8a528c2row4_col1\" class=\"data row4 col1\" >16,471</td>\n",
       "                        <td id=\"T_49045166_9571_11ec_93ff_e470b8a528c2row4_col2\" class=\"data row4 col2\" >0.01%</td>\n",
       "            </tr>\n",
       "            <tr>\n",
       "                        <th id=\"T_49045166_9571_11ec_93ff_e470b8a528c2level0_row5\" class=\"row_heading level0 row5\" >genre</th>\n",
       "                        <td id=\"T_49045166_9571_11ec_93ff_e470b8a528c2row5_col0\" class=\"data row5 col0\" >2</td>\n",
       "                        <td id=\"T_49045166_9571_11ec_93ff_e470b8a528c2row5_col1\" class=\"data row5 col1\" >16,471</td>\n",
       "                        <td id=\"T_49045166_9571_11ec_93ff_e470b8a528c2row5_col2\" class=\"data row5 col2\" >0.01%</td>\n",
       "            </tr>\n",
       "            <tr>\n",
       "                        <th id=\"T_49045166_9571_11ec_93ff_e470b8a528c2level0_row6\" class=\"row_heading level0 row6\" >platform</th>\n",
       "                        <td id=\"T_49045166_9571_11ec_93ff_e470b8a528c2row6_col0\" class=\"data row6 col0\" >0</td>\n",
       "                        <td id=\"T_49045166_9571_11ec_93ff_e470b8a528c2row6_col1\" class=\"data row6 col1\" >16,471</td>\n",
       "                        <td id=\"T_49045166_9571_11ec_93ff_e470b8a528c2row6_col2\" class=\"data row6 col2\" >0.00%</td>\n",
       "            </tr>\n",
       "            <tr>\n",
       "                        <th id=\"T_49045166_9571_11ec_93ff_e470b8a528c2level0_row7\" class=\"row_heading level0 row7\" >year_of_release</th>\n",
       "                        <td id=\"T_49045166_9571_11ec_93ff_e470b8a528c2row7_col0\" class=\"data row7 col0\" >0</td>\n",
       "                        <td id=\"T_49045166_9571_11ec_93ff_e470b8a528c2row7_col1\" class=\"data row7 col1\" >16,471</td>\n",
       "                        <td id=\"T_49045166_9571_11ec_93ff_e470b8a528c2row7_col2\" class=\"data row7 col2\" >0.00%</td>\n",
       "            </tr>\n",
       "            <tr>\n",
       "                        <th id=\"T_49045166_9571_11ec_93ff_e470b8a528c2level0_row8\" class=\"row_heading level0 row8\" >na_sales</th>\n",
       "                        <td id=\"T_49045166_9571_11ec_93ff_e470b8a528c2row8_col0\" class=\"data row8 col0\" >0</td>\n",
       "                        <td id=\"T_49045166_9571_11ec_93ff_e470b8a528c2row8_col1\" class=\"data row8 col1\" >16,471</td>\n",
       "                        <td id=\"T_49045166_9571_11ec_93ff_e470b8a528c2row8_col2\" class=\"data row8 col2\" >0.00%</td>\n",
       "            </tr>\n",
       "            <tr>\n",
       "                        <th id=\"T_49045166_9571_11ec_93ff_e470b8a528c2level0_row9\" class=\"row_heading level0 row9\" >eu_sales</th>\n",
       "                        <td id=\"T_49045166_9571_11ec_93ff_e470b8a528c2row9_col0\" class=\"data row9 col0\" >0</td>\n",
       "                        <td id=\"T_49045166_9571_11ec_93ff_e470b8a528c2row9_col1\" class=\"data row9 col1\" >16,471</td>\n",
       "                        <td id=\"T_49045166_9571_11ec_93ff_e470b8a528c2row9_col2\" class=\"data row9 col2\" >0.00%</td>\n",
       "            </tr>\n",
       "            <tr>\n",
       "                        <th id=\"T_49045166_9571_11ec_93ff_e470b8a528c2level0_row10\" class=\"row_heading level0 row10\" >jp_sales</th>\n",
       "                        <td id=\"T_49045166_9571_11ec_93ff_e470b8a528c2row10_col0\" class=\"data row10 col0\" >0</td>\n",
       "                        <td id=\"T_49045166_9571_11ec_93ff_e470b8a528c2row10_col1\" class=\"data row10 col1\" >16,471</td>\n",
       "                        <td id=\"T_49045166_9571_11ec_93ff_e470b8a528c2row10_col2\" class=\"data row10 col2\" >0.00%</td>\n",
       "            </tr>\n",
       "            <tr>\n",
       "                        <th id=\"T_49045166_9571_11ec_93ff_e470b8a528c2level0_row11\" class=\"row_heading level0 row11\" >other_sales</th>\n",
       "                        <td id=\"T_49045166_9571_11ec_93ff_e470b8a528c2row11_col0\" class=\"data row11 col0\" >0</td>\n",
       "                        <td id=\"T_49045166_9571_11ec_93ff_e470b8a528c2row11_col1\" class=\"data row11 col1\" >16,471</td>\n",
       "                        <td id=\"T_49045166_9571_11ec_93ff_e470b8a528c2row11_col2\" class=\"data row11 col2\" >0.00%</td>\n",
       "            </tr>\n",
       "    </tbody></table>"
      ],
      "text/plain": [
       "<pandas.io.formats.style.Styler at 0x24dc29cc6d8>"
      ]
     },
     "execution_count": 887,
     "metadata": {},
     "output_type": "execute_result"
    }
   ],
   "source": [
    "games.stb.missing(style=True)"
   ]
  },
  {
   "cell_type": "code",
   "execution_count": 888,
   "metadata": {},
   "outputs": [
    {
     "data": {
      "text/html": [
       "<style  type=\"text/css\" >\n",
       "</style><table id=\"T_49081612_9571_11ec_b6fc_e470b8a528c2\" ><thead>    <tr>        <th class=\"blank level0\" ></th>        <th class=\"col_heading level0 col0\" >missing</th>        <th class=\"col_heading level0 col1\" >total</th>        <th class=\"col_heading level0 col2\" >percent</th>    </tr></thead><tbody>\n",
       "                <tr>\n",
       "                        <th id=\"T_49081612_9571_11ec_b6fc_e470b8a528c2level0_row0\" class=\"row_heading level0 row0\" >Critic_Score</th>\n",
       "                        <td id=\"T_49081612_9571_11ec_b6fc_e470b8a528c2row0_col0\" class=\"data row0 col0\" >8,578</td>\n",
       "                        <td id=\"T_49081612_9571_11ec_b6fc_e470b8a528c2row0_col1\" class=\"data row0 col1\" >16,715</td>\n",
       "                        <td id=\"T_49081612_9571_11ec_b6fc_e470b8a528c2row0_col2\" class=\"data row0 col2\" >51.32%</td>\n",
       "            </tr>\n",
       "            <tr>\n",
       "                        <th id=\"T_49081612_9571_11ec_b6fc_e470b8a528c2level0_row1\" class=\"row_heading level0 row1\" >Rating</th>\n",
       "                        <td id=\"T_49081612_9571_11ec_b6fc_e470b8a528c2row1_col0\" class=\"data row1 col0\" >6,766</td>\n",
       "                        <td id=\"T_49081612_9571_11ec_b6fc_e470b8a528c2row1_col1\" class=\"data row1 col1\" >16,715</td>\n",
       "                        <td id=\"T_49081612_9571_11ec_b6fc_e470b8a528c2row1_col2\" class=\"data row1 col2\" >40.48%</td>\n",
       "            </tr>\n",
       "            <tr>\n",
       "                        <th id=\"T_49081612_9571_11ec_b6fc_e470b8a528c2level0_row2\" class=\"row_heading level0 row2\" >User_Score</th>\n",
       "                        <td id=\"T_49081612_9571_11ec_b6fc_e470b8a528c2row2_col0\" class=\"data row2 col0\" >6,701</td>\n",
       "                        <td id=\"T_49081612_9571_11ec_b6fc_e470b8a528c2row2_col1\" class=\"data row2 col1\" >16,715</td>\n",
       "                        <td id=\"T_49081612_9571_11ec_b6fc_e470b8a528c2row2_col2\" class=\"data row2 col2\" >40.09%</td>\n",
       "            </tr>\n",
       "            <tr>\n",
       "                        <th id=\"T_49081612_9571_11ec_b6fc_e470b8a528c2level0_row3\" class=\"row_heading level0 row3\" >Year_of_Release</th>\n",
       "                        <td id=\"T_49081612_9571_11ec_b6fc_e470b8a528c2row3_col0\" class=\"data row3 col0\" >269</td>\n",
       "                        <td id=\"T_49081612_9571_11ec_b6fc_e470b8a528c2row3_col1\" class=\"data row3 col1\" >16,715</td>\n",
       "                        <td id=\"T_49081612_9571_11ec_b6fc_e470b8a528c2row3_col2\" class=\"data row3 col2\" >1.61%</td>\n",
       "            </tr>\n",
       "            <tr>\n",
       "                        <th id=\"T_49081612_9571_11ec_b6fc_e470b8a528c2level0_row4\" class=\"row_heading level0 row4\" >Name</th>\n",
       "                        <td id=\"T_49081612_9571_11ec_b6fc_e470b8a528c2row4_col0\" class=\"data row4 col0\" >2</td>\n",
       "                        <td id=\"T_49081612_9571_11ec_b6fc_e470b8a528c2row4_col1\" class=\"data row4 col1\" >16,715</td>\n",
       "                        <td id=\"T_49081612_9571_11ec_b6fc_e470b8a528c2row4_col2\" class=\"data row4 col2\" >0.01%</td>\n",
       "            </tr>\n",
       "            <tr>\n",
       "                        <th id=\"T_49081612_9571_11ec_b6fc_e470b8a528c2level0_row5\" class=\"row_heading level0 row5\" >Genre</th>\n",
       "                        <td id=\"T_49081612_9571_11ec_b6fc_e470b8a528c2row5_col0\" class=\"data row5 col0\" >2</td>\n",
       "                        <td id=\"T_49081612_9571_11ec_b6fc_e470b8a528c2row5_col1\" class=\"data row5 col1\" >16,715</td>\n",
       "                        <td id=\"T_49081612_9571_11ec_b6fc_e470b8a528c2row5_col2\" class=\"data row5 col2\" >0.01%</td>\n",
       "            </tr>\n",
       "            <tr>\n",
       "                        <th id=\"T_49081612_9571_11ec_b6fc_e470b8a528c2level0_row6\" class=\"row_heading level0 row6\" >Platform</th>\n",
       "                        <td id=\"T_49081612_9571_11ec_b6fc_e470b8a528c2row6_col0\" class=\"data row6 col0\" >0</td>\n",
       "                        <td id=\"T_49081612_9571_11ec_b6fc_e470b8a528c2row6_col1\" class=\"data row6 col1\" >16,715</td>\n",
       "                        <td id=\"T_49081612_9571_11ec_b6fc_e470b8a528c2row6_col2\" class=\"data row6 col2\" >0.00%</td>\n",
       "            </tr>\n",
       "            <tr>\n",
       "                        <th id=\"T_49081612_9571_11ec_b6fc_e470b8a528c2level0_row7\" class=\"row_heading level0 row7\" >NA_sales</th>\n",
       "                        <td id=\"T_49081612_9571_11ec_b6fc_e470b8a528c2row7_col0\" class=\"data row7 col0\" >0</td>\n",
       "                        <td id=\"T_49081612_9571_11ec_b6fc_e470b8a528c2row7_col1\" class=\"data row7 col1\" >16,715</td>\n",
       "                        <td id=\"T_49081612_9571_11ec_b6fc_e470b8a528c2row7_col2\" class=\"data row7 col2\" >0.00%</td>\n",
       "            </tr>\n",
       "            <tr>\n",
       "                        <th id=\"T_49081612_9571_11ec_b6fc_e470b8a528c2level0_row8\" class=\"row_heading level0 row8\" >EU_sales</th>\n",
       "                        <td id=\"T_49081612_9571_11ec_b6fc_e470b8a528c2row8_col0\" class=\"data row8 col0\" >0</td>\n",
       "                        <td id=\"T_49081612_9571_11ec_b6fc_e470b8a528c2row8_col1\" class=\"data row8 col1\" >16,715</td>\n",
       "                        <td id=\"T_49081612_9571_11ec_b6fc_e470b8a528c2row8_col2\" class=\"data row8 col2\" >0.00%</td>\n",
       "            </tr>\n",
       "            <tr>\n",
       "                        <th id=\"T_49081612_9571_11ec_b6fc_e470b8a528c2level0_row9\" class=\"row_heading level0 row9\" >JP_sales</th>\n",
       "                        <td id=\"T_49081612_9571_11ec_b6fc_e470b8a528c2row9_col0\" class=\"data row9 col0\" >0</td>\n",
       "                        <td id=\"T_49081612_9571_11ec_b6fc_e470b8a528c2row9_col1\" class=\"data row9 col1\" >16,715</td>\n",
       "                        <td id=\"T_49081612_9571_11ec_b6fc_e470b8a528c2row9_col2\" class=\"data row9 col2\" >0.00%</td>\n",
       "            </tr>\n",
       "            <tr>\n",
       "                        <th id=\"T_49081612_9571_11ec_b6fc_e470b8a528c2level0_row10\" class=\"row_heading level0 row10\" >Other_sales</th>\n",
       "                        <td id=\"T_49081612_9571_11ec_b6fc_e470b8a528c2row10_col0\" class=\"data row10 col0\" >0</td>\n",
       "                        <td id=\"T_49081612_9571_11ec_b6fc_e470b8a528c2row10_col1\" class=\"data row10 col1\" >16,715</td>\n",
       "                        <td id=\"T_49081612_9571_11ec_b6fc_e470b8a528c2row10_col2\" class=\"data row10 col2\" >0.00%</td>\n",
       "            </tr>\n",
       "    </tbody></table>"
      ],
      "text/plain": [
       "<pandas.io.formats.style.Styler at 0x24dc3e55ba8>"
      ]
     },
     "execution_count": 888,
     "metadata": {},
     "output_type": "execute_result"
    }
   ],
   "source": [
    "missing_original"
   ]
  },
  {
   "cell_type": "markdown",
   "metadata": {},
   "source": [
    "## Important Note: the esrb column should not be considered reliable at all. We'll see what  their part is for the final analysis"
   ]
  },
  {
   "cell_type": "code",
   "execution_count": 889,
   "metadata": {},
   "outputs": [],
   "source": [
    "games2 = games.drop(columns='rating')"
   ]
  },
  {
   "cell_type": "code",
   "execution_count": 890,
   "metadata": {},
   "outputs": [
    {
     "data": {
      "text/html": [
       "<style  type=\"text/css\" >\n",
       "</style><table id=\"T_4910732c_9571_11ec_afb7_e470b8a528c2\" ><thead>    <tr>        <th class=\"blank level0\" ></th>        <th class=\"col_heading level0 col0\" >missing</th>        <th class=\"col_heading level0 col1\" >total</th>        <th class=\"col_heading level0 col2\" >percent</th>    </tr></thead><tbody>\n",
       "                <tr>\n",
       "                        <th id=\"T_4910732c_9571_11ec_afb7_e470b8a528c2level0_row0\" class=\"row_heading level0 row0\" >esrb</th>\n",
       "                        <td id=\"T_4910732c_9571_11ec_afb7_e470b8a528c2row0_col0\" class=\"data row0 col0\" >4,316</td>\n",
       "                        <td id=\"T_4910732c_9571_11ec_afb7_e470b8a528c2row0_col1\" class=\"data row0 col1\" >16,471</td>\n",
       "                        <td id=\"T_4910732c_9571_11ec_afb7_e470b8a528c2row0_col2\" class=\"data row0 col2\" >26.20%</td>\n",
       "            </tr>\n",
       "            <tr>\n",
       "                        <th id=\"T_4910732c_9571_11ec_afb7_e470b8a528c2level0_row1\" class=\"row_heading level0 row1\" >critic_score</th>\n",
       "                        <td id=\"T_4910732c_9571_11ec_afb7_e470b8a528c2row1_col0\" class=\"data row1 col0\" >1,099</td>\n",
       "                        <td id=\"T_4910732c_9571_11ec_afb7_e470b8a528c2row1_col1\" class=\"data row1 col1\" >16,471</td>\n",
       "                        <td id=\"T_4910732c_9571_11ec_afb7_e470b8a528c2row1_col2\" class=\"data row1 col2\" >6.67%</td>\n",
       "            </tr>\n",
       "            <tr>\n",
       "                        <th id=\"T_4910732c_9571_11ec_afb7_e470b8a528c2level0_row2\" class=\"row_heading level0 row2\" >user_score</th>\n",
       "                        <td id=\"T_4910732c_9571_11ec_afb7_e470b8a528c2row2_col0\" class=\"data row2 col0\" >1,099</td>\n",
       "                        <td id=\"T_4910732c_9571_11ec_afb7_e470b8a528c2row2_col1\" class=\"data row2 col1\" >16,471</td>\n",
       "                        <td id=\"T_4910732c_9571_11ec_afb7_e470b8a528c2row2_col2\" class=\"data row2 col2\" >6.67%</td>\n",
       "            </tr>\n",
       "            <tr>\n",
       "                        <th id=\"T_4910732c_9571_11ec_afb7_e470b8a528c2level0_row3\" class=\"row_heading level0 row3\" >name</th>\n",
       "                        <td id=\"T_4910732c_9571_11ec_afb7_e470b8a528c2row3_col0\" class=\"data row3 col0\" >2</td>\n",
       "                        <td id=\"T_4910732c_9571_11ec_afb7_e470b8a528c2row3_col1\" class=\"data row3 col1\" >16,471</td>\n",
       "                        <td id=\"T_4910732c_9571_11ec_afb7_e470b8a528c2row3_col2\" class=\"data row3 col2\" >0.01%</td>\n",
       "            </tr>\n",
       "            <tr>\n",
       "                        <th id=\"T_4910732c_9571_11ec_afb7_e470b8a528c2level0_row4\" class=\"row_heading level0 row4\" >genre</th>\n",
       "                        <td id=\"T_4910732c_9571_11ec_afb7_e470b8a528c2row4_col0\" class=\"data row4 col0\" >2</td>\n",
       "                        <td id=\"T_4910732c_9571_11ec_afb7_e470b8a528c2row4_col1\" class=\"data row4 col1\" >16,471</td>\n",
       "                        <td id=\"T_4910732c_9571_11ec_afb7_e470b8a528c2row4_col2\" class=\"data row4 col2\" >0.01%</td>\n",
       "            </tr>\n",
       "            <tr>\n",
       "                        <th id=\"T_4910732c_9571_11ec_afb7_e470b8a528c2level0_row5\" class=\"row_heading level0 row5\" >platform</th>\n",
       "                        <td id=\"T_4910732c_9571_11ec_afb7_e470b8a528c2row5_col0\" class=\"data row5 col0\" >0</td>\n",
       "                        <td id=\"T_4910732c_9571_11ec_afb7_e470b8a528c2row5_col1\" class=\"data row5 col1\" >16,471</td>\n",
       "                        <td id=\"T_4910732c_9571_11ec_afb7_e470b8a528c2row5_col2\" class=\"data row5 col2\" >0.00%</td>\n",
       "            </tr>\n",
       "            <tr>\n",
       "                        <th id=\"T_4910732c_9571_11ec_afb7_e470b8a528c2level0_row6\" class=\"row_heading level0 row6\" >year_of_release</th>\n",
       "                        <td id=\"T_4910732c_9571_11ec_afb7_e470b8a528c2row6_col0\" class=\"data row6 col0\" >0</td>\n",
       "                        <td id=\"T_4910732c_9571_11ec_afb7_e470b8a528c2row6_col1\" class=\"data row6 col1\" >16,471</td>\n",
       "                        <td id=\"T_4910732c_9571_11ec_afb7_e470b8a528c2row6_col2\" class=\"data row6 col2\" >0.00%</td>\n",
       "            </tr>\n",
       "            <tr>\n",
       "                        <th id=\"T_4910732c_9571_11ec_afb7_e470b8a528c2level0_row7\" class=\"row_heading level0 row7\" >na_sales</th>\n",
       "                        <td id=\"T_4910732c_9571_11ec_afb7_e470b8a528c2row7_col0\" class=\"data row7 col0\" >0</td>\n",
       "                        <td id=\"T_4910732c_9571_11ec_afb7_e470b8a528c2row7_col1\" class=\"data row7 col1\" >16,471</td>\n",
       "                        <td id=\"T_4910732c_9571_11ec_afb7_e470b8a528c2row7_col2\" class=\"data row7 col2\" >0.00%</td>\n",
       "            </tr>\n",
       "            <tr>\n",
       "                        <th id=\"T_4910732c_9571_11ec_afb7_e470b8a528c2level0_row8\" class=\"row_heading level0 row8\" >eu_sales</th>\n",
       "                        <td id=\"T_4910732c_9571_11ec_afb7_e470b8a528c2row8_col0\" class=\"data row8 col0\" >0</td>\n",
       "                        <td id=\"T_4910732c_9571_11ec_afb7_e470b8a528c2row8_col1\" class=\"data row8 col1\" >16,471</td>\n",
       "                        <td id=\"T_4910732c_9571_11ec_afb7_e470b8a528c2row8_col2\" class=\"data row8 col2\" >0.00%</td>\n",
       "            </tr>\n",
       "            <tr>\n",
       "                        <th id=\"T_4910732c_9571_11ec_afb7_e470b8a528c2level0_row9\" class=\"row_heading level0 row9\" >jp_sales</th>\n",
       "                        <td id=\"T_4910732c_9571_11ec_afb7_e470b8a528c2row9_col0\" class=\"data row9 col0\" >0</td>\n",
       "                        <td id=\"T_4910732c_9571_11ec_afb7_e470b8a528c2row9_col1\" class=\"data row9 col1\" >16,471</td>\n",
       "                        <td id=\"T_4910732c_9571_11ec_afb7_e470b8a528c2row9_col2\" class=\"data row9 col2\" >0.00%</td>\n",
       "            </tr>\n",
       "            <tr>\n",
       "                        <th id=\"T_4910732c_9571_11ec_afb7_e470b8a528c2level0_row10\" class=\"row_heading level0 row10\" >other_sales</th>\n",
       "                        <td id=\"T_4910732c_9571_11ec_afb7_e470b8a528c2row10_col0\" class=\"data row10 col0\" >0</td>\n",
       "                        <td id=\"T_4910732c_9571_11ec_afb7_e470b8a528c2row10_col1\" class=\"data row10 col1\" >16,471</td>\n",
       "                        <td id=\"T_4910732c_9571_11ec_afb7_e470b8a528c2row10_col2\" class=\"data row10 col2\" >0.00%</td>\n",
       "            </tr>\n",
       "    </tbody></table>"
      ],
      "text/plain": [
       "<pandas.io.formats.style.Styler at 0x24dc29ccef0>"
      ]
     },
     "execution_count": 890,
     "metadata": {},
     "output_type": "execute_result"
    }
   ],
   "source": [
    "games2.stb.missing(style=True)"
   ]
  },
  {
   "cell_type": "markdown",
   "metadata": {},
   "source": [
    "# esrb or rating - from 40% to 26.5% missing\n",
    "***************\n"
   ]
  },
  {
   "cell_type": "code",
   "execution_count": 891,
   "metadata": {},
   "outputs": [
    {
     "data": {
      "text/html": [
       "<div>\n",
       "<style scoped>\n",
       "    .dataframe tbody tr th:only-of-type {\n",
       "        vertical-align: middle;\n",
       "    }\n",
       "\n",
       "    .dataframe tbody tr th {\n",
       "        vertical-align: top;\n",
       "    }\n",
       "\n",
       "    .dataframe thead th {\n",
       "        text-align: right;\n",
       "    }\n",
       "</style>\n",
       "<table border=\"1\" class=\"dataframe\">\n",
       "  <thead>\n",
       "    <tr style=\"text-align: right;\">\n",
       "      <th></th>\n",
       "      <th>name</th>\n",
       "      <th>platform</th>\n",
       "      <th>year_of_release</th>\n",
       "      <th>genre</th>\n",
       "      <th>na_sales</th>\n",
       "      <th>eu_sales</th>\n",
       "      <th>jp_sales</th>\n",
       "      <th>other_sales</th>\n",
       "      <th>critic_score</th>\n",
       "      <th>user_score</th>\n",
       "      <th>esrb</th>\n",
       "    </tr>\n",
       "  </thead>\n",
       "  <tbody>\n",
       "    <tr>\n",
       "      <th>659</th>\n",
       "      <td>NaN</td>\n",
       "      <td>GEN</td>\n",
       "      <td>1993.0</td>\n",
       "      <td>NaN</td>\n",
       "      <td>1.78</td>\n",
       "      <td>0.53</td>\n",
       "      <td>0.00</td>\n",
       "      <td>0.08</td>\n",
       "      <td>NaN</td>\n",
       "      <td>NaN</td>\n",
       "      <td>NaN</td>\n",
       "    </tr>\n",
       "    <tr>\n",
       "      <th>14244</th>\n",
       "      <td>NaN</td>\n",
       "      <td>GEN</td>\n",
       "      <td>1993.0</td>\n",
       "      <td>NaN</td>\n",
       "      <td>0.00</td>\n",
       "      <td>0.00</td>\n",
       "      <td>0.03</td>\n",
       "      <td>0.00</td>\n",
       "      <td>NaN</td>\n",
       "      <td>NaN</td>\n",
       "      <td>NaN</td>\n",
       "    </tr>\n",
       "  </tbody>\n",
       "</table>\n",
       "</div>"
      ],
      "text/plain": [
       "      name platform  year_of_release genre  na_sales  eu_sales  jp_sales  \\\n",
       "659    NaN      GEN           1993.0   NaN      1.78      0.53      0.00   \n",
       "14244  NaN      GEN           1993.0   NaN      0.00      0.00      0.03   \n",
       "\n",
       "       other_sales  critic_score  user_score  esrb  \n",
       "659           0.08           NaN         NaN   NaN  \n",
       "14244         0.00           NaN         NaN   NaN  "
      ]
     },
     "execution_count": 891,
     "metadata": {},
     "output_type": "execute_result"
    }
   ],
   "source": [
    "#name and genre nans\n",
    "games2.loc[games2['name'].isna()]\n"
   ]
  },
  {
   "cell_type": "code",
   "execution_count": 892,
   "metadata": {},
   "outputs": [],
   "source": [
    "#games2[nan_names.index.tolist()]"
   ]
  },
  {
   "cell_type": "code",
   "execution_count": 893,
   "metadata": {},
   "outputs": [],
   "source": [
    "#lets just drop them games = games.drop(games[games['year_of_release'].isna()].index)\n",
    "games2 =  games2.drop(games2[games2['name'].isna()].index)"
   ]
  },
  {
   "cell_type": "code",
   "execution_count": 894,
   "metadata": {},
   "outputs": [
    {
     "data": {
      "text/html": [
       "<style  type=\"text/css\" >\n",
       "</style><table id=\"T_491ea28c_9571_11ec_a05f_e470b8a528c2\" ><thead>    <tr>        <th class=\"blank level0\" ></th>        <th class=\"col_heading level0 col0\" >missing</th>        <th class=\"col_heading level0 col1\" >total</th>        <th class=\"col_heading level0 col2\" >percent</th>    </tr></thead><tbody>\n",
       "                <tr>\n",
       "                        <th id=\"T_491ea28c_9571_11ec_a05f_e470b8a528c2level0_row0\" class=\"row_heading level0 row0\" >esrb</th>\n",
       "                        <td id=\"T_491ea28c_9571_11ec_a05f_e470b8a528c2row0_col0\" class=\"data row0 col0\" >4,314</td>\n",
       "                        <td id=\"T_491ea28c_9571_11ec_a05f_e470b8a528c2row0_col1\" class=\"data row0 col1\" >16,469</td>\n",
       "                        <td id=\"T_491ea28c_9571_11ec_a05f_e470b8a528c2row0_col2\" class=\"data row0 col2\" >26.19%</td>\n",
       "            </tr>\n",
       "            <tr>\n",
       "                        <th id=\"T_491ea28c_9571_11ec_a05f_e470b8a528c2level0_row1\" class=\"row_heading level0 row1\" >critic_score</th>\n",
       "                        <td id=\"T_491ea28c_9571_11ec_a05f_e470b8a528c2row1_col0\" class=\"data row1 col0\" >1,097</td>\n",
       "                        <td id=\"T_491ea28c_9571_11ec_a05f_e470b8a528c2row1_col1\" class=\"data row1 col1\" >16,469</td>\n",
       "                        <td id=\"T_491ea28c_9571_11ec_a05f_e470b8a528c2row1_col2\" class=\"data row1 col2\" >6.66%</td>\n",
       "            </tr>\n",
       "            <tr>\n",
       "                        <th id=\"T_491ea28c_9571_11ec_a05f_e470b8a528c2level0_row2\" class=\"row_heading level0 row2\" >user_score</th>\n",
       "                        <td id=\"T_491ea28c_9571_11ec_a05f_e470b8a528c2row2_col0\" class=\"data row2 col0\" >1,097</td>\n",
       "                        <td id=\"T_491ea28c_9571_11ec_a05f_e470b8a528c2row2_col1\" class=\"data row2 col1\" >16,469</td>\n",
       "                        <td id=\"T_491ea28c_9571_11ec_a05f_e470b8a528c2row2_col2\" class=\"data row2 col2\" >6.66%</td>\n",
       "            </tr>\n",
       "            <tr>\n",
       "                        <th id=\"T_491ea28c_9571_11ec_a05f_e470b8a528c2level0_row3\" class=\"row_heading level0 row3\" >name</th>\n",
       "                        <td id=\"T_491ea28c_9571_11ec_a05f_e470b8a528c2row3_col0\" class=\"data row3 col0\" >0</td>\n",
       "                        <td id=\"T_491ea28c_9571_11ec_a05f_e470b8a528c2row3_col1\" class=\"data row3 col1\" >16,469</td>\n",
       "                        <td id=\"T_491ea28c_9571_11ec_a05f_e470b8a528c2row3_col2\" class=\"data row3 col2\" >0.00%</td>\n",
       "            </tr>\n",
       "            <tr>\n",
       "                        <th id=\"T_491ea28c_9571_11ec_a05f_e470b8a528c2level0_row4\" class=\"row_heading level0 row4\" >platform</th>\n",
       "                        <td id=\"T_491ea28c_9571_11ec_a05f_e470b8a528c2row4_col0\" class=\"data row4 col0\" >0</td>\n",
       "                        <td id=\"T_491ea28c_9571_11ec_a05f_e470b8a528c2row4_col1\" class=\"data row4 col1\" >16,469</td>\n",
       "                        <td id=\"T_491ea28c_9571_11ec_a05f_e470b8a528c2row4_col2\" class=\"data row4 col2\" >0.00%</td>\n",
       "            </tr>\n",
       "            <tr>\n",
       "                        <th id=\"T_491ea28c_9571_11ec_a05f_e470b8a528c2level0_row5\" class=\"row_heading level0 row5\" >year_of_release</th>\n",
       "                        <td id=\"T_491ea28c_9571_11ec_a05f_e470b8a528c2row5_col0\" class=\"data row5 col0\" >0</td>\n",
       "                        <td id=\"T_491ea28c_9571_11ec_a05f_e470b8a528c2row5_col1\" class=\"data row5 col1\" >16,469</td>\n",
       "                        <td id=\"T_491ea28c_9571_11ec_a05f_e470b8a528c2row5_col2\" class=\"data row5 col2\" >0.00%</td>\n",
       "            </tr>\n",
       "            <tr>\n",
       "                        <th id=\"T_491ea28c_9571_11ec_a05f_e470b8a528c2level0_row6\" class=\"row_heading level0 row6\" >genre</th>\n",
       "                        <td id=\"T_491ea28c_9571_11ec_a05f_e470b8a528c2row6_col0\" class=\"data row6 col0\" >0</td>\n",
       "                        <td id=\"T_491ea28c_9571_11ec_a05f_e470b8a528c2row6_col1\" class=\"data row6 col1\" >16,469</td>\n",
       "                        <td id=\"T_491ea28c_9571_11ec_a05f_e470b8a528c2row6_col2\" class=\"data row6 col2\" >0.00%</td>\n",
       "            </tr>\n",
       "            <tr>\n",
       "                        <th id=\"T_491ea28c_9571_11ec_a05f_e470b8a528c2level0_row7\" class=\"row_heading level0 row7\" >na_sales</th>\n",
       "                        <td id=\"T_491ea28c_9571_11ec_a05f_e470b8a528c2row7_col0\" class=\"data row7 col0\" >0</td>\n",
       "                        <td id=\"T_491ea28c_9571_11ec_a05f_e470b8a528c2row7_col1\" class=\"data row7 col1\" >16,469</td>\n",
       "                        <td id=\"T_491ea28c_9571_11ec_a05f_e470b8a528c2row7_col2\" class=\"data row7 col2\" >0.00%</td>\n",
       "            </tr>\n",
       "            <tr>\n",
       "                        <th id=\"T_491ea28c_9571_11ec_a05f_e470b8a528c2level0_row8\" class=\"row_heading level0 row8\" >eu_sales</th>\n",
       "                        <td id=\"T_491ea28c_9571_11ec_a05f_e470b8a528c2row8_col0\" class=\"data row8 col0\" >0</td>\n",
       "                        <td id=\"T_491ea28c_9571_11ec_a05f_e470b8a528c2row8_col1\" class=\"data row8 col1\" >16,469</td>\n",
       "                        <td id=\"T_491ea28c_9571_11ec_a05f_e470b8a528c2row8_col2\" class=\"data row8 col2\" >0.00%</td>\n",
       "            </tr>\n",
       "            <tr>\n",
       "                        <th id=\"T_491ea28c_9571_11ec_a05f_e470b8a528c2level0_row9\" class=\"row_heading level0 row9\" >jp_sales</th>\n",
       "                        <td id=\"T_491ea28c_9571_11ec_a05f_e470b8a528c2row9_col0\" class=\"data row9 col0\" >0</td>\n",
       "                        <td id=\"T_491ea28c_9571_11ec_a05f_e470b8a528c2row9_col1\" class=\"data row9 col1\" >16,469</td>\n",
       "                        <td id=\"T_491ea28c_9571_11ec_a05f_e470b8a528c2row9_col2\" class=\"data row9 col2\" >0.00%</td>\n",
       "            </tr>\n",
       "            <tr>\n",
       "                        <th id=\"T_491ea28c_9571_11ec_a05f_e470b8a528c2level0_row10\" class=\"row_heading level0 row10\" >other_sales</th>\n",
       "                        <td id=\"T_491ea28c_9571_11ec_a05f_e470b8a528c2row10_col0\" class=\"data row10 col0\" >0</td>\n",
       "                        <td id=\"T_491ea28c_9571_11ec_a05f_e470b8a528c2row10_col1\" class=\"data row10 col1\" >16,469</td>\n",
       "                        <td id=\"T_491ea28c_9571_11ec_a05f_e470b8a528c2row10_col2\" class=\"data row10 col2\" >0.00%</td>\n",
       "            </tr>\n",
       "    </tbody></table>"
      ],
      "text/plain": [
       "<pandas.io.formats.style.Styler at 0x24dc2437b70>"
      ]
     },
     "execution_count": 894,
     "metadata": {},
     "output_type": "execute_result"
    }
   ],
   "source": [
    "games2.stb.missing(style=True)"
   ]
  },
  {
   "cell_type": "markdown",
   "metadata": {},
   "source": [
    "# Going back  to the  platforms with no user_score or critic_score - we might need to look back into these platforms and consider dropping them in the Analyzing stage"
   ]
  },
  {
   "cell_type": "code",
   "execution_count": 895,
   "metadata": {},
   "outputs": [
    {
     "data": {
      "text/plain": [
       "(array(['NES', 'GB', 'SNES', 'N64', '2600', 'GEN', 'SAT', 'SCD', 'WS',\n",
       "        'NG', 'TG16', '3DO', 'GG', 'PCFX'], dtype=object), 14)"
      ]
     },
     "execution_count": 895,
     "metadata": {},
     "output_type": "execute_result"
    }
   ],
   "source": [
    "no_ctrc_user_scr = games.loc[user_indxs,'platform'].unique()\n",
    "no_ctrc_user_scr,len(no_ctrc_user_scr)"
   ]
  },
  {
   "cell_type": "markdown",
   "metadata": {},
   "source": [
    "# **Task: Calculate the total sales (the sum of sales in all regions) for each game and put these values in a separate column.**"
   ]
  },
  {
   "cell_type": "code",
   "execution_count": 896,
   "metadata": {},
   "outputs": [
    {
     "data": {
      "text/plain": [
       "Index(['name', 'platform', 'year_of_release', 'genre', 'na_sales', 'eu_sales',\n",
       "       'jp_sales', 'other_sales', 'critic_score', 'user_score', 'esrb'],\n",
       "      dtype='object')"
      ]
     },
     "execution_count": 896,
     "metadata": {},
     "output_type": "execute_result"
    }
   ],
   "source": [
    "games2.columns"
   ]
  },
  {
   "cell_type": "code",
   "execution_count": 897,
   "metadata": {},
   "outputs": [
    {
     "data": {
      "text/html": [
       "<div>\n",
       "<style scoped>\n",
       "    .dataframe tbody tr th:only-of-type {\n",
       "        vertical-align: middle;\n",
       "    }\n",
       "\n",
       "    .dataframe tbody tr th {\n",
       "        vertical-align: top;\n",
       "    }\n",
       "\n",
       "    .dataframe thead th {\n",
       "        text-align: right;\n",
       "    }\n",
       "</style>\n",
       "<table border=\"1\" class=\"dataframe\">\n",
       "  <thead>\n",
       "    <tr style=\"text-align: right;\">\n",
       "      <th></th>\n",
       "      <th>eu_sales</th>\n",
       "      <th>jp_sales</th>\n",
       "      <th>na_sales</th>\n",
       "      <th>other_sales</th>\n",
       "    </tr>\n",
       "    <tr>\n",
       "      <th>name</th>\n",
       "      <th></th>\n",
       "      <th></th>\n",
       "      <th></th>\n",
       "      <th></th>\n",
       "    </tr>\n",
       "  </thead>\n",
       "  <tbody>\n",
       "    <tr>\n",
       "      <th>Beyblade Burst</th>\n",
       "      <td>0.00</td>\n",
       "      <td>0.03</td>\n",
       "      <td>0.00</td>\n",
       "      <td>0.00</td>\n",
       "    </tr>\n",
       "    <tr>\n",
       "      <th>Fire Emblem Fates</th>\n",
       "      <td>0.23</td>\n",
       "      <td>0.52</td>\n",
       "      <td>0.81</td>\n",
       "      <td>0.11</td>\n",
       "    </tr>\n",
       "    <tr>\n",
       "      <th>Frozen: Olaf's Quest</th>\n",
       "      <td>0.53</td>\n",
       "      <td>0.00</td>\n",
       "      <td>0.48</td>\n",
       "      <td>0.09</td>\n",
       "    </tr>\n",
       "    <tr>\n",
       "      <th>Haikyu!! Cross Team Match!</th>\n",
       "      <td>0.00</td>\n",
       "      <td>0.04</td>\n",
       "      <td>0.00</td>\n",
       "      <td>0.00</td>\n",
       "    </tr>\n",
       "    <tr>\n",
       "      <th>Tales of Xillia 2</th>\n",
       "      <td>0.12</td>\n",
       "      <td>0.45</td>\n",
       "      <td>0.20</td>\n",
       "      <td>0.07</td>\n",
       "    </tr>\n",
       "    <tr>\n",
       "      <th>...</th>\n",
       "      <td>...</td>\n",
       "      <td>...</td>\n",
       "      <td>...</td>\n",
       "      <td>...</td>\n",
       "    </tr>\n",
       "    <tr>\n",
       "      <th>thinkSMART: Chess for Kids</th>\n",
       "      <td>0.00</td>\n",
       "      <td>0.00</td>\n",
       "      <td>0.01</td>\n",
       "      <td>0.00</td>\n",
       "    </tr>\n",
       "    <tr>\n",
       "      <th>uDraw Studio</th>\n",
       "      <td>0.57</td>\n",
       "      <td>0.00</td>\n",
       "      <td>1.65</td>\n",
       "      <td>0.20</td>\n",
       "    </tr>\n",
       "    <tr>\n",
       "      <th>uDraw Studio: Instant Artist</th>\n",
       "      <td>0.10</td>\n",
       "      <td>0.00</td>\n",
       "      <td>0.07</td>\n",
       "      <td>0.02</td>\n",
       "    </tr>\n",
       "    <tr>\n",
       "      <th>wwe Smackdown vs. Raw 2006</th>\n",
       "      <td>1.02</td>\n",
       "      <td>0.00</td>\n",
       "      <td>1.57</td>\n",
       "      <td>0.41</td>\n",
       "    </tr>\n",
       "    <tr>\n",
       "      <th>¡Shin Chan Flipa en colores!</th>\n",
       "      <td>0.00</td>\n",
       "      <td>0.14</td>\n",
       "      <td>0.00</td>\n",
       "      <td>0.00</td>\n",
       "    </tr>\n",
       "  </tbody>\n",
       "</table>\n",
       "<p>11434 rows × 4 columns</p>\n",
       "</div>"
      ],
      "text/plain": [
       "                              eu_sales  jp_sales  na_sales  other_sales\n",
       "name                                                                   \n",
       " Beyblade Burst                   0.00      0.03      0.00         0.00\n",
       " Fire Emblem Fates                0.23      0.52      0.81         0.11\n",
       " Frozen: Olaf's Quest             0.53      0.00      0.48         0.09\n",
       " Haikyu!! Cross Team Match!       0.00      0.04      0.00         0.00\n",
       " Tales of Xillia 2                0.12      0.45      0.20         0.07\n",
       "...                                ...       ...       ...          ...\n",
       "thinkSMART: Chess for Kids        0.00      0.00      0.01         0.00\n",
       "uDraw Studio                      0.57      0.00      1.65         0.20\n",
       "uDraw Studio: Instant Artist      0.10      0.00      0.07         0.02\n",
       "wwe Smackdown vs. Raw 2006        1.02      0.00      1.57         0.41\n",
       "¡Shin Chan Flipa en colores!      0.00      0.14      0.00         0.00\n",
       "\n",
       "[11434 rows x 4 columns]"
      ]
     },
     "execution_count": 897,
     "metadata": {},
     "output_type": "execute_result"
    }
   ],
   "source": [
    "sales_per_game = games2.pivot_table(index='name',values=['na_sales','eu_sales','jp_sales','other_sales'],aggfunc='sum')\n",
    "sales_per_game"
   ]
  },
  {
   "cell_type": "code",
   "execution_count": 898,
   "metadata": {},
   "outputs": [
    {
     "data": {
      "text/html": [
       "<div>\n",
       "<style scoped>\n",
       "    .dataframe tbody tr th:only-of-type {\n",
       "        vertical-align: middle;\n",
       "    }\n",
       "\n",
       "    .dataframe tbody tr th {\n",
       "        vertical-align: top;\n",
       "    }\n",
       "\n",
       "    .dataframe thead th {\n",
       "        text-align: right;\n",
       "    }\n",
       "</style>\n",
       "<table border=\"1\" class=\"dataframe\">\n",
       "  <thead>\n",
       "    <tr style=\"text-align: right;\">\n",
       "      <th></th>\n",
       "      <th>eu_sales</th>\n",
       "      <th>jp_sales</th>\n",
       "      <th>na_sales</th>\n",
       "      <th>other_sales</th>\n",
       "      <th>total_sales</th>\n",
       "    </tr>\n",
       "    <tr>\n",
       "      <th>name</th>\n",
       "      <th></th>\n",
       "      <th></th>\n",
       "      <th></th>\n",
       "      <th></th>\n",
       "      <th></th>\n",
       "    </tr>\n",
       "  </thead>\n",
       "  <tbody>\n",
       "    <tr>\n",
       "      <th>Beyblade Burst</th>\n",
       "      <td>0.00</td>\n",
       "      <td>0.03</td>\n",
       "      <td>0.00</td>\n",
       "      <td>0.00</td>\n",
       "      <td>0.03</td>\n",
       "    </tr>\n",
       "    <tr>\n",
       "      <th>Fire Emblem Fates</th>\n",
       "      <td>0.23</td>\n",
       "      <td>0.52</td>\n",
       "      <td>0.81</td>\n",
       "      <td>0.11</td>\n",
       "      <td>1.67</td>\n",
       "    </tr>\n",
       "  </tbody>\n",
       "</table>\n",
       "</div>"
      ],
      "text/plain": [
       "                    eu_sales  jp_sales  na_sales  other_sales  total_sales\n",
       "name                                                                      \n",
       " Beyblade Burst         0.00      0.03      0.00         0.00         0.03\n",
       " Fire Emblem Fates      0.23      0.52      0.81         0.11         1.67"
      ]
     },
     "execution_count": 898,
     "metadata": {},
     "output_type": "execute_result"
    }
   ],
   "source": [
    "sales_per_game['total_sales'] = sales_per_game[['eu_sales','jp_sales','na_sales','other_sales']].sum(axis=1)\n",
    "sales_per_game.head(2)"
   ]
  },
  {
   "cell_type": "code",
   "execution_count": null,
   "metadata": {},
   "outputs": [],
   "source": []
  },
  {
   "cell_type": "code",
   "execution_count": 899,
   "metadata": {},
   "outputs": [
    {
     "data": {
      "text/plain": [
       "name\n",
       "Wii Sports                          82.54\n",
       "Grand Theft Auto V                  56.58\n",
       "Super Mario Bros.                   45.31\n",
       "Tetris                              35.84\n",
       "Mario Kart Wii                      35.52\n",
       "                                    ...  \n",
       "Icewind Dale II                      0.01\n",
       "Idol Janshi Suchie-Pai IV            0.01\n",
       "Imagine Figure Skater (JP sales)     0.01\n",
       "Unending Bloody Call                 0.01\n",
       "G1 Jockey 4 2008                     0.00\n",
       "Name: total_sales, Length: 11434, dtype: float64"
      ]
     },
     "execution_count": 899,
     "metadata": {},
     "output_type": "execute_result"
    }
   ],
   "source": [
    "sales_per_game_total =sales_per_game.sort_values('total_sales',ascending=False)['total_sales']\n",
    "sales_per_game_total"
   ]
  },
  {
   "cell_type": "code",
   "execution_count": 900,
   "metadata": {},
   "outputs": [
    {
     "name": "stdout",
     "output_type": "stream",
     "text": [
      "<class 'pandas.core.frame.DataFrame'>\n",
      "Int64Index: 16469 entries, 0 to 16714\n",
      "Data columns (total 11 columns):\n",
      " #   Column           Non-Null Count  Dtype  \n",
      "---  ------           --------------  -----  \n",
      " 0   name             16469 non-null  object \n",
      " 1   platform         16469 non-null  object \n",
      " 2   year_of_release  16469 non-null  float64\n",
      " 3   genre            16469 non-null  object \n",
      " 4   na_sales         16469 non-null  float64\n",
      " 5   eu_sales         16469 non-null  float64\n",
      " 6   jp_sales         16469 non-null  float64\n",
      " 7   other_sales      16469 non-null  float64\n",
      " 8   critic_score     15372 non-null  float64\n",
      " 9   user_score       15372 non-null  float64\n",
      " 10  esrb             12155 non-null  float64\n",
      "dtypes: float64(8), object(3)\n",
      "memory usage: 1.5+ MB\n"
     ]
    }
   ],
   "source": [
    "games2.info()"
   ]
  },
  {
   "cell_type": "markdown",
   "metadata": {},
   "source": [
    "# Step 3. Analyze the data"
   ]
  },
  {
   "cell_type": "markdown",
   "metadata": {},
   "source": [
    "**Look at how many games were released in different years. Is the data for every period significant?**"
   ]
  },
  {
   "cell_type": "code",
   "execution_count": 901,
   "metadata": {},
   "outputs": [],
   "source": [
    "games_per_year = pd.DataFrame(games2.pivot_table(index='year_of_release',values='name',aggfunc='count'))\n",
    "#type(games_per_year),games_per_year.head()"
   ]
  },
  {
   "cell_type": "code",
   "execution_count": 902,
   "metadata": {},
   "outputs": [
    {
     "data": {
      "text/html": [
       "<div>\n",
       "<style scoped>\n",
       "    .dataframe tbody tr th:only-of-type {\n",
       "        vertical-align: middle;\n",
       "    }\n",
       "\n",
       "    .dataframe tbody tr th {\n",
       "        vertical-align: top;\n",
       "    }\n",
       "\n",
       "    .dataframe thead th {\n",
       "        text-align: right;\n",
       "    }\n",
       "</style>\n",
       "<table border=\"1\" class=\"dataframe\">\n",
       "  <thead>\n",
       "    <tr style=\"text-align: right;\">\n",
       "      <th></th>\n",
       "      <th>name</th>\n",
       "    </tr>\n",
       "    <tr>\n",
       "      <th>year_of_release</th>\n",
       "      <th></th>\n",
       "    </tr>\n",
       "  </thead>\n",
       "  <tbody>\n",
       "    <tr>\n",
       "      <th>2012.0</th>\n",
       "      <td>653</td>\n",
       "    </tr>\n",
       "    <tr>\n",
       "      <th>2013.0</th>\n",
       "      <td>545</td>\n",
       "    </tr>\n",
       "    <tr>\n",
       "      <th>2014.0</th>\n",
       "      <td>581</td>\n",
       "    </tr>\n",
       "    <tr>\n",
       "      <th>2015.0</th>\n",
       "      <td>606</td>\n",
       "    </tr>\n",
       "    <tr>\n",
       "      <th>2016.0</th>\n",
       "      <td>502</td>\n",
       "    </tr>\n",
       "  </tbody>\n",
       "</table>\n",
       "</div>"
      ],
      "text/plain": [
       "                 name\n",
       "year_of_release      \n",
       "2012.0            653\n",
       "2013.0            545\n",
       "2014.0            581\n",
       "2015.0            606\n",
       "2016.0            502"
      ]
     },
     "execution_count": 902,
     "metadata": {},
     "output_type": "execute_result"
    }
   ],
   "source": [
    "games_per_year.tail()"
   ]
  },
  {
   "cell_type": "raw",
   "metadata": {},
   "source": [
    "fig, ax = plt.subplots()\n",
    "ax2 = ax.twiny()\n",
    "df.plot(kind='bar', stacked=True, legend=False, ax=ax)\n",
    "df2.plot(kind='line', secondary_y=True)\n",
    "plt.show()"
   ]
  },
  {
   "cell_type": "code",
   "execution_count": 903,
   "metadata": {},
   "outputs": [
    {
     "data": {
      "image/png": "[encoded data removed]",
      "text/plain": [
       "<Figure size 1152x432 with 1 Axes>"
      ]
     },
     "metadata": {
      "needs_background": "light"
     },
     "output_type": "display_data"
    },
    {
     "data": {
      "image/png": "[encoded data removed]",
      "text/plain": [
       "<Figure size 1152x432 with 1 Axes>"
      ]
     },
     "metadata": {
      "needs_background": "light"
     },
     "output_type": "display_data"
    }
   ],
   "source": [
    "import matplotlib.pyplot as plt\n",
    "#fig, ax = plt.subplots()\n",
    "ax2 = ax.twiny()\n",
    "ax = games_per_year.plot(kind='bar',figsize=(16,6),grid=True,title='Games per Year')\n",
    "ax2 = games_per_year.plot(kind='line',grid=True,title='Games per Year - Lineplot',figsize=(16,6))\n",
    "ax.set_ylabel('Count')\n",
    "ax.set_xlabel('Year of Release')\n",
    "ax.legend([\"Games per year\"]);\n",
    "\n",
    "ax2.set_ylabel('Count')\n",
    "ax2.set_xlabel('Year of Release')\n",
    "ax2.legend([\"Games per year\"]);\n",
    "\n",
    "   "
   ]
  },
  {
   "cell_type": "markdown",
   "metadata": {},
   "source": [
    "<div class=\"alert alert-block alert-info\">\n",
    "<b>To make it a bit clearer the second plot shows how from 1985 to 1994 games sales were flat, but then from 1994 to 2008(14 years in a row!) they just rose in a sharper manner but from 2009 up to now (2016) started to decline quite seriously. I would say that important period to analyze is the 1994-2008 period to understand that massive growth in sales </b> <a class=\"tocSkip\"></a>\n",
    "</div>"
   ]
  },
  {
   "cell_type": "markdown",
   "metadata": {},
   "source": [
    "*****We can definetly see that there are defined periods for games sales*****\n",
    "\n",
    "******************************************"
   ]
  },
  {
   "cell_type": "markdown",
   "metadata": {},
   "source": [
    "**Look at how sales varied from platform to platform. Choose the platforms with the greatest total sales and build a distribution based on data for each year. Find platforms that used to be popular but now have zero sales. How long does it generally take for new platforms to appear and old ones to fade?**"
   ]
  },
  {
   "cell_type": "code",
   "execution_count": 904,
   "metadata": {},
   "outputs": [],
   "source": [
    "# sales per platform\n",
    "sales_per_platform = games2.pivot_table(index='platform',values=['na_sales','eu_sales','jp_sales','other_sales'],aggfunc='sum')\n",
    "sales_per_platform['total'] = (sales_per_platform['eu_sales']+\n",
    "                               sales_per_platform['jp_sales']+\n",
    "                               sales_per_platform['na_sales']+\n",
    "                               sales_per_platform['other_sales'])"
   ]
  },
  {
   "cell_type": "code",
   "execution_count": 905,
   "metadata": {},
   "outputs": [],
   "source": [
    "games2['total_sales'] = (games2['eu_sales']+\n",
    "                               games['jp_sales']+\n",
    "                               games['na_sales']+\n",
    "                               games['other_sales'])"
   ]
  },
  {
   "cell_type": "code",
   "execution_count": 906,
   "metadata": {},
   "outputs": [
    {
     "data": {
      "text/html": [
       "<div>\n",
       "<style scoped>\n",
       "    .dataframe tbody tr th:only-of-type {\n",
       "        vertical-align: middle;\n",
       "    }\n",
       "\n",
       "    .dataframe tbody tr th {\n",
       "        vertical-align: top;\n",
       "    }\n",
       "\n",
       "    .dataframe thead th {\n",
       "        text-align: right;\n",
       "    }\n",
       "</style>\n",
       "<table border=\"1\" class=\"dataframe\">\n",
       "  <thead>\n",
       "    <tr style=\"text-align: right;\">\n",
       "      <th></th>\n",
       "      <th>name</th>\n",
       "      <th>platform</th>\n",
       "      <th>year_of_release</th>\n",
       "      <th>genre</th>\n",
       "      <th>na_sales</th>\n",
       "      <th>eu_sales</th>\n",
       "      <th>jp_sales</th>\n",
       "      <th>other_sales</th>\n",
       "      <th>critic_score</th>\n",
       "      <th>user_score</th>\n",
       "      <th>esrb</th>\n",
       "      <th>total_sales</th>\n",
       "    </tr>\n",
       "  </thead>\n",
       "  <tbody>\n",
       "    <tr>\n",
       "      <th>0</th>\n",
       "      <td>Wii Sports</td>\n",
       "      <td>Wii</td>\n",
       "      <td>2006.0</td>\n",
       "      <td>Sports</td>\n",
       "      <td>41.36</td>\n",
       "      <td>28.96</td>\n",
       "      <td>3.77</td>\n",
       "      <td>8.45</td>\n",
       "      <td>76.0</td>\n",
       "      <td>8.0</td>\n",
       "      <td>4.0</td>\n",
       "      <td>82.54</td>\n",
       "    </tr>\n",
       "  </tbody>\n",
       "</table>\n",
       "</div>"
      ],
      "text/plain": [
       "         name platform  year_of_release   genre  na_sales  eu_sales  jp_sales  \\\n",
       "0  Wii Sports      Wii           2006.0  Sports     41.36     28.96      3.77   \n",
       "\n",
       "   other_sales  critic_score  user_score  esrb  total_sales  \n",
       "0         8.45          76.0         8.0   4.0        82.54  "
      ]
     },
     "execution_count": 906,
     "metadata": {},
     "output_type": "execute_result"
    }
   ],
   "source": [
    "games2['total_sales'] = games2[['eu_sales','jp_sales','na_sales','other_sales']].sum(axis=1)\n",
    "games2.head(1)"
   ]
  },
  {
   "cell_type": "code",
   "execution_count": 907,
   "metadata": {},
   "outputs": [],
   "source": [
    "top_pltfrms_df = games2[['platform','total_sales']].groupby('platform').sum().sort_values('total_sales',\n",
    "                                                                                        ).reset_index()"
   ]
  },
  {
   "cell_type": "code",
   "execution_count": 908,
   "metadata": {},
   "outputs": [
    {
     "data": {
      "text/html": [
       "<div>\n",
       "<style scoped>\n",
       "    .dataframe tbody tr th:only-of-type {\n",
       "        vertical-align: middle;\n",
       "    }\n",
       "\n",
       "    .dataframe tbody tr th {\n",
       "        vertical-align: top;\n",
       "    }\n",
       "\n",
       "    .dataframe thead th {\n",
       "        text-align: right;\n",
       "    }\n",
       "</style>\n",
       "<table border=\"1\" class=\"dataframe\">\n",
       "  <thead>\n",
       "    <tr style=\"text-align: right;\">\n",
       "      <th></th>\n",
       "      <th>platform</th>\n",
       "      <th>total_sales</th>\n",
       "      <th>sales_z</th>\n",
       "    </tr>\n",
       "  </thead>\n",
       "  <tbody>\n",
       "    <tr>\n",
       "      <th>0</th>\n",
       "      <td>PCFX</td>\n",
       "      <td>0.03</td>\n",
       "      <td>-0.825029</td>\n",
       "    </tr>\n",
       "    <tr>\n",
       "      <th>1</th>\n",
       "      <td>GG</td>\n",
       "      <td>0.04</td>\n",
       "      <td>-0.825000</td>\n",
       "    </tr>\n",
       "    <tr>\n",
       "      <th>2</th>\n",
       "      <td>3DO</td>\n",
       "      <td>0.10</td>\n",
       "      <td>-0.824826</td>\n",
       "    </tr>\n",
       "    <tr>\n",
       "      <th>3</th>\n",
       "      <td>TG16</td>\n",
       "      <td>0.16</td>\n",
       "      <td>-0.824653</td>\n",
       "    </tr>\n",
       "    <tr>\n",
       "      <th>4</th>\n",
       "      <td>WS</td>\n",
       "      <td>1.42</td>\n",
       "      <td>-0.821005</td>\n",
       "    </tr>\n",
       "  </tbody>\n",
       "</table>\n",
       "</div>"
      ],
      "text/plain": [
       "  platform  total_sales   sales_z\n",
       "0     PCFX         0.03 -0.825029\n",
       "1       GG         0.04 -0.825000\n",
       "2      3DO         0.10 -0.824826\n",
       "3     TG16         0.16 -0.824653\n",
       "4       WS         1.42 -0.821005"
      ]
     },
     "execution_count": 908,
     "metadata": {},
     "output_type": "execute_result"
    }
   ],
   "source": [
    "#divergent bar plots\n",
    "top_pltfrms_df['sales_z'] = (top_pltfrms_df['total_sales'] - top_pltfrms_df['total_sales'].mean()) / top_pltfrms_df['total_sales'].std()\n",
    "top_pltfrms_df.head()"
   ]
  },
  {
   "cell_type": "code",
   "execution_count": 909,
   "metadata": {},
   "outputs": [
    {
     "data": {
      "text/html": [
       "<div>\n",
       "<style scoped>\n",
       "    .dataframe tbody tr th:only-of-type {\n",
       "        vertical-align: middle;\n",
       "    }\n",
       "\n",
       "    .dataframe tbody tr th {\n",
       "        vertical-align: top;\n",
       "    }\n",
       "\n",
       "    .dataframe thead th {\n",
       "        text-align: right;\n",
       "    }\n",
       "</style>\n",
       "<table border=\"1\" class=\"dataframe\">\n",
       "  <thead>\n",
       "    <tr style=\"text-align: right;\">\n",
       "      <th></th>\n",
       "      <th>platform</th>\n",
       "      <th>total_sales</th>\n",
       "      <th>sales_z</th>\n",
       "      <th>color</th>\n",
       "    </tr>\n",
       "  </thead>\n",
       "  <tbody>\n",
       "    <tr>\n",
       "      <th>0</th>\n",
       "      <td>PCFX</td>\n",
       "      <td>0.03</td>\n",
       "      <td>-0.825029</td>\n",
       "      <td>red</td>\n",
       "    </tr>\n",
       "    <tr>\n",
       "      <th>1</th>\n",
       "      <td>GG</td>\n",
       "      <td>0.04</td>\n",
       "      <td>-0.825000</td>\n",
       "      <td>red</td>\n",
       "    </tr>\n",
       "    <tr>\n",
       "      <th>2</th>\n",
       "      <td>3DO</td>\n",
       "      <td>0.10</td>\n",
       "      <td>-0.824826</td>\n",
       "      <td>red</td>\n",
       "    </tr>\n",
       "    <tr>\n",
       "      <th>3</th>\n",
       "      <td>TG16</td>\n",
       "      <td>0.16</td>\n",
       "      <td>-0.824653</td>\n",
       "      <td>red</td>\n",
       "    </tr>\n",
       "    <tr>\n",
       "      <th>4</th>\n",
       "      <td>WS</td>\n",
       "      <td>1.42</td>\n",
       "      <td>-0.821005</td>\n",
       "      <td>red</td>\n",
       "    </tr>\n",
       "  </tbody>\n",
       "</table>\n",
       "</div>"
      ],
      "text/plain": [
       "  platform  total_sales   sales_z color\n",
       "0     PCFX         0.03 -0.825029   red\n",
       "1       GG         0.04 -0.825000   red\n",
       "2      3DO         0.10 -0.824826   red\n",
       "3     TG16         0.16 -0.824653   red\n",
       "4       WS         1.42 -0.821005   red"
      ]
     },
     "execution_count": 909,
     "metadata": {},
     "output_type": "execute_result"
    }
   ],
   "source": [
    "top_pltfrms_df['color'] = ['red' if x<0  else 'green' for x in top_pltfrms_df['sales_z'] ]\n",
    "top_pltfrms_df.head()"
   ]
  },
  {
   "cell_type": "markdown",
   "metadata": {},
   "source": [
    "## Choose the platforms with the greatest total sales and build a distribution based on data for each year."
   ]
  },
  {
   "cell_type": "code",
   "execution_count": 910,
   "metadata": {},
   "outputs": [],
   "source": [
    "# Sometimes plots have caused problems, im loading matplotlib here just to make sure it works.\n",
    "import matplotlib.pyplot as plt"
   ]
  },
  {
   "cell_type": "code",
   "execution_count": 911,
   "metadata": {},
   "outputs": [
    {
     "data": {
      "image/png": "[encoded data removed]",
      "text/plain": [
       "<Figure size 1008x720 with 1 Axes>"
      ]
     },
     "metadata": {
      "needs_background": "light"
     },
     "output_type": "display_data"
    }
   ],
   "source": [
    "plt.figure(figsize=(14,10))\n",
    "plt.hlines(y=top_pltfrms_df['platform'], xmax = top_pltfrms_df['sales_z'],xmin=0,\n",
    "           color=top_pltfrms_df['color'],alpha=0.5,linewidth=10)\n",
    "plt.title('Divergent Barplot  : Sales Distribution per Platform')\n",
    "plt.xlabel('Divergence',fontsize=14)\n",
    "plt.ylabel('Platforms',fontsize=14)\n",
    "plt.show()"
   ]
  },
  {
   "cell_type": "code",
   "execution_count": 912,
   "metadata": {},
   "outputs": [
    {
     "data": {
      "text/html": [
       "<div>\n",
       "<style scoped>\n",
       "    .dataframe tbody tr th:only-of-type {\n",
       "        vertical-align: middle;\n",
       "    }\n",
       "\n",
       "    .dataframe tbody tr th {\n",
       "        vertical-align: top;\n",
       "    }\n",
       "\n",
       "    .dataframe thead th {\n",
       "        text-align: right;\n",
       "    }\n",
       "</style>\n",
       "<table border=\"1\" class=\"dataframe\">\n",
       "  <thead>\n",
       "    <tr style=\"text-align: right;\">\n",
       "      <th></th>\n",
       "      <th>eu_sales</th>\n",
       "      <th>jp_sales</th>\n",
       "      <th>na_sales</th>\n",
       "      <th>other_sales</th>\n",
       "      <th>total</th>\n",
       "    </tr>\n",
       "    <tr>\n",
       "      <th>platform</th>\n",
       "      <th></th>\n",
       "      <th></th>\n",
       "      <th></th>\n",
       "      <th></th>\n",
       "      <th></th>\n",
       "    </tr>\n",
       "  </thead>\n",
       "  <tbody>\n",
       "    <tr>\n",
       "      <th>PS2</th>\n",
       "      <td>337.10</td>\n",
       "      <td>137.63</td>\n",
       "      <td>580.42</td>\n",
       "      <td>192.38</td>\n",
       "      <td>1247.53</td>\n",
       "    </tr>\n",
       "    <tr>\n",
       "      <th>X360</th>\n",
       "      <td>268.37</td>\n",
       "      <td>12.31</td>\n",
       "      <td>596.28</td>\n",
       "      <td>84.92</td>\n",
       "      <td>961.88</td>\n",
       "    </tr>\n",
       "    <tr>\n",
       "      <th>PS3</th>\n",
       "      <td>327.21</td>\n",
       "      <td>79.41</td>\n",
       "      <td>390.13</td>\n",
       "      <td>134.59</td>\n",
       "      <td>931.34</td>\n",
       "    </tr>\n",
       "    <tr>\n",
       "      <th>Wii</th>\n",
       "      <td>258.32</td>\n",
       "      <td>68.28</td>\n",
       "      <td>487.98</td>\n",
       "      <td>77.79</td>\n",
       "      <td>892.37</td>\n",
       "    </tr>\n",
       "    <tr>\n",
       "      <th>DS</th>\n",
       "      <td>188.41</td>\n",
       "      <td>175.02</td>\n",
       "      <td>380.32</td>\n",
       "      <td>59.04</td>\n",
       "      <td>802.79</td>\n",
       "    </tr>\n",
       "  </tbody>\n",
       "</table>\n",
       "</div>"
      ],
      "text/plain": [
       "          eu_sales  jp_sales  na_sales  other_sales    total\n",
       "platform                                                    \n",
       "PS2         337.10    137.63    580.42       192.38  1247.53\n",
       "X360        268.37     12.31    596.28        84.92   961.88\n",
       "PS3         327.21     79.41    390.13       134.59   931.34\n",
       "Wii         258.32     68.28    487.98        77.79   892.37\n",
       "DS          188.41    175.02    380.32        59.04   802.79"
      ]
     },
     "execution_count": 912,
     "metadata": {},
     "output_type": "execute_result"
    }
   ],
   "source": [
    "sales_per_platform.sort_values('total',ascending=False).head()"
   ]
  },
  {
   "cell_type": "code",
   "execution_count": 913,
   "metadata": {},
   "outputs": [
    {
     "data": {
      "text/plain": [
       "year_of_release    2002.460251\n",
       "total_sales          36.967406\n",
       "dtype: float64"
      ]
     },
     "execution_count": 913,
     "metadata": {},
     "output_type": "execute_result"
    }
   ],
   "source": [
    "sales_df = games2.groupby(['platform','year_of_release'])['total_sales'].sum().reset_index().sort_values(\n",
    "    by='year_of_release')\n",
    "sales_df.mean()"
   ]
  },
  {
   "cell_type": "markdown",
   "metadata": {},
   "source": [
    "#  Find platforms that used to be popular but now have zero sales"
   ]
  },
  {
   "cell_type": "markdown",
   "metadata": {},
   "source": [
    "*************\n",
    "- Determine what period you should take data for. To do so, look at your answers to the previous questions. The data should allow you to build a prognosis for 2017.\n",
    "- Work only with the data that you've decided is relevant. Disregard the data for previous years."
   ]
  },
  {
   "cell_type": "code",
   "execution_count": 914,
   "metadata": {},
   "outputs": [],
   "source": [
    "#so we'll take those platforms that exist from the year 2000\n",
    "sales_df = sales_df[sales_df['year_of_release']>=2000]"
   ]
  },
  {
   "cell_type": "code",
   "execution_count": 915,
   "metadata": {},
   "outputs": [],
   "source": [
    "#its imported at the begining, just making sure it loads\n",
    "import matplotlib.pyplot as plt"
   ]
  },
  {
   "cell_type": "code",
   "execution_count": 916,
   "metadata": {},
   "outputs": [
    {
     "data": {
      "image/png": "[encoded data removed]",
      "text/plain": [
       "<Figure size 1080x576 with 1 Axes>"
      ]
     },
     "metadata": {
      "needs_background": "light"
     },
     "output_type": "display_data"
    }
   ],
   "source": [
    "plt.figure(figsize=(15,8))\n",
    "ax = sns.lineplot(data=sales_df,x='year_of_release',y='total_sales',hue='platform')\n",
    "ax.set_title('Top Selling Platforms')\n",
    "sns.move_legend(ax, \"upper left\", bbox_to_anchor=(1, 1))\n"
   ]
  },
  {
   "cell_type": "markdown",
   "metadata": {},
   "source": [
    "# How long does it generally take for new platforms to appear and old ones to fade?\n",
    "\n",
    "*****instead can we ask whats the average lifetime of a platform?******"
   ]
  },
  {
   "cell_type": "code",
   "execution_count": 917,
   "metadata": {},
   "outputs": [
    {
     "data": {
      "text/html": [
       "<div>\n",
       "<style scoped>\n",
       "    .dataframe tbody tr th:only-of-type {\n",
       "        vertical-align: middle;\n",
       "    }\n",
       "\n",
       "    .dataframe tbody tr th {\n",
       "        vertical-align: top;\n",
       "    }\n",
       "\n",
       "    .dataframe thead th {\n",
       "        text-align: right;\n",
       "    }\n",
       "</style>\n",
       "<table border=\"1\" class=\"dataframe\">\n",
       "  <thead>\n",
       "    <tr style=\"text-align: right;\">\n",
       "      <th></th>\n",
       "      <th>min</th>\n",
       "      <th>max</th>\n",
       "    </tr>\n",
       "    <tr>\n",
       "      <th>platform</th>\n",
       "      <th></th>\n",
       "      <th></th>\n",
       "    </tr>\n",
       "  </thead>\n",
       "  <tbody>\n",
       "    <tr>\n",
       "      <th>3DS</th>\n",
       "      <td>2011.0</td>\n",
       "      <td>2016.0</td>\n",
       "    </tr>\n",
       "    <tr>\n",
       "      <th>DC</th>\n",
       "      <td>2000.0</td>\n",
       "      <td>2008.0</td>\n",
       "    </tr>\n",
       "    <tr>\n",
       "      <th>DS</th>\n",
       "      <td>2004.0</td>\n",
       "      <td>2013.0</td>\n",
       "    </tr>\n",
       "    <tr>\n",
       "      <th>GB</th>\n",
       "      <td>2000.0</td>\n",
       "      <td>2001.0</td>\n",
       "    </tr>\n",
       "    <tr>\n",
       "      <th>GBA</th>\n",
       "      <td>2000.0</td>\n",
       "      <td>2007.0</td>\n",
       "    </tr>\n",
       "  </tbody>\n",
       "</table>\n",
       "</div>"
      ],
      "text/plain": [
       "             min     max\n",
       "platform                \n",
       "3DS       2011.0  2016.0\n",
       "DC        2000.0  2008.0\n",
       "DS        2004.0  2013.0\n",
       "GB        2000.0  2001.0\n",
       "GBA       2000.0  2007.0"
      ]
     },
     "execution_count": 917,
     "metadata": {},
     "output_type": "execute_result"
    }
   ],
   "source": [
    "#platforms age\n",
    "pltfrm_age =  sales_df.groupby('platform')['year_of_release'].agg(['min','max'])\n",
    "pltfrm_age.head()"
   ]
  },
  {
   "cell_type": "code",
   "execution_count": 918,
   "metadata": {},
   "outputs": [
    {
     "data": {
      "text/html": [
       "<div>\n",
       "<style scoped>\n",
       "    .dataframe tbody tr th:only-of-type {\n",
       "        vertical-align: middle;\n",
       "    }\n",
       "\n",
       "    .dataframe tbody tr th {\n",
       "        vertical-align: top;\n",
       "    }\n",
       "\n",
       "    .dataframe thead th {\n",
       "        text-align: right;\n",
       "    }\n",
       "</style>\n",
       "<table border=\"1\" class=\"dataframe\">\n",
       "  <thead>\n",
       "    <tr style=\"text-align: right;\">\n",
       "      <th></th>\n",
       "      <th>platform</th>\n",
       "      <th>min</th>\n",
       "      <th>max</th>\n",
       "      <th>age</th>\n",
       "    </tr>\n",
       "  </thead>\n",
       "  <tbody>\n",
       "    <tr>\n",
       "      <th>0</th>\n",
       "      <td>3DS</td>\n",
       "      <td>2011.0</td>\n",
       "      <td>2016.0</td>\n",
       "      <td>5.0</td>\n",
       "    </tr>\n",
       "    <tr>\n",
       "      <th>1</th>\n",
       "      <td>DC</td>\n",
       "      <td>2000.0</td>\n",
       "      <td>2008.0</td>\n",
       "      <td>8.0</td>\n",
       "    </tr>\n",
       "    <tr>\n",
       "      <th>2</th>\n",
       "      <td>DS</td>\n",
       "      <td>2004.0</td>\n",
       "      <td>2013.0</td>\n",
       "      <td>9.0</td>\n",
       "    </tr>\n",
       "    <tr>\n",
       "      <th>3</th>\n",
       "      <td>GB</td>\n",
       "      <td>2000.0</td>\n",
       "      <td>2001.0</td>\n",
       "      <td>1.0</td>\n",
       "    </tr>\n",
       "    <tr>\n",
       "      <th>4</th>\n",
       "      <td>GBA</td>\n",
       "      <td>2000.0</td>\n",
       "      <td>2007.0</td>\n",
       "      <td>7.0</td>\n",
       "    </tr>\n",
       "    <tr>\n",
       "      <th>5</th>\n",
       "      <td>GC</td>\n",
       "      <td>2001.0</td>\n",
       "      <td>2007.0</td>\n",
       "      <td>6.0</td>\n",
       "    </tr>\n",
       "    <tr>\n",
       "      <th>6</th>\n",
       "      <td>N64</td>\n",
       "      <td>2000.0</td>\n",
       "      <td>2002.0</td>\n",
       "      <td>2.0</td>\n",
       "    </tr>\n",
       "    <tr>\n",
       "      <th>7</th>\n",
       "      <td>PC</td>\n",
       "      <td>2000.0</td>\n",
       "      <td>2016.0</td>\n",
       "      <td>16.0</td>\n",
       "    </tr>\n",
       "    <tr>\n",
       "      <th>8</th>\n",
       "      <td>PS</td>\n",
       "      <td>2000.0</td>\n",
       "      <td>2003.0</td>\n",
       "      <td>3.0</td>\n",
       "    </tr>\n",
       "    <tr>\n",
       "      <th>9</th>\n",
       "      <td>PS2</td>\n",
       "      <td>2000.0</td>\n",
       "      <td>2011.0</td>\n",
       "      <td>11.0</td>\n",
       "    </tr>\n",
       "    <tr>\n",
       "      <th>10</th>\n",
       "      <td>PS3</td>\n",
       "      <td>2006.0</td>\n",
       "      <td>2016.0</td>\n",
       "      <td>10.0</td>\n",
       "    </tr>\n",
       "    <tr>\n",
       "      <th>11</th>\n",
       "      <td>PS4</td>\n",
       "      <td>2013.0</td>\n",
       "      <td>2016.0</td>\n",
       "      <td>3.0</td>\n",
       "    </tr>\n",
       "    <tr>\n",
       "      <th>12</th>\n",
       "      <td>PSP</td>\n",
       "      <td>2004.0</td>\n",
       "      <td>2015.0</td>\n",
       "      <td>11.0</td>\n",
       "    </tr>\n",
       "    <tr>\n",
       "      <th>13</th>\n",
       "      <td>PSV</td>\n",
       "      <td>2011.0</td>\n",
       "      <td>2016.0</td>\n",
       "      <td>5.0</td>\n",
       "    </tr>\n",
       "    <tr>\n",
       "      <th>14</th>\n",
       "      <td>WS</td>\n",
       "      <td>2000.0</td>\n",
       "      <td>2001.0</td>\n",
       "      <td>1.0</td>\n",
       "    </tr>\n",
       "    <tr>\n",
       "      <th>15</th>\n",
       "      <td>Wii</td>\n",
       "      <td>2006.0</td>\n",
       "      <td>2016.0</td>\n",
       "      <td>10.0</td>\n",
       "    </tr>\n",
       "    <tr>\n",
       "      <th>16</th>\n",
       "      <td>WiiU</td>\n",
       "      <td>2012.0</td>\n",
       "      <td>2016.0</td>\n",
       "      <td>4.0</td>\n",
       "    </tr>\n",
       "    <tr>\n",
       "      <th>17</th>\n",
       "      <td>X360</td>\n",
       "      <td>2005.0</td>\n",
       "      <td>2016.0</td>\n",
       "      <td>11.0</td>\n",
       "    </tr>\n",
       "    <tr>\n",
       "      <th>18</th>\n",
       "      <td>XB</td>\n",
       "      <td>2000.0</td>\n",
       "      <td>2008.0</td>\n",
       "      <td>8.0</td>\n",
       "    </tr>\n",
       "    <tr>\n",
       "      <th>19</th>\n",
       "      <td>XOne</td>\n",
       "      <td>2013.0</td>\n",
       "      <td>2016.0</td>\n",
       "      <td>3.0</td>\n",
       "    </tr>\n",
       "  </tbody>\n",
       "</table>\n",
       "</div>"
      ],
      "text/plain": [
       "   platform     min     max   age\n",
       "0       3DS  2011.0  2016.0   5.0\n",
       "1        DC  2000.0  2008.0   8.0\n",
       "2        DS  2004.0  2013.0   9.0\n",
       "3        GB  2000.0  2001.0   1.0\n",
       "4       GBA  2000.0  2007.0   7.0\n",
       "5        GC  2001.0  2007.0   6.0\n",
       "6       N64  2000.0  2002.0   2.0\n",
       "7        PC  2000.0  2016.0  16.0\n",
       "8        PS  2000.0  2003.0   3.0\n",
       "9       PS2  2000.0  2011.0  11.0\n",
       "10      PS3  2006.0  2016.0  10.0\n",
       "11      PS4  2013.0  2016.0   3.0\n",
       "12      PSP  2004.0  2015.0  11.0\n",
       "13      PSV  2011.0  2016.0   5.0\n",
       "14       WS  2000.0  2001.0   1.0\n",
       "15      Wii  2006.0  2016.0  10.0\n",
       "16     WiiU  2012.0  2016.0   4.0\n",
       "17     X360  2005.0  2016.0  11.0\n",
       "18       XB  2000.0  2008.0   8.0\n",
       "19     XOne  2013.0  2016.0   3.0"
      ]
     },
     "execution_count": 918,
     "metadata": {},
     "output_type": "execute_result"
    }
   ],
   "source": [
    "pltfrm_age['age'] = pltfrm_age['max'] - pltfrm_age['min']\n",
    "pltfrm_age = pltfrm_age.reset_index()\n",
    "pltfrm_age"
   ]
  },
  {
   "cell_type": "code",
   "execution_count": 919,
   "metadata": {},
   "outputs": [
    {
     "name": "stdout",
     "output_type": "stream",
     "text": [
      "The avereage  lifetime of any platform is  6.7 years \n",
      "and the median is 6.5 years\n"
     ]
    }
   ],
   "source": [
    "print('The avereage  lifetime of any platform is  {:.1f} years \\nand the median is {:.1f} years'.format(pltfrm_age['age'].mean(),\n",
    "                                                                                             pltfrm_age['age'].median()))"
   ]
  },
  {
   "cell_type": "markdown",
   "metadata": {},
   "source": [
    "# Which platforms are leading in sales? Which ones are growing or shrinking? Select several potentially profitable platforms."
   ]
  },
  {
   "cell_type": "markdown",
   "metadata": {},
   "source": [
    "*****Because we see a serious decline on sales on all platforms since 2008 and because we see that the number of existing platforms by 2016 is only getting lower we need to pay attention to the what are relevant competing platforms, therefore we'll look at the data from 2014***** \n"
   ]
  },
  {
   "cell_type": "code",
   "execution_count": 920,
   "metadata": {},
   "outputs": [],
   "source": [
    "latest_sales_df = sales_df[sales_df['year_of_release']>=2014]"
   ]
  },
  {
   "cell_type": "code",
   "execution_count": 921,
   "metadata": {},
   "outputs": [
    {
     "data": {
      "image/png": "[encoded data removed]",
      "text/plain": [
       "<Figure size 1152x360 with 1 Axes>"
      ]
     },
     "metadata": {
      "needs_background": "light"
     },
     "output_type": "display_data"
    }
   ],
   "source": [
    "plt.figure(figsize=(16,5))\n",
    "ax = sns.lineplot(data=latest_sales_df,x='year_of_release',y='total_sales',hue='platform')\n",
    "ax.set_title('2014- 2016 - Top Selling Platforms')\n",
    "sns.move_legend(ax, \"upper left\", bbox_to_anchor=(1, 1))"
   ]
  },
  {
   "cell_type": "markdown",
   "metadata": {},
   "source": [
    "- Aparently games sales are declining since 2015\n",
    "- As for the most profitable for 2016 : Ps4, XOne, 3DS .\n",
    "- PSP stopped selling and the Wii with X360 show the gratest decline"
   ]
  },
  {
   "cell_type": "code",
   "execution_count": 922,
   "metadata": {},
   "outputs": [
    {
     "data": {
      "text/html": [
       "<div>\n",
       "<style scoped>\n",
       "    .dataframe tbody tr th:only-of-type {\n",
       "        vertical-align: middle;\n",
       "    }\n",
       "\n",
       "    .dataframe tbody tr th {\n",
       "        vertical-align: top;\n",
       "    }\n",
       "\n",
       "    .dataframe thead th {\n",
       "        text-align: right;\n",
       "    }\n",
       "</style>\n",
       "<table border=\"1\" class=\"dataframe\">\n",
       "  <thead>\n",
       "    <tr style=\"text-align: right;\">\n",
       "      <th></th>\n",
       "      <th>platform</th>\n",
       "      <th>year_of_release</th>\n",
       "      <th>total_sales</th>\n",
       "    </tr>\n",
       "  </thead>\n",
       "  <tbody>\n",
       "    <tr>\n",
       "      <th>156</th>\n",
       "      <td>PS4</td>\n",
       "      <td>2016.0</td>\n",
       "      <td>69.25</td>\n",
       "    </tr>\n",
       "    <tr>\n",
       "      <th>238</th>\n",
       "      <td>XOne</td>\n",
       "      <td>2016.0</td>\n",
       "      <td>26.15</td>\n",
       "    </tr>\n",
       "    <tr>\n",
       "      <th>17</th>\n",
       "      <td>3DS</td>\n",
       "      <td>2016.0</td>\n",
       "      <td>15.14</td>\n",
       "    </tr>\n",
       "    <tr>\n",
       "      <th>118</th>\n",
       "      <td>PC</td>\n",
       "      <td>2016.0</td>\n",
       "      <td>5.25</td>\n",
       "    </tr>\n",
       "    <tr>\n",
       "      <th>212</th>\n",
       "      <td>WiiU</td>\n",
       "      <td>2016.0</td>\n",
       "      <td>4.60</td>\n",
       "    </tr>\n",
       "    <tr>\n",
       "      <th>174</th>\n",
       "      <td>PSV</td>\n",
       "      <td>2016.0</td>\n",
       "      <td>4.25</td>\n",
       "    </tr>\n",
       "    <tr>\n",
       "      <th>152</th>\n",
       "      <td>PS3</td>\n",
       "      <td>2016.0</td>\n",
       "      <td>3.60</td>\n",
       "    </tr>\n",
       "    <tr>\n",
       "      <th>224</th>\n",
       "      <td>X360</td>\n",
       "      <td>2016.0</td>\n",
       "      <td>1.52</td>\n",
       "    </tr>\n",
       "    <tr>\n",
       "      <th>207</th>\n",
       "      <td>Wii</td>\n",
       "      <td>2016.0</td>\n",
       "      <td>0.18</td>\n",
       "    </tr>\n",
       "  </tbody>\n",
       "</table>\n",
       "</div>"
      ],
      "text/plain": [
       "    platform  year_of_release  total_sales\n",
       "156      PS4           2016.0        69.25\n",
       "238     XOne           2016.0        26.15\n",
       "17       3DS           2016.0        15.14\n",
       "118       PC           2016.0         5.25\n",
       "212     WiiU           2016.0         4.60\n",
       "174      PSV           2016.0         4.25\n",
       "152      PS3           2016.0         3.60\n",
       "224     X360           2016.0         1.52\n",
       "207      Wii           2016.0         0.18"
      ]
     },
     "execution_count": 922,
     "metadata": {},
     "output_type": "execute_result"
    }
   ],
   "source": [
    "latest_sales_df[latest_sales_df['year_of_release']==2016].sort_values('total_sales',ascending=False)"
   ]
  },
  {
   "cell_type": "markdown",
   "metadata": {},
   "source": [
    "# Build a box plot for the global sales of all games, broken down by platform. Are the differences in sales significant? What about average sales on various platforms? Describe your findings."
   ]
  },
  {
   "cell_type": "code",
   "execution_count": 923,
   "metadata": {},
   "outputs": [
    {
     "data": {
      "image/png": "[encoded data removed]",
      "text/plain": [
       "<Figure size 604.8x432 with 1 Axes>"
      ]
     },
     "metadata": {
      "needs_background": "light"
     },
     "output_type": "display_data"
    }
   ],
   "source": [
    "g=sns.catplot(x=\"platform\", y=\"total_sales\", kind=\"box\", data=latest_sales_df,height=6, aspect=1.4).set(title='Sales per Platform - Boxplot')\n",
    "plt.show()"
   ]
  },
  {
   "cell_type": "code",
   "execution_count": 924,
   "metadata": {},
   "outputs": [],
   "source": [
    "#averages\n",
    "sales_means = latest_sales_df.groupby('platform')['total_sales'].mean().reset_index().sort_values('total_sales',ascending=False)"
   ]
  },
  {
   "cell_type": "code",
   "execution_count": 925,
   "metadata": {},
   "outputs": [],
   "source": [
    "all_sales_means = sales_df.groupby('platform')['total_sales'].mean().reset_index().sort_values('total_sales',ascending=False)"
   ]
  },
  {
   "cell_type": "code",
   "execution_count": 926,
   "metadata": {},
   "outputs": [
    {
     "data": {
      "text/html": [
       "<div>\n",
       "<style scoped>\n",
       "    .dataframe tbody tr th:only-of-type {\n",
       "        vertical-align: middle;\n",
       "    }\n",
       "\n",
       "    .dataframe tbody tr th {\n",
       "        vertical-align: top;\n",
       "    }\n",
       "\n",
       "    .dataframe thead th {\n",
       "        text-align: right;\n",
       "    }\n",
       "</style>\n",
       "<table border=\"1\" class=\"dataframe\">\n",
       "  <thead>\n",
       "    <tr style=\"text-align: right;\">\n",
       "      <th></th>\n",
       "      <th>platform</th>\n",
       "      <th>total_sales</th>\n",
       "    </tr>\n",
       "  </thead>\n",
       "  <tbody>\n",
       "    <tr>\n",
       "      <th>3</th>\n",
       "      <td>PS4</td>\n",
       "      <td>96.050000</td>\n",
       "    </tr>\n",
       "    <tr>\n",
       "      <th>9</th>\n",
       "      <td>XOne</td>\n",
       "      <td>46.786667</td>\n",
       "    </tr>\n",
       "    <tr>\n",
       "      <th>0</th>\n",
       "      <td>3DS</td>\n",
       "      <td>28.893333</td>\n",
       "    </tr>\n",
       "    <tr>\n",
       "      <th>2</th>\n",
       "      <td>PS3</td>\n",
       "      <td>22.726667</td>\n",
       "    </tr>\n",
       "    <tr>\n",
       "      <th>8</th>\n",
       "      <td>X360</td>\n",
       "      <td>16.073333</td>\n",
       "    </tr>\n",
       "    <tr>\n",
       "      <th>7</th>\n",
       "      <td>WiiU</td>\n",
       "      <td>14.326667</td>\n",
       "    </tr>\n",
       "    <tr>\n",
       "      <th>1</th>\n",
       "      <td>PC</td>\n",
       "      <td>9.016667</td>\n",
       "    </tr>\n",
       "    <tr>\n",
       "      <th>5</th>\n",
       "      <td>PSV</td>\n",
       "      <td>7.466667</td>\n",
       "    </tr>\n",
       "    <tr>\n",
       "      <th>6</th>\n",
       "      <td>Wii</td>\n",
       "      <td>1.690000</td>\n",
       "    </tr>\n",
       "    <tr>\n",
       "      <th>4</th>\n",
       "      <td>PSP</td>\n",
       "      <td>0.180000</td>\n",
       "    </tr>\n",
       "  </tbody>\n",
       "</table>\n",
       "</div>"
      ],
      "text/plain": [
       "  platform  total_sales\n",
       "3      PS4    96.050000\n",
       "9     XOne    46.786667\n",
       "0      3DS    28.893333\n",
       "2      PS3    22.726667\n",
       "8     X360    16.073333\n",
       "7     WiiU    14.326667\n",
       "1       PC     9.016667\n",
       "5      PSV     7.466667\n",
       "6      Wii     1.690000\n",
       "4      PSP     0.180000"
      ]
     },
     "execution_count": 926,
     "metadata": {},
     "output_type": "execute_result"
    }
   ],
   "source": [
    "sales_means"
   ]
  },
  {
   "cell_type": "code",
   "execution_count": 927,
   "metadata": {},
   "outputs": [
    {
     "data": {
      "image/png": "[encoded data removed]",
      "text/plain": [
       "<Figure size 432x288 with 1 Axes>"
      ]
     },
     "metadata": {
      "needs_background": "light"
     },
     "output_type": "display_data"
    },
    {
     "data": {
      "image/png": "[encoded data removed]",
      "text/plain": [
       "<Figure size 518.4x288 with 1 Axes>"
      ]
     },
     "metadata": {
      "needs_background": "light"
     },
     "output_type": "display_data"
    }
   ],
   "source": [
    "g=sns.catplot(x=\"platform\", y=\"total_sales\", kind=\"bar\", data=sales_means,height=4, aspect=1.5).set(\n",
    "    title='Average Sales per Platform(2014-2016)')\n",
    "plt.show()\n",
    "#------------------------------------------------\n",
    "g=sns.catplot(x=\"platform\", y=\"total_sales\", kind=\"bar\", data=all_sales_means,height=4, aspect=1.8).set(title='All Average Sales per Platform')\n",
    "plt.show()"
   ]
  },
  {
   "cell_type": "markdown",
   "metadata": {},
   "source": [
    "*****In this context we can see how the PS4 is the leading platform in sales for the latest years and by a lot*****"
   ]
  },
  {
   "cell_type": "markdown",
   "metadata": {},
   "source": [
    " ******************************\n",
    "# Take a look at how user and professional reviews affect sales for one popular platform (you choose). Build a scatter plot and calculate the correlation between reviews and sales. Draw conclusions."
   ]
  },
  {
   "cell_type": "code",
   "execution_count": 928,
   "metadata": {},
   "outputs": [
    {
     "data": {
      "text/html": [
       "<style  type=\"text/css\" >\n",
       "</style><table id=\"T_4b84a6b8_9571_11ec_afa1_e470b8a528c2\" ><thead>    <tr>        <th class=\"blank level0\" ></th>        <th class=\"col_heading level0 col0\" >missing</th>        <th class=\"col_heading level0 col1\" >total</th>        <th class=\"col_heading level0 col2\" >percent</th>    </tr></thead><tbody>\n",
       "                <tr>\n",
       "                        <th id=\"T_4b84a6b8_9571_11ec_afa1_e470b8a528c2level0_row0\" class=\"row_heading level0 row0\" >esrb</th>\n",
       "                        <td id=\"T_4b84a6b8_9571_11ec_afa1_e470b8a528c2row0_col0\" class=\"data row0 col0\" >4,314</td>\n",
       "                        <td id=\"T_4b84a6b8_9571_11ec_afa1_e470b8a528c2row0_col1\" class=\"data row0 col1\" >16,469</td>\n",
       "                        <td id=\"T_4b84a6b8_9571_11ec_afa1_e470b8a528c2row0_col2\" class=\"data row0 col2\" >26.19%</td>\n",
       "            </tr>\n",
       "            <tr>\n",
       "                        <th id=\"T_4b84a6b8_9571_11ec_afa1_e470b8a528c2level0_row1\" class=\"row_heading level0 row1\" >critic_score</th>\n",
       "                        <td id=\"T_4b84a6b8_9571_11ec_afa1_e470b8a528c2row1_col0\" class=\"data row1 col0\" >1,097</td>\n",
       "                        <td id=\"T_4b84a6b8_9571_11ec_afa1_e470b8a528c2row1_col1\" class=\"data row1 col1\" >16,469</td>\n",
       "                        <td id=\"T_4b84a6b8_9571_11ec_afa1_e470b8a528c2row1_col2\" class=\"data row1 col2\" >6.66%</td>\n",
       "            </tr>\n",
       "            <tr>\n",
       "                        <th id=\"T_4b84a6b8_9571_11ec_afa1_e470b8a528c2level0_row2\" class=\"row_heading level0 row2\" >user_score</th>\n",
       "                        <td id=\"T_4b84a6b8_9571_11ec_afa1_e470b8a528c2row2_col0\" class=\"data row2 col0\" >1,097</td>\n",
       "                        <td id=\"T_4b84a6b8_9571_11ec_afa1_e470b8a528c2row2_col1\" class=\"data row2 col1\" >16,469</td>\n",
       "                        <td id=\"T_4b84a6b8_9571_11ec_afa1_e470b8a528c2row2_col2\" class=\"data row2 col2\" >6.66%</td>\n",
       "            </tr>\n",
       "            <tr>\n",
       "                        <th id=\"T_4b84a6b8_9571_11ec_afa1_e470b8a528c2level0_row3\" class=\"row_heading level0 row3\" >name</th>\n",
       "                        <td id=\"T_4b84a6b8_9571_11ec_afa1_e470b8a528c2row3_col0\" class=\"data row3 col0\" >0</td>\n",
       "                        <td id=\"T_4b84a6b8_9571_11ec_afa1_e470b8a528c2row3_col1\" class=\"data row3 col1\" >16,469</td>\n",
       "                        <td id=\"T_4b84a6b8_9571_11ec_afa1_e470b8a528c2row3_col2\" class=\"data row3 col2\" >0.00%</td>\n",
       "            </tr>\n",
       "            <tr>\n",
       "                        <th id=\"T_4b84a6b8_9571_11ec_afa1_e470b8a528c2level0_row4\" class=\"row_heading level0 row4\" >platform</th>\n",
       "                        <td id=\"T_4b84a6b8_9571_11ec_afa1_e470b8a528c2row4_col0\" class=\"data row4 col0\" >0</td>\n",
       "                        <td id=\"T_4b84a6b8_9571_11ec_afa1_e470b8a528c2row4_col1\" class=\"data row4 col1\" >16,469</td>\n",
       "                        <td id=\"T_4b84a6b8_9571_11ec_afa1_e470b8a528c2row4_col2\" class=\"data row4 col2\" >0.00%</td>\n",
       "            </tr>\n",
       "            <tr>\n",
       "                        <th id=\"T_4b84a6b8_9571_11ec_afa1_e470b8a528c2level0_row5\" class=\"row_heading level0 row5\" >year_of_release</th>\n",
       "                        <td id=\"T_4b84a6b8_9571_11ec_afa1_e470b8a528c2row5_col0\" class=\"data row5 col0\" >0</td>\n",
       "                        <td id=\"T_4b84a6b8_9571_11ec_afa1_e470b8a528c2row5_col1\" class=\"data row5 col1\" >16,469</td>\n",
       "                        <td id=\"T_4b84a6b8_9571_11ec_afa1_e470b8a528c2row5_col2\" class=\"data row5 col2\" >0.00%</td>\n",
       "            </tr>\n",
       "            <tr>\n",
       "                        <th id=\"T_4b84a6b8_9571_11ec_afa1_e470b8a528c2level0_row6\" class=\"row_heading level0 row6\" >genre</th>\n",
       "                        <td id=\"T_4b84a6b8_9571_11ec_afa1_e470b8a528c2row6_col0\" class=\"data row6 col0\" >0</td>\n",
       "                        <td id=\"T_4b84a6b8_9571_11ec_afa1_e470b8a528c2row6_col1\" class=\"data row6 col1\" >16,469</td>\n",
       "                        <td id=\"T_4b84a6b8_9571_11ec_afa1_e470b8a528c2row6_col2\" class=\"data row6 col2\" >0.00%</td>\n",
       "            </tr>\n",
       "            <tr>\n",
       "                        <th id=\"T_4b84a6b8_9571_11ec_afa1_e470b8a528c2level0_row7\" class=\"row_heading level0 row7\" >na_sales</th>\n",
       "                        <td id=\"T_4b84a6b8_9571_11ec_afa1_e470b8a528c2row7_col0\" class=\"data row7 col0\" >0</td>\n",
       "                        <td id=\"T_4b84a6b8_9571_11ec_afa1_e470b8a528c2row7_col1\" class=\"data row7 col1\" >16,469</td>\n",
       "                        <td id=\"T_4b84a6b8_9571_11ec_afa1_e470b8a528c2row7_col2\" class=\"data row7 col2\" >0.00%</td>\n",
       "            </tr>\n",
       "            <tr>\n",
       "                        <th id=\"T_4b84a6b8_9571_11ec_afa1_e470b8a528c2level0_row8\" class=\"row_heading level0 row8\" >eu_sales</th>\n",
       "                        <td id=\"T_4b84a6b8_9571_11ec_afa1_e470b8a528c2row8_col0\" class=\"data row8 col0\" >0</td>\n",
       "                        <td id=\"T_4b84a6b8_9571_11ec_afa1_e470b8a528c2row8_col1\" class=\"data row8 col1\" >16,469</td>\n",
       "                        <td id=\"T_4b84a6b8_9571_11ec_afa1_e470b8a528c2row8_col2\" class=\"data row8 col2\" >0.00%</td>\n",
       "            </tr>\n",
       "            <tr>\n",
       "                        <th id=\"T_4b84a6b8_9571_11ec_afa1_e470b8a528c2level0_row9\" class=\"row_heading level0 row9\" >jp_sales</th>\n",
       "                        <td id=\"T_4b84a6b8_9571_11ec_afa1_e470b8a528c2row9_col0\" class=\"data row9 col0\" >0</td>\n",
       "                        <td id=\"T_4b84a6b8_9571_11ec_afa1_e470b8a528c2row9_col1\" class=\"data row9 col1\" >16,469</td>\n",
       "                        <td id=\"T_4b84a6b8_9571_11ec_afa1_e470b8a528c2row9_col2\" class=\"data row9 col2\" >0.00%</td>\n",
       "            </tr>\n",
       "            <tr>\n",
       "                        <th id=\"T_4b84a6b8_9571_11ec_afa1_e470b8a528c2level0_row10\" class=\"row_heading level0 row10\" >other_sales</th>\n",
       "                        <td id=\"T_4b84a6b8_9571_11ec_afa1_e470b8a528c2row10_col0\" class=\"data row10 col0\" >0</td>\n",
       "                        <td id=\"T_4b84a6b8_9571_11ec_afa1_e470b8a528c2row10_col1\" class=\"data row10 col1\" >16,469</td>\n",
       "                        <td id=\"T_4b84a6b8_9571_11ec_afa1_e470b8a528c2row10_col2\" class=\"data row10 col2\" >0.00%</td>\n",
       "            </tr>\n",
       "            <tr>\n",
       "                        <th id=\"T_4b84a6b8_9571_11ec_afa1_e470b8a528c2level0_row11\" class=\"row_heading level0 row11\" >total_sales</th>\n",
       "                        <td id=\"T_4b84a6b8_9571_11ec_afa1_e470b8a528c2row11_col0\" class=\"data row11 col0\" >0</td>\n",
       "                        <td id=\"T_4b84a6b8_9571_11ec_afa1_e470b8a528c2row11_col1\" class=\"data row11 col1\" >16,469</td>\n",
       "                        <td id=\"T_4b84a6b8_9571_11ec_afa1_e470b8a528c2row11_col2\" class=\"data row11 col2\" >0.00%</td>\n",
       "            </tr>\n",
       "    </tbody></table>"
      ],
      "text/plain": [
       "<pandas.io.formats.style.Styler at 0x24dbe377320>"
      ]
     },
     "execution_count": 928,
     "metadata": {},
     "output_type": "execute_result"
    }
   ],
   "source": [
    "games2.stb.missing(style=True)"
   ]
  },
  {
   "cell_type": "code",
   "execution_count": 929,
   "metadata": {},
   "outputs": [],
   "source": [
    "#ps4\n",
    "ps4_df =  games2[games2['platform']=='PS4']"
   ]
  },
  {
   "cell_type": "code",
   "execution_count": 930,
   "metadata": {},
   "outputs": [
    {
     "data": {
      "text/html": [
       "<style  type=\"text/css\" >\n",
       "</style><table id=\"T_4b8c7348_9571_11ec_91d1_e470b8a528c2\" ><thead>    <tr>        <th class=\"blank level0\" ></th>        <th class=\"col_heading level0 col0\" >missing</th>        <th class=\"col_heading level0 col1\" >total</th>        <th class=\"col_heading level0 col2\" >percent</th>    </tr></thead><tbody>\n",
       "                <tr>\n",
       "                        <th id=\"T_4b8c7348_9571_11ec_91d1_e470b8a528c2level0_row0\" class=\"row_heading level0 row0\" >esrb</th>\n",
       "                        <td id=\"T_4b8c7348_9571_11ec_91d1_e470b8a528c2row0_col0\" class=\"data row0 col0\" >2</td>\n",
       "                        <td id=\"T_4b8c7348_9571_11ec_91d1_e470b8a528c2row0_col1\" class=\"data row0 col1\" >392</td>\n",
       "                        <td id=\"T_4b8c7348_9571_11ec_91d1_e470b8a528c2row0_col2\" class=\"data row0 col2\" >0.51%</td>\n",
       "            </tr>\n",
       "            <tr>\n",
       "                        <th id=\"T_4b8c7348_9571_11ec_91d1_e470b8a528c2level0_row1\" class=\"row_heading level0 row1\" >name</th>\n",
       "                        <td id=\"T_4b8c7348_9571_11ec_91d1_e470b8a528c2row1_col0\" class=\"data row1 col0\" >0</td>\n",
       "                        <td id=\"T_4b8c7348_9571_11ec_91d1_e470b8a528c2row1_col1\" class=\"data row1 col1\" >392</td>\n",
       "                        <td id=\"T_4b8c7348_9571_11ec_91d1_e470b8a528c2row1_col2\" class=\"data row1 col2\" >0.00%</td>\n",
       "            </tr>\n",
       "            <tr>\n",
       "                        <th id=\"T_4b8c7348_9571_11ec_91d1_e470b8a528c2level0_row2\" class=\"row_heading level0 row2\" >platform</th>\n",
       "                        <td id=\"T_4b8c7348_9571_11ec_91d1_e470b8a528c2row2_col0\" class=\"data row2 col0\" >0</td>\n",
       "                        <td id=\"T_4b8c7348_9571_11ec_91d1_e470b8a528c2row2_col1\" class=\"data row2 col1\" >392</td>\n",
       "                        <td id=\"T_4b8c7348_9571_11ec_91d1_e470b8a528c2row2_col2\" class=\"data row2 col2\" >0.00%</td>\n",
       "            </tr>\n",
       "            <tr>\n",
       "                        <th id=\"T_4b8c7348_9571_11ec_91d1_e470b8a528c2level0_row3\" class=\"row_heading level0 row3\" >year_of_release</th>\n",
       "                        <td id=\"T_4b8c7348_9571_11ec_91d1_e470b8a528c2row3_col0\" class=\"data row3 col0\" >0</td>\n",
       "                        <td id=\"T_4b8c7348_9571_11ec_91d1_e470b8a528c2row3_col1\" class=\"data row3 col1\" >392</td>\n",
       "                        <td id=\"T_4b8c7348_9571_11ec_91d1_e470b8a528c2row3_col2\" class=\"data row3 col2\" >0.00%</td>\n",
       "            </tr>\n",
       "            <tr>\n",
       "                        <th id=\"T_4b8c7348_9571_11ec_91d1_e470b8a528c2level0_row4\" class=\"row_heading level0 row4\" >genre</th>\n",
       "                        <td id=\"T_4b8c7348_9571_11ec_91d1_e470b8a528c2row4_col0\" class=\"data row4 col0\" >0</td>\n",
       "                        <td id=\"T_4b8c7348_9571_11ec_91d1_e470b8a528c2row4_col1\" class=\"data row4 col1\" >392</td>\n",
       "                        <td id=\"T_4b8c7348_9571_11ec_91d1_e470b8a528c2row4_col2\" class=\"data row4 col2\" >0.00%</td>\n",
       "            </tr>\n",
       "            <tr>\n",
       "                        <th id=\"T_4b8c7348_9571_11ec_91d1_e470b8a528c2level0_row5\" class=\"row_heading level0 row5\" >na_sales</th>\n",
       "                        <td id=\"T_4b8c7348_9571_11ec_91d1_e470b8a528c2row5_col0\" class=\"data row5 col0\" >0</td>\n",
       "                        <td id=\"T_4b8c7348_9571_11ec_91d1_e470b8a528c2row5_col1\" class=\"data row5 col1\" >392</td>\n",
       "                        <td id=\"T_4b8c7348_9571_11ec_91d1_e470b8a528c2row5_col2\" class=\"data row5 col2\" >0.00%</td>\n",
       "            </tr>\n",
       "            <tr>\n",
       "                        <th id=\"T_4b8c7348_9571_11ec_91d1_e470b8a528c2level0_row6\" class=\"row_heading level0 row6\" >eu_sales</th>\n",
       "                        <td id=\"T_4b8c7348_9571_11ec_91d1_e470b8a528c2row6_col0\" class=\"data row6 col0\" >0</td>\n",
       "                        <td id=\"T_4b8c7348_9571_11ec_91d1_e470b8a528c2row6_col1\" class=\"data row6 col1\" >392</td>\n",
       "                        <td id=\"T_4b8c7348_9571_11ec_91d1_e470b8a528c2row6_col2\" class=\"data row6 col2\" >0.00%</td>\n",
       "            </tr>\n",
       "            <tr>\n",
       "                        <th id=\"T_4b8c7348_9571_11ec_91d1_e470b8a528c2level0_row7\" class=\"row_heading level0 row7\" >jp_sales</th>\n",
       "                        <td id=\"T_4b8c7348_9571_11ec_91d1_e470b8a528c2row7_col0\" class=\"data row7 col0\" >0</td>\n",
       "                        <td id=\"T_4b8c7348_9571_11ec_91d1_e470b8a528c2row7_col1\" class=\"data row7 col1\" >392</td>\n",
       "                        <td id=\"T_4b8c7348_9571_11ec_91d1_e470b8a528c2row7_col2\" class=\"data row7 col2\" >0.00%</td>\n",
       "            </tr>\n",
       "            <tr>\n",
       "                        <th id=\"T_4b8c7348_9571_11ec_91d1_e470b8a528c2level0_row8\" class=\"row_heading level0 row8\" >other_sales</th>\n",
       "                        <td id=\"T_4b8c7348_9571_11ec_91d1_e470b8a528c2row8_col0\" class=\"data row8 col0\" >0</td>\n",
       "                        <td id=\"T_4b8c7348_9571_11ec_91d1_e470b8a528c2row8_col1\" class=\"data row8 col1\" >392</td>\n",
       "                        <td id=\"T_4b8c7348_9571_11ec_91d1_e470b8a528c2row8_col2\" class=\"data row8 col2\" >0.00%</td>\n",
       "            </tr>\n",
       "            <tr>\n",
       "                        <th id=\"T_4b8c7348_9571_11ec_91d1_e470b8a528c2level0_row9\" class=\"row_heading level0 row9\" >critic_score</th>\n",
       "                        <td id=\"T_4b8c7348_9571_11ec_91d1_e470b8a528c2row9_col0\" class=\"data row9 col0\" >0</td>\n",
       "                        <td id=\"T_4b8c7348_9571_11ec_91d1_e470b8a528c2row9_col1\" class=\"data row9 col1\" >392</td>\n",
       "                        <td id=\"T_4b8c7348_9571_11ec_91d1_e470b8a528c2row9_col2\" class=\"data row9 col2\" >0.00%</td>\n",
       "            </tr>\n",
       "            <tr>\n",
       "                        <th id=\"T_4b8c7348_9571_11ec_91d1_e470b8a528c2level0_row10\" class=\"row_heading level0 row10\" >user_score</th>\n",
       "                        <td id=\"T_4b8c7348_9571_11ec_91d1_e470b8a528c2row10_col0\" class=\"data row10 col0\" >0</td>\n",
       "                        <td id=\"T_4b8c7348_9571_11ec_91d1_e470b8a528c2row10_col1\" class=\"data row10 col1\" >392</td>\n",
       "                        <td id=\"T_4b8c7348_9571_11ec_91d1_e470b8a528c2row10_col2\" class=\"data row10 col2\" >0.00%</td>\n",
       "            </tr>\n",
       "            <tr>\n",
       "                        <th id=\"T_4b8c7348_9571_11ec_91d1_e470b8a528c2level0_row11\" class=\"row_heading level0 row11\" >total_sales</th>\n",
       "                        <td id=\"T_4b8c7348_9571_11ec_91d1_e470b8a528c2row11_col0\" class=\"data row11 col0\" >0</td>\n",
       "                        <td id=\"T_4b8c7348_9571_11ec_91d1_e470b8a528c2row11_col1\" class=\"data row11 col1\" >392</td>\n",
       "                        <td id=\"T_4b8c7348_9571_11ec_91d1_e470b8a528c2row11_col2\" class=\"data row11 col2\" >0.00%</td>\n",
       "            </tr>\n",
       "    </tbody></table>"
      ],
      "text/plain": [
       "<pandas.io.formats.style.Styler at 0x24dbe3779e8>"
      ]
     },
     "execution_count": 930,
     "metadata": {},
     "output_type": "execute_result"
    }
   ],
   "source": [
    "ps4_df.stb.missing(style=True)"
   ]
  },
  {
   "cell_type": "code",
   "execution_count": 931,
   "metadata": {},
   "outputs": [],
   "source": [
    "ps4_df = ps4_df.dropna()"
   ]
  },
  {
   "cell_type": "markdown",
   "metadata": {},
   "source": [
    "Let's buld a correlation matrix and then the correlation table"
   ]
  },
  {
   "cell_type": "code",
   "execution_count": 932,
   "metadata": {},
   "outputs": [
    {
     "data": {
      "image/png": "[encoded data removed]",
      "text/plain": [
       "<Figure size 864x864 with 9 Axes>"
      ]
     },
     "metadata": {
      "needs_background": "light"
     },
     "output_type": "display_data"
    }
   ],
   "source": [
    "ps4_corr_df = ps4_df[['critic_score','user_score','total_sales']]\n",
    "pd.plotting.scatter_matrix(ps4_corr_df,figsize=(12,12))\n",
    "plt.suptitle('PS4 correlation matrix')\n",
    "plt.show()"
   ]
  },
  {
   "cell_type": "code",
   "execution_count": 933,
   "metadata": {},
   "outputs": [
    {
     "data": {
      "image/png": "[encoded data removed]",
      "text/plain": [
       "<Figure size 864x360 with 1 Axes>"
      ]
     },
     "metadata": {
      "needs_background": "light"
     },
     "output_type": "display_data"
    },
    {
     "data": {
      "image/png": "[encoded data removed]",
      "text/plain": [
       "<Figure size 864x360 with 1 Axes>"
      ]
     },
     "metadata": {
      "needs_background": "light"
     },
     "output_type": "display_data"
    }
   ],
   "source": [
    "plt.figure(figsize=(12,5))\n",
    "sns.scatterplot(data=ps4_corr_df, x=\"critic_score\", y=\"total_sales\").set_title('critic score and sales correlation')\n",
    "plt.show()\n",
    "#------------------------------------------------\n",
    "plt.figure(figsize=(12,5))\n",
    "sns.scatterplot(data=ps4_corr_df, x=\"user_score\", y=\"total_sales\").set_title('user score and sales correlation')\n",
    "plt.show()"
   ]
  },
  {
   "cell_type": "code",
   "execution_count": 934,
   "metadata": {},
   "outputs": [
    {
     "data": {
      "text/html": [
       "<div>\n",
       "<style scoped>\n",
       "    .dataframe tbody tr th:only-of-type {\n",
       "        vertical-align: middle;\n",
       "    }\n",
       "\n",
       "    .dataframe tbody tr th {\n",
       "        vertical-align: top;\n",
       "    }\n",
       "\n",
       "    .dataframe thead th {\n",
       "        text-align: right;\n",
       "    }\n",
       "</style>\n",
       "<table border=\"1\" class=\"dataframe\">\n",
       "  <thead>\n",
       "    <tr style=\"text-align: right;\">\n",
       "      <th></th>\n",
       "      <th>critic_score</th>\n",
       "      <th>user_score</th>\n",
       "      <th>total_sales</th>\n",
       "    </tr>\n",
       "  </thead>\n",
       "  <tbody>\n",
       "    <tr>\n",
       "      <th>critic_score</th>\n",
       "      <td>1.000000</td>\n",
       "      <td>0.547175</td>\n",
       "      <td>0.325466</td>\n",
       "    </tr>\n",
       "    <tr>\n",
       "      <th>user_score</th>\n",
       "      <td>0.547175</td>\n",
       "      <td>1.000000</td>\n",
       "      <td>-0.039048</td>\n",
       "    </tr>\n",
       "    <tr>\n",
       "      <th>total_sales</th>\n",
       "      <td>0.325466</td>\n",
       "      <td>-0.039048</td>\n",
       "      <td>1.000000</td>\n",
       "    </tr>\n",
       "  </tbody>\n",
       "</table>\n",
       "</div>"
      ],
      "text/plain": [
       "              critic_score  user_score  total_sales\n",
       "critic_score      1.000000    0.547175     0.325466\n",
       "user_score        0.547175    1.000000    -0.039048\n",
       "total_sales       0.325466   -0.039048     1.000000"
      ]
     },
     "execution_count": 934,
     "metadata": {},
     "output_type": "execute_result"
    }
   ],
   "source": [
    "ps4_corr_df.corr()"
   ]
  },
  {
   "cell_type": "markdown",
   "metadata": {},
   "source": [
    "**Although not decisive we can conclude that critic's score are correlated in some measure with the sales of games in the PS4 platform**"
   ]
  },
  {
   "cell_type": "markdown",
   "metadata": {},
   "source": [
    "<div class=\"alert alert-block alert-info\">\n",
    "<b>I agree, 'some measure' is not very high. On a deeper thought and by some experience as a (sometimes lazy) gamer I would rely on critic reviews and scores to buy a game</b> <a class=\"tocSkip\"></a>\n",
    "</div>"
   ]
  },
  {
   "cell_type": "markdown",
   "metadata": {},
   "source": [
    "**********************\n",
    "# Keeping your conclusions in mind, compare the sales of the same games on other platforms."
   ]
  },
  {
   "cell_type": "code",
   "execution_count": null,
   "metadata": {},
   "outputs": [],
   "source": []
  },
  {
   "cell_type": "code",
   "execution_count": 935,
   "metadata": {},
   "outputs": [],
   "source": [
    "names_df = games2[(games2['year_of_release']>=2013) & games2['name']].groupby('name').count().reset_index()"
   ]
  },
  {
   "cell_type": "code",
   "execution_count": 936,
   "metadata": {},
   "outputs": [
    {
     "data": {
      "text/html": [
       "<div>\n",
       "<style scoped>\n",
       "    .dataframe tbody tr th:only-of-type {\n",
       "        vertical-align: middle;\n",
       "    }\n",
       "\n",
       "    .dataframe tbody tr th {\n",
       "        vertical-align: top;\n",
       "    }\n",
       "\n",
       "    .dataframe thead th {\n",
       "        text-align: right;\n",
       "    }\n",
       "</style>\n",
       "<table border=\"1\" class=\"dataframe\">\n",
       "  <thead>\n",
       "    <tr style=\"text-align: right;\">\n",
       "      <th></th>\n",
       "      <th>name</th>\n",
       "      <th>platform</th>\n",
       "    </tr>\n",
       "  </thead>\n",
       "  <tbody>\n",
       "    <tr>\n",
       "      <th>27</th>\n",
       "      <td>Adventure Time: Finn &amp; Jake Investigations</td>\n",
       "      <td>6</td>\n",
       "    </tr>\n",
       "    <tr>\n",
       "      <th>48</th>\n",
       "      <td>Angry Birds Star Wars</td>\n",
       "      <td>8</td>\n",
       "    </tr>\n",
       "    <tr>\n",
       "      <th>66</th>\n",
       "      <td>Assassin's Creed IV: Black Flag</td>\n",
       "      <td>6</td>\n",
       "    </tr>\n",
       "    <tr>\n",
       "      <th>140</th>\n",
       "      <td>Call of Duty: Ghosts</td>\n",
       "      <td>6</td>\n",
       "    </tr>\n",
       "    <tr>\n",
       "      <th>246</th>\n",
       "      <td>Disney Infinity</td>\n",
       "      <td>6</td>\n",
       "    </tr>\n",
       "    <tr>\n",
       "      <th>247</th>\n",
       "      <td>Disney Infinity 2.0: Marvel Super Heroes</td>\n",
       "      <td>6</td>\n",
       "    </tr>\n",
       "    <tr>\n",
       "      <th>333</th>\n",
       "      <td>FIFA 14</td>\n",
       "      <td>9</td>\n",
       "    </tr>\n",
       "    <tr>\n",
       "      <th>334</th>\n",
       "      <td>FIFA 15</td>\n",
       "      <td>8</td>\n",
       "    </tr>\n",
       "    <tr>\n",
       "      <th>522</th>\n",
       "      <td>Just Dance 2014</td>\n",
       "      <td>6</td>\n",
       "    </tr>\n",
       "    <tr>\n",
       "      <th>523</th>\n",
       "      <td>Just Dance 2015</td>\n",
       "      <td>6</td>\n",
       "    </tr>\n",
       "    <tr>\n",
       "      <th>524</th>\n",
       "      <td>Just Dance 2016</td>\n",
       "      <td>6</td>\n",
       "    </tr>\n",
       "    <tr>\n",
       "      <th>525</th>\n",
       "      <td>Just Dance 2017</td>\n",
       "      <td>6</td>\n",
       "    </tr>\n",
       "    <tr>\n",
       "      <th>572</th>\n",
       "      <td>LEGO Jurassic World</td>\n",
       "      <td>8</td>\n",
       "    </tr>\n",
       "    <tr>\n",
       "      <th>574</th>\n",
       "      <td>LEGO Marvel Super Heroes</td>\n",
       "      <td>9</td>\n",
       "    </tr>\n",
       "    <tr>\n",
       "      <th>575</th>\n",
       "      <td>LEGO Marvel's Avengers</td>\n",
       "      <td>7</td>\n",
       "    </tr>\n",
       "    <tr>\n",
       "      <th>577</th>\n",
       "      <td>LEGO The Hobbit</td>\n",
       "      <td>8</td>\n",
       "    </tr>\n",
       "    <tr>\n",
       "      <th>585</th>\n",
       "      <td>Lego Batman 3: Beyond Gotham</td>\n",
       "      <td>8</td>\n",
       "    </tr>\n",
       "    <tr>\n",
       "      <th>586</th>\n",
       "      <td>Lego Star Wars: The Force Awakens</td>\n",
       "      <td>7</td>\n",
       "    </tr>\n",
       "    <tr>\n",
       "      <th>665</th>\n",
       "      <td>Minecraft</td>\n",
       "      <td>6</td>\n",
       "    </tr>\n",
       "    <tr>\n",
       "      <th>847</th>\n",
       "      <td>Rayman Legends</td>\n",
       "      <td>6</td>\n",
       "    </tr>\n",
       "    <tr>\n",
       "      <th>895</th>\n",
       "      <td>Rugby World Cup 2015</td>\n",
       "      <td>6</td>\n",
       "    </tr>\n",
       "    <tr>\n",
       "      <th>954</th>\n",
       "      <td>Skylanders SWAP Force</td>\n",
       "      <td>7</td>\n",
       "    </tr>\n",
       "    <tr>\n",
       "      <th>955</th>\n",
       "      <td>Skylanders: SuperChargers</td>\n",
       "      <td>7</td>\n",
       "    </tr>\n",
       "    <tr>\n",
       "      <th>956</th>\n",
       "      <td>Skylanders: Trap Team</td>\n",
       "      <td>7</td>\n",
       "    </tr>\n",
       "    <tr>\n",
       "      <th>1059</th>\n",
       "      <td>Terraria</td>\n",
       "      <td>7</td>\n",
       "    </tr>\n",
       "    <tr>\n",
       "      <th>1061</th>\n",
       "      <td>The Amazing Spider-Man 2 (2014)</td>\n",
       "      <td>7</td>\n",
       "    </tr>\n",
       "    <tr>\n",
       "      <th>1080</th>\n",
       "      <td>The LEGO Movie Videogame</td>\n",
       "      <td>8</td>\n",
       "    </tr>\n",
       "    <tr>\n",
       "      <th>1167</th>\n",
       "      <td>Turbo: Super Stunt Squad</td>\n",
       "      <td>6</td>\n",
       "    </tr>\n",
       "    <tr>\n",
       "      <th>1203</th>\n",
       "      <td>Watch Dogs</td>\n",
       "      <td>6</td>\n",
       "    </tr>\n",
       "  </tbody>\n",
       "</table>\n",
       "</div>"
      ],
      "text/plain": [
       "                                            name  platform\n",
       "27    Adventure Time: Finn & Jake Investigations         6\n",
       "48                         Angry Birds Star Wars         8\n",
       "66               Assassin's Creed IV: Black Flag         6\n",
       "140                         Call of Duty: Ghosts         6\n",
       "246                              Disney Infinity         6\n",
       "247     Disney Infinity 2.0: Marvel Super Heroes         6\n",
       "333                                      FIFA 14         9\n",
       "334                                      FIFA 15         8\n",
       "522                              Just Dance 2014         6\n",
       "523                              Just Dance 2015         6\n",
       "524                              Just Dance 2016         6\n",
       "525                              Just Dance 2017         6\n",
       "572                          LEGO Jurassic World         8\n",
       "574                     LEGO Marvel Super Heroes         9\n",
       "575                       LEGO Marvel's Avengers         7\n",
       "577                              LEGO The Hobbit         8\n",
       "585                 Lego Batman 3: Beyond Gotham         8\n",
       "586            Lego Star Wars: The Force Awakens         7\n",
       "665                                    Minecraft         6\n",
       "847                               Rayman Legends         6\n",
       "895                         Rugby World Cup 2015         6\n",
       "954                        Skylanders SWAP Force         7\n",
       "955                    Skylanders: SuperChargers         7\n",
       "956                        Skylanders: Trap Team         7\n",
       "1059                                    Terraria         7\n",
       "1061             The Amazing Spider-Man 2 (2014)         7\n",
       "1080                    The LEGO Movie Videogame         8\n",
       "1167                    Turbo: Super Stunt Squad         6\n",
       "1203                                  Watch Dogs         6"
      ]
     },
     "execution_count": 936,
     "metadata": {},
     "output_type": "execute_result"
    }
   ],
   "source": [
    "names_df[names_df['platform']>5][['name','platform']]"
   ]
  },
  {
   "cell_type": "code",
   "execution_count": 937,
   "metadata": {},
   "outputs": [
    {
     "data": {
      "text/html": [
       "<div>\n",
       "<style scoped>\n",
       "    .dataframe tbody tr th:only-of-type {\n",
       "        vertical-align: middle;\n",
       "    }\n",
       "\n",
       "    .dataframe tbody tr th {\n",
       "        vertical-align: top;\n",
       "    }\n",
       "\n",
       "    .dataframe thead th {\n",
       "        text-align: right;\n",
       "    }\n",
       "</style>\n",
       "<table border=\"1\" class=\"dataframe\">\n",
       "  <thead>\n",
       "    <tr style=\"text-align: right;\">\n",
       "      <th></th>\n",
       "      <th>name</th>\n",
       "      <th>platform</th>\n",
       "      <th>total_sales</th>\n",
       "      <th>year_of_release</th>\n",
       "      <th>critic_score</th>\n",
       "    </tr>\n",
       "  </thead>\n",
       "  <tbody>\n",
       "    <tr>\n",
       "      <th>3014</th>\n",
       "      <td>Terraria</td>\n",
       "      <td>X360</td>\n",
       "      <td>0.68</td>\n",
       "      <td>2013.0</td>\n",
       "      <td>81.0</td>\n",
       "    </tr>\n",
       "    <tr>\n",
       "      <th>4685</th>\n",
       "      <td>Terraria</td>\n",
       "      <td>PS3</td>\n",
       "      <td>0.41</td>\n",
       "      <td>2013.0</td>\n",
       "      <td>81.0</td>\n",
       "    </tr>\n",
       "    <tr>\n",
       "      <th>8991</th>\n",
       "      <td>Terraria</td>\n",
       "      <td>PC</td>\n",
       "      <td>0.14</td>\n",
       "      <td>2011.0</td>\n",
       "      <td>83.0</td>\n",
       "    </tr>\n",
       "    <tr>\n",
       "      <th>10576</th>\n",
       "      <td>Terraria</td>\n",
       "      <td>PSV</td>\n",
       "      <td>0.10</td>\n",
       "      <td>2013.0</td>\n",
       "      <td>85.0</td>\n",
       "    </tr>\n",
       "    <tr>\n",
       "      <th>11168</th>\n",
       "      <td>Terraria</td>\n",
       "      <td>3DS</td>\n",
       "      <td>0.09</td>\n",
       "      <td>2016.0</td>\n",
       "      <td>71.0</td>\n",
       "    </tr>\n",
       "    <tr>\n",
       "      <th>12228</th>\n",
       "      <td>Terraria</td>\n",
       "      <td>PS4</td>\n",
       "      <td>0.07</td>\n",
       "      <td>2014.0</td>\n",
       "      <td>83.0</td>\n",
       "    </tr>\n",
       "    <tr>\n",
       "      <th>13787</th>\n",
       "      <td>Terraria</td>\n",
       "      <td>XOne</td>\n",
       "      <td>0.04</td>\n",
       "      <td>2014.0</td>\n",
       "      <td>84.0</td>\n",
       "    </tr>\n",
       "    <tr>\n",
       "      <th>14571</th>\n",
       "      <td>Terraria</td>\n",
       "      <td>WiiU</td>\n",
       "      <td>0.03</td>\n",
       "      <td>2016.0</td>\n",
       "      <td>73.5</td>\n",
       "    </tr>\n",
       "  </tbody>\n",
       "</table>\n",
       "</div>"
      ],
      "text/plain": [
       "           name platform  total_sales  year_of_release  critic_score\n",
       "3014   Terraria     X360         0.68           2013.0          81.0\n",
       "4685   Terraria      PS3         0.41           2013.0          81.0\n",
       "8991   Terraria       PC         0.14           2011.0          83.0\n",
       "10576  Terraria      PSV         0.10           2013.0          85.0\n",
       "11168  Terraria      3DS         0.09           2016.0          71.0\n",
       "12228  Terraria      PS4         0.07           2014.0          83.0\n",
       "13787  Terraria     XOne         0.04           2014.0          84.0\n",
       "14571  Terraria     WiiU         0.03           2016.0          73.5"
      ]
     },
     "execution_count": 937,
     "metadata": {},
     "output_type": "execute_result"
    }
   ],
   "source": [
    "#lets check games that are on multiplbe platforms  -  one personal favorite\n",
    "terraria_df= games2[(games2['name']=='Terraria')][['name','platform','total_sales','year_of_release','critic_score']]\n",
    "terraria_df"
   ]
  },
  {
   "cell_type": "code",
   "execution_count": 938,
   "metadata": {},
   "outputs": [
    {
     "data": {
      "text/html": [
       "<div>\n",
       "<style scoped>\n",
       "    .dataframe tbody tr th:only-of-type {\n",
       "        vertical-align: middle;\n",
       "    }\n",
       "\n",
       "    .dataframe tbody tr th {\n",
       "        vertical-align: top;\n",
       "    }\n",
       "\n",
       "    .dataframe thead th {\n",
       "        text-align: right;\n",
       "    }\n",
       "</style>\n",
       "<table border=\"1\" class=\"dataframe\">\n",
       "  <thead>\n",
       "    <tr style=\"text-align: right;\">\n",
       "      <th></th>\n",
       "      <th>name</th>\n",
       "      <th>platform</th>\n",
       "      <th>total_sales</th>\n",
       "      <th>year_of_release</th>\n",
       "      <th>critic_score</th>\n",
       "    </tr>\n",
       "  </thead>\n",
       "  <tbody>\n",
       "    <tr>\n",
       "      <th>72</th>\n",
       "      <td>Minecraft</td>\n",
       "      <td>X360</td>\n",
       "      <td>9.18</td>\n",
       "      <td>2013.0</td>\n",
       "      <td>71.0</td>\n",
       "    </tr>\n",
       "    <tr>\n",
       "      <th>180</th>\n",
       "      <td>Minecraft</td>\n",
       "      <td>PS3</td>\n",
       "      <td>5.27</td>\n",
       "      <td>2014.0</td>\n",
       "      <td>73.0</td>\n",
       "    </tr>\n",
       "    <tr>\n",
       "      <th>261</th>\n",
       "      <td>Minecraft</td>\n",
       "      <td>PS4</td>\n",
       "      <td>4.32</td>\n",
       "      <td>2014.0</td>\n",
       "      <td>73.0</td>\n",
       "    </tr>\n",
       "    <tr>\n",
       "      <th>543</th>\n",
       "      <td>Minecraft</td>\n",
       "      <td>XOne</td>\n",
       "      <td>2.76</td>\n",
       "      <td>2014.0</td>\n",
       "      <td>76.0</td>\n",
       "    </tr>\n",
       "    <tr>\n",
       "      <th>868</th>\n",
       "      <td>Minecraft</td>\n",
       "      <td>PSV</td>\n",
       "      <td>1.96</td>\n",
       "      <td>2014.0</td>\n",
       "      <td>71.0</td>\n",
       "    </tr>\n",
       "    <tr>\n",
       "      <th>2973</th>\n",
       "      <td>Minecraft</td>\n",
       "      <td>WiiU</td>\n",
       "      <td>0.67</td>\n",
       "      <td>2016.0</td>\n",
       "      <td>73.5</td>\n",
       "    </tr>\n",
       "  </tbody>\n",
       "</table>\n",
       "</div>"
      ],
      "text/plain": [
       "           name platform  total_sales  year_of_release  critic_score\n",
       "72    Minecraft     X360         9.18           2013.0          71.0\n",
       "180   Minecraft      PS3         5.27           2014.0          73.0\n",
       "261   Minecraft      PS4         4.32           2014.0          73.0\n",
       "543   Minecraft     XOne         2.76           2014.0          76.0\n",
       "868   Minecraft      PSV         1.96           2014.0          71.0\n",
       "2973  Minecraft     WiiU         0.67           2016.0          73.5"
      ]
     },
     "execution_count": 938,
     "metadata": {},
     "output_type": "execute_result"
    }
   ],
   "source": [
    "minecraft_df= games2[(games2['name']=='Minecraft')][['name','platform','total_sales','year_of_release','critic_score']]\n",
    "minecraft_df"
   ]
  },
  {
   "cell_type": "code",
   "execution_count": 939,
   "metadata": {},
   "outputs": [
    {
     "data": {
      "text/html": [
       "<div>\n",
       "<style scoped>\n",
       "    .dataframe tbody tr th:only-of-type {\n",
       "        vertical-align: middle;\n",
       "    }\n",
       "\n",
       "    .dataframe tbody tr th {\n",
       "        vertical-align: top;\n",
       "    }\n",
       "\n",
       "    .dataframe thead th {\n",
       "        text-align: right;\n",
       "    }\n",
       "</style>\n",
       "<table border=\"1\" class=\"dataframe\">\n",
       "  <thead>\n",
       "    <tr style=\"text-align: right;\">\n",
       "      <th></th>\n",
       "      <th>name</th>\n",
       "      <th>platform</th>\n",
       "      <th>total_sales</th>\n",
       "      <th>year_of_release</th>\n",
       "      <th>critic_score</th>\n",
       "    </tr>\n",
       "  </thead>\n",
       "  <tbody>\n",
       "    <tr>\n",
       "      <th>16</th>\n",
       "      <td>Grand Theft Auto V</td>\n",
       "      <td>PS3</td>\n",
       "      <td>21.05</td>\n",
       "      <td>2013.0</td>\n",
       "      <td>97.0</td>\n",
       "    </tr>\n",
       "    <tr>\n",
       "      <th>23</th>\n",
       "      <td>Grand Theft Auto V</td>\n",
       "      <td>X360</td>\n",
       "      <td>16.27</td>\n",
       "      <td>2013.0</td>\n",
       "      <td>97.0</td>\n",
       "    </tr>\n",
       "    <tr>\n",
       "      <th>42</th>\n",
       "      <td>Grand Theft Auto V</td>\n",
       "      <td>PS4</td>\n",
       "      <td>12.62</td>\n",
       "      <td>2014.0</td>\n",
       "      <td>97.0</td>\n",
       "    </tr>\n",
       "    <tr>\n",
       "      <th>165</th>\n",
       "      <td>Grand Theft Auto V</td>\n",
       "      <td>XOne</td>\n",
       "      <td>5.47</td>\n",
       "      <td>2014.0</td>\n",
       "      <td>97.0</td>\n",
       "    </tr>\n",
       "    <tr>\n",
       "      <th>1730</th>\n",
       "      <td>Grand Theft Auto V</td>\n",
       "      <td>PC</td>\n",
       "      <td>1.17</td>\n",
       "      <td>2015.0</td>\n",
       "      <td>96.0</td>\n",
       "    </tr>\n",
       "  </tbody>\n",
       "</table>\n",
       "</div>"
      ],
      "text/plain": [
       "                    name platform  total_sales  year_of_release  critic_score\n",
       "16    Grand Theft Auto V      PS3        21.05           2013.0          97.0\n",
       "23    Grand Theft Auto V     X360        16.27           2013.0          97.0\n",
       "42    Grand Theft Auto V      PS4        12.62           2014.0          97.0\n",
       "165   Grand Theft Auto V     XOne         5.47           2014.0          97.0\n",
       "1730  Grand Theft Auto V       PC         1.17           2015.0          96.0"
      ]
     },
     "execution_count": 939,
     "metadata": {},
     "output_type": "execute_result"
    }
   ],
   "source": [
    "gtaV_df= games2[(games2['name']=='Grand Theft Auto V')][['name','platform','total_sales','year_of_release','critic_score']]\n",
    "gtaV_df"
   ]
  },
  {
   "cell_type": "markdown",
   "metadata": {},
   "source": [
    "*****Looking at indivdual games we cannot make a conclusion about which platform sales more games, but a game with good critic scores that is ported to various platforms is guarantee good sales. Terraria btw is now a cult classic*****"
   ]
  },
  {
   "cell_type": "markdown",
   "metadata": {},
   "source": [
    "# Take a look at the general distribution of games by genre. What can we say about the most profitable genres? Can you generalize about genres with high and low sales?"
   ]
  },
  {
   "cell_type": "code",
   "execution_count": 940,
   "metadata": {},
   "outputs": [],
   "source": [
    "genre_df = games2[['genre','total_sales']].groupby('genre').sum().reset_index().sort_values('total_sales',ascending=False)\n",
    "\n",
    "g3 =  games2[games2['year_of_release']>=2014] # the latest data\n",
    "\n",
    "genre_latest_df = g3[['genre','total_sales']].groupby('genre').sum().reset_index().sort_values('total_sales',ascending=False)\n"
   ]
  },
  {
   "cell_type": "code",
   "execution_count": 941,
   "metadata": {},
   "outputs": [
    {
     "data": {
      "image/png": "[encoded data removed]",
      "text/plain": [
       "<Figure size 720x288 with 1 Axes>"
      ]
     },
     "metadata": {
      "needs_background": "light"
     },
     "output_type": "display_data"
    },
    {
     "data": {
      "image/png": "[encoded data removed]",
      "text/plain": [
       "<Figure size 720x288 with 1 Axes>"
      ]
     },
     "metadata": {
      "needs_background": "light"
     },
     "output_type": "display_data"
    }
   ],
   "source": [
    "g=sns.catplot(x=\"genre\", y=\"total_sales\", kind=\"bar\", data=genre_df,height=4, aspect=2.5).set(title='Sales by genre(all sales)')\n",
    "plt.show()\n",
    "#-----------------------------------------------\n",
    "g=sns.catplot(x=\"genre\", y=\"total_sales\", kind=\"bar\", data=genre_latest_df,height=4, aspect=2.5).set(title='Sales by genre(2014-2016)')\n",
    "plt.show()"
   ]
  },
  {
   "cell_type": "markdown",
   "metadata": {},
   "source": [
    "*****Action, Sports and Shooters lead the way in the general view of the sales data, but we cannot generalize as we see that in the latest years diferent genres have either move up or down on sales, also this means that in the future newer consoles might draw the sales toward them with different genres leading*****"
   ]
  },
  {
   "cell_type": "markdown",
   "metadata": {},
   "source": [
    "# Step 4. Create a user profile for each region\n",
    "For each region (NA, EU, JP), determine:\n",
    "- The top five platforms. Describe variations in their market shares from region to region.\n",
    "- The top five genres. Explain the difference.\n",
    "- Do ESRB ratings affect sales in individual regions?"
   ]
  },
  {
   "cell_type": "code",
   "execution_count": 942,
   "metadata": {},
   "outputs": [
    {
     "data": {
      "text/plain": [
       "Index(['name', 'platform', 'year_of_release', 'genre', 'na_sales', 'eu_sales',\n",
       "       'jp_sales', 'other_sales', 'critic_score', 'user_score', 'esrb',\n",
       "       'total_sales'],\n",
       "      dtype='object')"
      ]
     },
     "execution_count": 942,
     "metadata": {},
     "output_type": "execute_result"
    }
   ],
   "source": [
    "#taking data from the later years 2014-2016\n",
    "g3.columns"
   ]
  },
  {
   "cell_type": "code",
   "execution_count": 943,
   "metadata": {},
   "outputs": [],
   "source": [
    "#NA\n",
    "north_america_df =  g3[['name','platform','year_of_release','genre','critic_score','user_score','esrb','na_sales']]\n",
    "#EU\n",
    "eu_df =  g3[['name','platform','year_of_release','genre','critic_score','user_score','esrb','eu_sales']]\n",
    "#JP\n",
    "jp_df = g3[['name','platform','year_of_release','genre','critic_score','user_score','esrb','jp_sales']]"
   ]
  },
  {
   "cell_type": "code",
   "execution_count": 944,
   "metadata": {},
   "outputs": [],
   "source": [
    "#top 5 platforms\n",
    "na_top_five_df = (north_america_df[['platform','na_sales']].groupby('platform').sum()\n",
    "               .sort_values('na_sales',ascending=False).head()\n",
    "              )\n",
    "eu_top_five_df = (eu_df[['platform','eu_sales']].groupby('platform').sum()\n",
    "               .sort_values('eu_sales',ascending=False).head()\n",
    "              )\n",
    "jp_top_five_df = (jp_df[['platform','jp_sales']].groupby('platform').sum()\n",
    "               .sort_values('jp_sales',ascending=False).head()\n",
    "              )"
   ]
  },
  {
   "cell_type": "markdown",
   "metadata": {},
   "source": [
    "***display two pandas tables side by side***"
   ]
  },
  {
   "cell_type": "code",
   "execution_count": 945,
   "metadata": {},
   "outputs": [],
   "source": [
    "#...from stackoverflow\n",
    "from IPython.display import display_html\n",
    "from itertools import chain,cycle\n",
    "def display_side_by_side(*args,titles=cycle([''])):\n",
    "    html_str=''\n",
    "    for df,title in zip(args, chain(titles,cycle(['</br>'])) ):\n",
    "        html_str+='<th style=\"text-align:center\"><td style=\"vertical-align:top\">'\n",
    "        html_str+=f'<h2>{title}</h2>'\n",
    "        html_str+=df.to_html().replace('table','table style=\"display:inline\"')\n",
    "        html_str+='</td></th>'\n",
    "    display_html(html_str,raw=True)"
   ]
  },
  {
   "cell_type": "code",
   "execution_count": 946,
   "metadata": {},
   "outputs": [
    {
     "data": {
      "text/html": [
       "<th style=\"text-align:center\"><td style=\"vertical-align:top\"><h2>NA</h2><table style=\"display:inline\" border=\"1\" class=\"dataframe\">\n",
       "  <thead>\n",
       "    <tr style=\"text-align: right;\">\n",
       "      <th></th>\n",
       "      <th>na_sales</th>\n",
       "    </tr>\n",
       "    <tr>\n",
       "      <th>platform</th>\n",
       "      <th></th>\n",
       "    </tr>\n",
       "  </thead>\n",
       "  <tbody>\n",
       "    <tr>\n",
       "      <th>PS4</th>\n",
       "      <td>98.61</td>\n",
       "    </tr>\n",
       "    <tr>\n",
       "      <th>XOne</th>\n",
       "      <td>81.27</td>\n",
       "    </tr>\n",
       "    <tr>\n",
       "      <th>X360</th>\n",
       "      <td>28.30</td>\n",
       "    </tr>\n",
       "    <tr>\n",
       "      <th>3DS</th>\n",
       "      <td>22.64</td>\n",
       "    </tr>\n",
       "    <tr>\n",
       "      <th>PS3</th>\n",
       "      <td>22.05</td>\n",
       "    </tr>\n",
       "  </tbody>\n",
       "</table style=\"display:inline\"></td></th><th style=\"text-align:center\"><td style=\"vertical-align:top\"><h2>EU</h2><table style=\"display:inline\" border=\"1\" class=\"dataframe\">\n",
       "  <thead>\n",
       "    <tr style=\"text-align: right;\">\n",
       "      <th></th>\n",
       "      <th>eu_sales</th>\n",
       "    </tr>\n",
       "    <tr>\n",
       "      <th>platform</th>\n",
       "      <th></th>\n",
       "    </tr>\n",
       "  </thead>\n",
       "  <tbody>\n",
       "    <tr>\n",
       "      <th>PS4</th>\n",
       "      <td>130.04</td>\n",
       "    </tr>\n",
       "    <tr>\n",
       "      <th>XOne</th>\n",
       "      <td>46.25</td>\n",
       "    </tr>\n",
       "    <tr>\n",
       "      <th>PS3</th>\n",
       "      <td>25.54</td>\n",
       "    </tr>\n",
       "    <tr>\n",
       "      <th>PC</th>\n",
       "      <td>17.97</td>\n",
       "    </tr>\n",
       "    <tr>\n",
       "      <th>3DS</th>\n",
       "      <td>16.12</td>\n",
       "    </tr>\n",
       "  </tbody>\n",
       "</table style=\"display:inline\"></td></th><th style=\"text-align:center\"><td style=\"vertical-align:top\"><h2>JP</h2><table style=\"display:inline\" border=\"1\" class=\"dataframe\">\n",
       "  <thead>\n",
       "    <tr style=\"text-align: right;\">\n",
       "      <th></th>\n",
       "      <th>jp_sales</th>\n",
       "    </tr>\n",
       "    <tr>\n",
       "      <th>platform</th>\n",
       "      <th></th>\n",
       "    </tr>\n",
       "  </thead>\n",
       "  <tbody>\n",
       "    <tr>\n",
       "      <th>3DS</th>\n",
       "      <td>44.24</td>\n",
       "    </tr>\n",
       "    <tr>\n",
       "      <th>PS4</th>\n",
       "      <td>15.02</td>\n",
       "    </tr>\n",
       "    <tr>\n",
       "      <th>PSV</th>\n",
       "      <td>14.54</td>\n",
       "    </tr>\n",
       "    <tr>\n",
       "      <th>PS3</th>\n",
       "      <td>11.22</td>\n",
       "    </tr>\n",
       "    <tr>\n",
       "      <th>WiiU</th>\n",
       "      <td>7.31</td>\n",
       "    </tr>\n",
       "  </tbody>\n",
       "</table style=\"display:inline\"></td></th>"
      ]
     },
     "metadata": {},
     "output_type": "display_data"
    }
   ],
   "source": [
    "display_side_by_side(na_top_five_df,eu_top_five_df,jp_top_five_df, titles=['NA','EU','JP'])"
   ]
  },
  {
   "cell_type": "markdown",
   "metadata": {},
   "source": [
    "*****We can see the dominance of the PS4 in north america and Europe while in Japan the 3DS is the one who leads. Its interesting to see that PC has foothold in Europe and in Japan Nintendo and Sony compete fiercely with Microsoft Xbox not in sight.*****"
   ]
  },
  {
   "cell_type": "code",
   "execution_count": 947,
   "metadata": {},
   "outputs": [],
   "source": [
    "#top 5 genres\n",
    "na_top_five_g_df = (north_america_df[['genre','na_sales']].groupby('genre').sum()\n",
    "               .sort_values('na_sales',ascending=False).head()\n",
    "              )\n",
    "eu_top_five_g_df = (eu_df[['genre','eu_sales']].groupby('genre').sum()\n",
    "               .sort_values('eu_sales',ascending=False).head()\n",
    "              )\n",
    "jp_top_five_g_df = (jp_df[['genre','jp_sales']].groupby('genre').sum()\n",
    "               .sort_values('jp_sales',ascending=False).head()\n",
    "              )"
   ]
  },
  {
   "cell_type": "code",
   "execution_count": 948,
   "metadata": {},
   "outputs": [
    {
     "data": {
      "text/html": [
       "<th style=\"text-align:center\"><td style=\"vertical-align:top\"><h2>NA</h2><table style=\"display:inline\" border=\"1\" class=\"dataframe\">\n",
       "  <thead>\n",
       "    <tr style=\"text-align: right;\">\n",
       "      <th></th>\n",
       "      <th>na_sales</th>\n",
       "    </tr>\n",
       "    <tr>\n",
       "      <th>genre</th>\n",
       "      <th></th>\n",
       "    </tr>\n",
       "  </thead>\n",
       "  <tbody>\n",
       "    <tr>\n",
       "      <th>Shooter</th>\n",
       "      <td>79.02</td>\n",
       "    </tr>\n",
       "    <tr>\n",
       "      <th>Action</th>\n",
       "      <td>72.53</td>\n",
       "    </tr>\n",
       "    <tr>\n",
       "      <th>Sports</th>\n",
       "      <td>46.13</td>\n",
       "    </tr>\n",
       "    <tr>\n",
       "      <th>Role-Playing</th>\n",
       "      <td>33.47</td>\n",
       "    </tr>\n",
       "    <tr>\n",
       "      <th>Misc</th>\n",
       "      <td>15.05</td>\n",
       "    </tr>\n",
       "  </tbody>\n",
       "</table style=\"display:inline\"></td></th><th style=\"text-align:center\"><td style=\"vertical-align:top\"><h2>EU</h2><table style=\"display:inline\" border=\"1\" class=\"dataframe\">\n",
       "  <thead>\n",
       "    <tr style=\"text-align: right;\">\n",
       "      <th></th>\n",
       "      <th>eu_sales</th>\n",
       "    </tr>\n",
       "    <tr>\n",
       "      <th>genre</th>\n",
       "      <th></th>\n",
       "    </tr>\n",
       "  </thead>\n",
       "  <tbody>\n",
       "    <tr>\n",
       "      <th>Action</th>\n",
       "      <td>74.68</td>\n",
       "    </tr>\n",
       "    <tr>\n",
       "      <th>Shooter</th>\n",
       "      <td>65.52</td>\n",
       "    </tr>\n",
       "    <tr>\n",
       "      <th>Sports</th>\n",
       "      <td>45.73</td>\n",
       "    </tr>\n",
       "    <tr>\n",
       "      <th>Role-Playing</th>\n",
       "      <td>28.17</td>\n",
       "    </tr>\n",
       "    <tr>\n",
       "      <th>Racing</th>\n",
       "      <td>14.13</td>\n",
       "    </tr>\n",
       "  </tbody>\n",
       "</table style=\"display:inline\"></td></th><th style=\"text-align:center\"><td style=\"vertical-align:top\"><h2>JP</h2><table style=\"display:inline\" border=\"1\" class=\"dataframe\">\n",
       "  <thead>\n",
       "    <tr style=\"text-align: right;\">\n",
       "      <th></th>\n",
       "      <th>jp_sales</th>\n",
       "    </tr>\n",
       "    <tr>\n",
       "      <th>genre</th>\n",
       "      <th></th>\n",
       "    </tr>\n",
       "  </thead>\n",
       "  <tbody>\n",
       "    <tr>\n",
       "      <th>Role-Playing</th>\n",
       "      <td>31.16</td>\n",
       "    </tr>\n",
       "    <tr>\n",
       "      <th>Action</th>\n",
       "      <td>29.58</td>\n",
       "    </tr>\n",
       "    <tr>\n",
       "      <th>Fighting</th>\n",
       "      <td>6.37</td>\n",
       "    </tr>\n",
       "    <tr>\n",
       "      <th>Misc</th>\n",
       "      <td>5.61</td>\n",
       "    </tr>\n",
       "    <tr>\n",
       "      <th>Shooter</th>\n",
       "      <td>4.87</td>\n",
       "    </tr>\n",
       "  </tbody>\n",
       "</table style=\"display:inline\"></td></th>"
      ]
     },
     "metadata": {},
     "output_type": "display_data"
    }
   ],
   "source": [
    "display_side_by_side(na_top_five_g_df,eu_top_five_g_df,jp_top_five_g_df, titles=['NA','EU','JP'])"
   ]
  },
  {
   "cell_type": "markdown",
   "metadata": {},
   "source": [
    "*****While we see the massive sales in NA and EU the difference in the top categories might point out to the differnce in culture - the west vs far east.*****"
   ]
  },
  {
   "cell_type": "markdown",
   "metadata": {},
   "source": [
    "# Do ESRB ratings affect sales in individual regions?"
   ]
  },
  {
   "cell_type": "markdown",
   "metadata": {},
   "source": [
    "**Although the numerical ESRB ratings that I applyed are not reliable to make any calculation, I think that if I take those ratings that are full integers might help understand this question because they represent the original ESRB rating**"
   ]
  },
  {
   "cell_type": "code",
   "execution_count": 949,
   "metadata": {},
   "outputs": [
    {
     "data": {
      "text/plain": [
       "Index(['name', 'platform', 'year_of_release', 'genre', 'na_sales', 'eu_sales',\n",
       "       'jp_sales', 'other_sales', 'critic_score', 'user_score', 'esrb',\n",
       "       'total_sales'],\n",
       "      dtype='object')"
      ]
     },
     "execution_count": 949,
     "metadata": {},
     "output_type": "execute_result"
    }
   ],
   "source": [
    "g_esrb = g3[g3['esrb']%1 == 0]\n",
    "g_esrb.columns"
   ]
  },
  {
   "cell_type": "code",
   "execution_count": 950,
   "metadata": {},
   "outputs": [],
   "source": [
    "#NA\n",
    "north_america_df =  g_esrb[['name','platform','year_of_release','genre','critic_score','user_score','esrb','na_sales']]\n",
    "#EU\n",
    "eu_df =  g_esrb[['name','platform','year_of_release','genre','critic_score','user_score','esrb','eu_sales']]\n",
    "#JP\n",
    "jp_df = g_esrb[['name','platform','year_of_release','genre','critic_score','user_score','esrb','jp_sales']]"
   ]
  },
  {
   "cell_type": "code",
   "execution_count": 951,
   "metadata": {},
   "outputs": [],
   "source": [
    "na_top_df = (north_america_df[['esrb','na_sales']].groupby('esrb').sum()\n",
    "               .sort_values('na_sales',ascending=False).head(10)\n",
    "              )\n",
    "eu_top_df = (eu_df[['esrb','eu_sales']].groupby('esrb').sum()\n",
    "               .sort_values('eu_sales',ascending=False).head(10)\n",
    "              )\n",
    "jp_top_df = (jp_df[['esrb','jp_sales']].groupby('esrb').sum()\n",
    "               .sort_values('jp_sales',ascending=False).head(10)\n",
    "              )"
   ]
  },
  {
   "cell_type": "code",
   "execution_count": 952,
   "metadata": {},
   "outputs": [],
   "source": [
    "#esrb_map={'RP':0,'EC':1,'E10+':2,'T':3,'E':4,'K-A':4,'M':5,'AO':5}\n",
    "esrb_map2={0:'RP',\n",
    "           1:'RC',\n",
    "           2:'E10+',\n",
    "           3:'T',\n",
    "           4:'E',          \n",
    "           5:'M',\n",
    "          }"
   ]
  },
  {
   "cell_type": "code",
   "execution_count": 953,
   "metadata": {},
   "outputs": [],
   "source": [
    "#mapping values to ESRB ratings\n",
    "na_top_df.index = na_top_df.index.map(esrb_map2) \n",
    "eu_top_df.index = eu_top_df.index.map(esrb_map2) "
   ]
  },
  {
   "cell_type": "code",
   "execution_count": 954,
   "metadata": {},
   "outputs": [],
   "source": [
    "jp_top_df.index = jp_top_df.index.map(esrb_map2)"
   ]
  },
  {
   "cell_type": "code",
   "execution_count": 955,
   "metadata": {},
   "outputs": [
    {
     "data": {
      "text/html": [
       "<th style=\"text-align:center\"><td style=\"vertical-align:top\"><h2>NA</h2><table style=\"display:inline\" border=\"1\" class=\"dataframe\">\n",
       "  <thead>\n",
       "    <tr style=\"text-align: right;\">\n",
       "      <th></th>\n",
       "      <th>na_sales</th>\n",
       "    </tr>\n",
       "    <tr>\n",
       "      <th>esrb</th>\n",
       "      <th></th>\n",
       "    </tr>\n",
       "  </thead>\n",
       "  <tbody>\n",
       "    <tr>\n",
       "      <th>M</th>\n",
       "      <td>99.43</td>\n",
       "    </tr>\n",
       "    <tr>\n",
       "      <th>E</th>\n",
       "      <td>70.88</td>\n",
       "    </tr>\n",
       "    <tr>\n",
       "      <th>T</th>\n",
       "      <td>64.39</td>\n",
       "    </tr>\n",
       "    <tr>\n",
       "      <th>E10+</th>\n",
       "      <td>42.75</td>\n",
       "    </tr>\n",
       "  </tbody>\n",
       "</table style=\"display:inline\"></td></th><th style=\"text-align:center\"><td style=\"vertical-align:top\"><h2>EU</h2><table style=\"display:inline\" border=\"1\" class=\"dataframe\">\n",
       "  <thead>\n",
       "    <tr style=\"text-align: right;\">\n",
       "      <th></th>\n",
       "      <th>eu_sales</th>\n",
       "    </tr>\n",
       "    <tr>\n",
       "      <th>esrb</th>\n",
       "      <th></th>\n",
       "    </tr>\n",
       "  </thead>\n",
       "  <tbody>\n",
       "    <tr>\n",
       "      <th>M</th>\n",
       "      <td>96.15</td>\n",
       "    </tr>\n",
       "    <tr>\n",
       "      <th>E</th>\n",
       "      <td>76.96</td>\n",
       "    </tr>\n",
       "    <tr>\n",
       "      <th>T</th>\n",
       "      <td>58.45</td>\n",
       "    </tr>\n",
       "    <tr>\n",
       "      <th>E10+</th>\n",
       "      <td>35.97</td>\n",
       "    </tr>\n",
       "  </tbody>\n",
       "</table style=\"display:inline\"></td></th><th style=\"text-align:center\"><td style=\"vertical-align:top\"><h2>JP</h2><table style=\"display:inline\" border=\"1\" class=\"dataframe\">\n",
       "  <thead>\n",
       "    <tr style=\"text-align: right;\">\n",
       "      <th></th>\n",
       "      <th>jp_sales</th>\n",
       "    </tr>\n",
       "    <tr>\n",
       "      <th>esrb</th>\n",
       "      <th></th>\n",
       "    </tr>\n",
       "  </thead>\n",
       "  <tbody>\n",
       "    <tr>\n",
       "      <th>T</th>\n",
       "      <td>42.78</td>\n",
       "    </tr>\n",
       "    <tr>\n",
       "      <th>E10+</th>\n",
       "      <td>22.47</td>\n",
       "    </tr>\n",
       "    <tr>\n",
       "      <th>E</th>\n",
       "      <td>12.93</td>\n",
       "    </tr>\n",
       "    <tr>\n",
       "      <th>M</th>\n",
       "      <td>9.76</td>\n",
       "    </tr>\n",
       "  </tbody>\n",
       "</table style=\"display:inline\"></td></th>"
      ]
     },
     "metadata": {},
     "output_type": "display_data"
    }
   ],
   "source": [
    "display_side_by_side(na_top_df,eu_top_df,jp_top_df, titles=['NA','EU','JP'])"
   ]
  },
  {
   "cell_type": "markdown",
   "metadata": {},
   "source": [
    "**Adding pie charts**"
   ]
  },
  {
   "cell_type": "code",
   "execution_count": 961,
   "metadata": {},
   "outputs": [],
   "source": [
    "na_top_df['percent'] = na_top_df['na_sales']/na_top_df['na_sales'].sum()\n",
    "eu_top_df['percent'] = eu_top_df['eu_sales']/eu_top_df['eu_sales'].sum()\n",
    "jp_top_df['percent'] = jp_top_df['jp_sales']/jp_top_df['jp_sales'].sum()"
   ]
  },
  {
   "cell_type": "code",
   "execution_count": 965,
   "metadata": {},
   "outputs": [
    {
     "data": {
      "image/png": "[encoded data removed]",
      "text/plain": [
       "<Figure size 360x360 with 1 Axes>"
      ]
     },
     "metadata": {},
     "output_type": "display_data"
    },
    {
     "data": {
      "image/png": "[encoded data removed]",
      "text/plain": [
       "<Figure size 360x360 with 1 Axes>"
      ]
     },
     "metadata": {},
     "output_type": "display_data"
    },
    {
     "data": {
      "image/png": "[encoded data removed]",
      "text/plain": [
       "<Figure size 360x360 with 1 Axes>"
      ]
     },
     "metadata": {},
     "output_type": "display_data"
    }
   ],
   "source": [
    "na_plot = na_top_df.plot.pie(y='percent', figsize=(5, 5))\n",
    "plt.title('North America Sales-Rating')\n",
    "plt.show()\n",
    "#--------------------\n",
    "eu_plot = eu_top_df.plot.pie(y='percent', figsize=(5, 5))\n",
    "plt.title('Europe Sales-Rating')\n",
    "plt.show()\n",
    "#--------------------\n",
    "jp_top_df = jp_top_df.plot.pie(y='percent', figsize=(5, 5))\n",
    "plt.title('Japan Sales-Rating')\n",
    "plt.show()"
   ]
  },
  {
   "cell_type": "markdown",
   "metadata": {},
   "source": [
    "<div class=\"alert alert-block alert-info\">\n",
    "<b>With the pie charts its even more evident how the Teen rating in japan is almost half of the sales and how Europe and North America are quite similar.</b> <a class=\"tocSkip\"></a>\n",
    "</div>"
   ]
  },
  {
   "cell_type": "markdown",
   "metadata": {},
   "source": [
    "EC = Early Childhood E = EVERYONE E10+ = EVERYONE 10+ T = TEEN M = Mature RP = RATING PENDING K-A = Kids to Adults AO = Adults Only\n",
    "\n",
    "KA and E -can be merged M - AO - can be merged (for the sake of simplifying the ratings)"
   ]
  },
  {
   "cell_type": "markdown",
   "metadata": {},
   "source": [
    "*****Here we see again how Europe and North America markets are so similar but so different to Japan. I wouldnt say that ESRB ratings affect sales instead I think that it happens that the top sales per region happen to have that specific rating.*****"
   ]
  },
  {
   "cell_type": "markdown",
   "metadata": {},
   "source": [
    "# Step 5. Test the following hypotheses:\n",
    "- Average user ratings of the Xbox One and PC platforms are the same.\n",
    "- Average user ratings for the Action and Sports genres are different.\n",
    "- - Set the alpha threshold value yourself.\n",
    "- Explain:\n",
    "- How you formulated the null and alternative hypotheses\n",
    "- What significance level you chose to test the hypotheses, and why"
   ]
  },
  {
   "cell_type": "markdown",
   "metadata": {},
   "source": [
    "**H0 = Average user ratings of the Xbox One and PC platforms are the same**\n",
    "- To test H0 we'll take all the user scores from XOne and Pc and create a set for each platform, we'll test the hypotheses by taking 50 random samples from each."
   ]
  },
  {
   "cell_type": "code",
   "execution_count": 1279,
   "metadata": {},
   "outputs": [
    {
     "data": {
      "text/html": [
       "<div>\n",
       "<style scoped>\n",
       "    .dataframe tbody tr th:only-of-type {\n",
       "        vertical-align: middle;\n",
       "    }\n",
       "\n",
       "    .dataframe tbody tr th {\n",
       "        vertical-align: top;\n",
       "    }\n",
       "\n",
       "    .dataframe thead th {\n",
       "        text-align: right;\n",
       "    }\n",
       "</style>\n",
       "<table border=\"1\" class=\"dataframe\">\n",
       "  <thead>\n",
       "    <tr style=\"text-align: right;\">\n",
       "      <th></th>\n",
       "      <th>platform</th>\n",
       "      <th>min</th>\n",
       "      <th>max</th>\n",
       "      <th>age</th>\n",
       "    </tr>\n",
       "  </thead>\n",
       "  <tbody>\n",
       "    <tr>\n",
       "      <th>7</th>\n",
       "      <td>PC</td>\n",
       "      <td>2000.0</td>\n",
       "      <td>2016.0</td>\n",
       "      <td>16.0</td>\n",
       "    </tr>\n",
       "    <tr>\n",
       "      <th>19</th>\n",
       "      <td>XOne</td>\n",
       "      <td>2013.0</td>\n",
       "      <td>2016.0</td>\n",
       "      <td>3.0</td>\n",
       "    </tr>\n",
       "  </tbody>\n",
       "</table>\n",
       "</div>"
      ],
      "text/plain": [
       "   platform     min     max   age\n",
       "7        PC  2000.0  2016.0  16.0\n",
       "19     XOne  2013.0  2016.0   3.0"
      ]
     },
     "execution_count": 1279,
     "metadata": {},
     "output_type": "execute_result"
    }
   ],
   "source": [
    "pltfrm_age[(pltfrm_age['platform']=='XOne')|(pltfrm_age['platform']=='PC')]"
   ]
  },
  {
   "cell_type": "code",
   "execution_count": 1389,
   "metadata": {},
   "outputs": [],
   "source": [
    "#we'll take data from 2013 , create 2 sets of all user_scores for XOne and PC\n",
    "g4 =  games2[games2['year_of_release']>=2013]"
   ]
  },
  {
   "cell_type": "code",
   "execution_count": 1390,
   "metadata": {},
   "outputs": [],
   "source": [
    "g4 = g4[['platform','user_score']]"
   ]
  },
  {
   "cell_type": "code",
   "execution_count": 1391,
   "metadata": {},
   "outputs": [],
   "source": [
    "g4 = g4[(g4['platform']=='XOne')|(g4['platform']=='PC')]"
   ]
  },
  {
   "cell_type": "code",
   "execution_count": 1392,
   "metadata": {},
   "outputs": [
    {
     "data": {
      "text/plain": [
       "(247, 190)"
      ]
     },
     "execution_count": 1392,
     "metadata": {},
     "output_type": "execute_result"
    }
   ],
   "source": [
    "g4[(g4['platform']=='XOne')].shape[0] , g4[(g4['platform']=='PC')].shape[0]"
   ]
  },
  {
   "cell_type": "code",
   "execution_count": 1393,
   "metadata": {},
   "outputs": [
    {
     "data": {
      "text/plain": [
       "57"
      ]
     },
     "execution_count": 1393,
     "metadata": {},
     "output_type": "execute_result"
    }
   ],
   "source": [
    "247-190\n",
    "#need to drop 57 rows from XOne"
   ]
  },
  {
   "cell_type": "code",
   "execution_count": 1394,
   "metadata": {},
   "outputs": [],
   "source": [
    "x_one_u_scores= pd.DataFrame(g4.loc[g4['platform']=='XOne','user_score'].reset_index())"
   ]
  },
  {
   "cell_type": "code",
   "execution_count": 1395,
   "metadata": {},
   "outputs": [],
   "source": [
    "x_one_u_scores = x_one_u_scores.drop(columns='index')"
   ]
  },
  {
   "cell_type": "code",
   "execution_count": 1396,
   "metadata": {},
   "outputs": [],
   "source": [
    "#x_one_u_scores = x_one_u_scores.iloc[0:190]"
   ]
  },
  {
   "cell_type": "code",
   "execution_count": 1397,
   "metadata": {},
   "outputs": [
    {
     "data": {
      "text/plain": [
       "247"
      ]
     },
     "execution_count": 1397,
     "metadata": {},
     "output_type": "execute_result"
    }
   ],
   "source": [
    "x_one_u_scores.shape[0]"
   ]
  },
  {
   "cell_type": "code",
   "execution_count": 1398,
   "metadata": {},
   "outputs": [],
   "source": [
    "pc_u_scores = pd.DataFrame(g4.loc[g4['platform']=='PC','user_score'].reset_index())"
   ]
  },
  {
   "cell_type": "code",
   "execution_count": 1399,
   "metadata": {},
   "outputs": [],
   "source": [
    "pc_u_scores = pc_u_scores.drop(columns='index')"
   ]
  },
  {
   "cell_type": "code",
   "execution_count": 1400,
   "metadata": {},
   "outputs": [
    {
     "data": {
      "text/plain": [
       "(190, 247)"
      ]
     },
     "execution_count": 1400,
     "metadata": {},
     "output_type": "execute_result"
    }
   ],
   "source": [
    "pc_u_scores.shape[0],x_one_u_scores.shape[0]"
   ]
  },
  {
   "cell_type": "code",
   "execution_count": null,
   "metadata": {},
   "outputs": [],
   "source": []
  },
  {
   "cell_type": "code",
   "execution_count": 1432,
   "metadata": {},
   "outputs": [
    {
     "name": "stdout",
     "output_type": "stream",
     "text": [
      "p-value:  [0.05271012]\n",
      "We can't reject the null hypothesis\n"
     ]
    }
   ],
   "source": [
    "sample1 = x_one_u_scores.sample(50)\n",
    "sample2 = pc_u_scores.sample(50)\n",
    "alpha = 0.05  \n",
    "\n",
    "results = st.ttest_ind(sample1, sample2)\n",
    "\n",
    "print('p-value: ', results.pvalue)\n",
    "\n",
    "if results.pvalue < alpha:\n",
    "    print(\"We reject the null hypothesis\")\n",
    "else:\n",
    "    print(\"We can't reject the null hypothesis\") "
   ]
  },
  {
   "cell_type": "markdown",
   "metadata": {},
   "source": [
    "*****This points out that there is a similarity between PC and  XOne - and this aligns with the fact that there are games made for PC and XOne at the same time*****"
   ]
  },
  {
   "cell_type": "markdown",
   "metadata": {},
   "source": [
    "***************\n",
    "**H1 = Average user ratings for the Action and Sports genres are different.**\n",
    "- To test H1 we'll take all the user scores for the Action and Sport genres and create a set for each platform, we'll test the hypotheses by taking 50 random samples from each."
   ]
  },
  {
   "cell_type": "code",
   "execution_count": 1420,
   "metadata": {},
   "outputs": [],
   "source": [
    "#taking data from the g3 -2014 ->2016 \n",
    "g5 = g3[['genre','user_score']]"
   ]
  },
  {
   "cell_type": "code",
   "execution_count": 1421,
   "metadata": {},
   "outputs": [],
   "source": [
    "g5 = g5[(g5['genre']=='Action')|(g5['genre']=='Sports')]"
   ]
  },
  {
   "cell_type": "code",
   "execution_count": 1422,
   "metadata": {},
   "outputs": [],
   "source": [
    "action_df = pd.DataFrame(g5.loc[g5['genre']=='Action','user_score'].reset_index())"
   ]
  },
  {
   "cell_type": "code",
   "execution_count": 1423,
   "metadata": {},
   "outputs": [],
   "source": [
    "action_df = action_df.drop(columns='index')"
   ]
  },
  {
   "cell_type": "code",
   "execution_count": 1424,
   "metadata": {},
   "outputs": [
    {
     "data": {
      "text/plain": [
       "619"
      ]
     },
     "execution_count": 1424,
     "metadata": {},
     "output_type": "execute_result"
    }
   ],
   "source": [
    "action_df.shape[0]"
   ]
  },
  {
   "cell_type": "code",
   "execution_count": 1425,
   "metadata": {},
   "outputs": [
    {
     "data": {
      "text/html": [
       "<div>\n",
       "<style scoped>\n",
       "    .dataframe tbody tr th:only-of-type {\n",
       "        vertical-align: middle;\n",
       "    }\n",
       "\n",
       "    .dataframe tbody tr th {\n",
       "        vertical-align: top;\n",
       "    }\n",
       "\n",
       "    .dataframe thead th {\n",
       "        text-align: right;\n",
       "    }\n",
       "</style>\n",
       "<table border=\"1\" class=\"dataframe\">\n",
       "  <thead>\n",
       "    <tr style=\"text-align: right;\">\n",
       "      <th></th>\n",
       "      <th>user_score</th>\n",
       "    </tr>\n",
       "    <tr>\n",
       "      <th>genre</th>\n",
       "      <th></th>\n",
       "    </tr>\n",
       "  </thead>\n",
       "  <tbody>\n",
       "    <tr>\n",
       "      <th>Action</th>\n",
       "      <td>619</td>\n",
       "    </tr>\n",
       "    <tr>\n",
       "      <th>Sports</th>\n",
       "      <td>161</td>\n",
       "    </tr>\n",
       "  </tbody>\n",
       "</table>\n",
       "</div>"
      ],
      "text/plain": [
       "        user_score\n",
       "genre             \n",
       "Action         619\n",
       "Sports         161"
      ]
     },
     "execution_count": 1425,
     "metadata": {},
     "output_type": "execute_result"
    }
   ],
   "source": [
    "g5.groupby('genre').count()"
   ]
  },
  {
   "cell_type": "code",
   "execution_count": 1426,
   "metadata": {},
   "outputs": [],
   "source": [
    "sports_df = pd.DataFrame(g5.loc[g5['genre']=='Sports','user_score'].reset_index())"
   ]
  },
  {
   "cell_type": "code",
   "execution_count": 1427,
   "metadata": {},
   "outputs": [],
   "source": [
    "sports_df = sports_df.drop(columns='index')"
   ]
  },
  {
   "cell_type": "code",
   "execution_count": 1428,
   "metadata": {},
   "outputs": [
    {
     "data": {
      "text/plain": [
       "161"
      ]
     },
     "execution_count": 1428,
     "metadata": {},
     "output_type": "execute_result"
    }
   ],
   "source": [
    "sports_df.shape[0]"
   ]
  },
  {
   "cell_type": "code",
   "execution_count": 1437,
   "metadata": {},
   "outputs": [
    {
     "name": "stdout",
     "output_type": "stream",
     "text": [
      "p-value:  [2.47879425e-33]\n",
      "We can't reject the hypothesis\n"
     ]
    }
   ],
   "source": [
    "# i choose a very small alpha to give an ample window to the hypotheses to see how Action and sport do not differ\n",
    "sample1 = action_df.sample(50)\n",
    "sample2 = sports_df.sample(50)\n",
    "alpha = 0.01  \n",
    "\n",
    "results = st.ttest_ind(action_df, sports_df)\n",
    "\n",
    "print('p-value: ', results.pvalue)\n",
    "\n",
    "if results.pvalue < alpha:\n",
    "    print(\"We can't reject the hypothesis \")\n",
    "else:\n",
    "    print(\"We reject the hypothesis \") "
   ]
  },
  {
   "cell_type": "markdown",
   "metadata": {},
   "source": [
    "*****This means that there is a difference between user scores for Action and sports, even after lowering the alpha much more*****\n"
   ]
  },
  {
   "cell_type": "markdown",
   "metadata": {},
   "source": [
    "# Conclusion: \n"
   ]
  },
  {
   "cell_type": "markdown",
   "metadata": {},
   "source": [
    "*****The simplest and most effective campaign is to  use the newest consoles -Ps4 and XOne -  within the Action and Shooter categories  with the best critic scores to lure more buyers to the store. But it is importand to undestand how the industry is always in flux as new games and new consoles keep popping up. With more advanced tools like machine learning we could refine the data even more and more precisely.Another insight is how games are moslty for adults, but we can see how in Japan Nintendo has a grip in the market with games as they are one of the most original innovators and not only that - they have a very loyal following with gamers that grew up on their I.p like Mario and Zelda.*****\n",
    "\n",
    "*****To reitarate I added two plots bellow*****"
   ]
  },
  {
   "cell_type": "markdown",
   "metadata": {},
   "source": [
    "<div class=\"alert alert-block alert-info\">\n",
    "<b>Recomendation : Because Ice sells games all over the world I would recomend to market Action and Shooter games that are ported to the latest platforms, but to include also Nintendo games for the Japanese market that way the most profitable markets are covered.</b> <a class=\"tocSkip\"></a>\n",
    "</div>"
   ]
  },
  {
   "cell_type": "code",
   "execution_count": 966,
   "metadata": {},
   "outputs": [
    {
     "data": {
      "image/png": "[encoded data removed]",
      "text/plain": [
       "<Figure size 432x288 with 1 Axes>"
      ]
     },
     "metadata": {
      "needs_background": "light"
     },
     "output_type": "display_data"
    },
    {
     "data": {
      "image/png": "[encoded data removed]",
      "text/plain": [
       "<Figure size 720x288 with 1 Axes>"
      ]
     },
     "metadata": {
      "needs_background": "light"
     },
     "output_type": "display_data"
    }
   ],
   "source": [
    "g=sns.catplot(x=\"platform\", y=\"total_sales\", kind=\"bar\", data=sales_means,height=4, aspect=1.5).set(\n",
    "    title='Average Sales per Platform(2014-2016)')\n",
    "plt.show()\n",
    "#-----------------\n",
    "g=sns.catplot(x=\"genre\", y=\"total_sales\", kind=\"bar\", data=genre_latest_df,height=4, aspect=2.5).set(title='Sales by genre(2014-2016)')\n",
    "plt.show()"
   ]
  },
  {
   "cell_type": "code",
   "execution_count": null,
   "metadata": {},
   "outputs": [],
   "source": []
  }
 ],
 "metadata": {
  "ExecuteTimeLog": [
   {
    "duration": 233,
    "start_time": "2022-02-24T05:33:37.069Z"
   },
   {
    "duration": 114,
    "start_time": "2022-02-24T07:07:18.740Z"
   },
   {
    "duration": 362,
    "start_time": "2022-02-24T07:10:54.623Z"
   }
  ],
  "kernelspec": {
   "display_name": "Python 3",
   "language": "python",
   "name": "python3"
  },
  "language_info": {
   "codemirror_mode": {
    "name": "ipython",
    "version": 3
   },
   "file_extension": ".py",
   "mimetype": "text/x-python",
   "name": "python",
   "nbconvert_exporter": "python",
   "pygments_lexer": "ipython3",
   "version": "3.7.0"
  },
  "toc": {
   "base_numbering": 1,
   "nav_menu": {},
   "number_sections": true,
   "sideBar": true,
   "skip_h1_title": true,
   "title_cell": "Table of Contents",
   "title_sidebar": "Contents",
   "toc_cell": false,
   "toc_position": {},
   "toc_section_display": true,
   "toc_window_display": false
  }
 },
 "nbformat": 4,
 "nbformat_minor": 2
}
